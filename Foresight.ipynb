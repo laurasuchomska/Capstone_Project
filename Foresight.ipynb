{
 "cells": [
  {
   "cell_type": "markdown",
   "metadata": {},
   "source": [
    "# * Foresight *\n",
    "\n",
    "Implementing data to inform business decisions "
   ]
  },
  {
   "cell_type": "markdown",
   "metadata": {},
   "source": [
    "# Executive Summary\n",
    "\n",
    "The Play Store apps data has enormous potential to drive app-making businesses to success. Actionable insights can be drawn for developers to work on and capture the Android market\n",
    "\n",
    "In a world overwhelmed by choice, decision making and buying behaviour encompasses more than a well-executed great idea. Consumers are relying on their fellow consumers' experience and feedback, regarding a purchased product or service. Currently, the demand for reviews is such, that even shorts were created for consumers to perceive more reviews at a faster pace: Ratings! In the form of stars, points, thumbs up, etc. Together with text reviews, ratings have become pivotal in today's decision making and buying behaviour. \n",
    "\n",
    "Consequently, this becomes an important question from the business perspective, as it can help companies to understand the customer's current needs are, including costumer's profiling, target audience for certain types of Apps, and feedback for improving currently existing applications.\n",
    "\n",
    "Ratings have become critical factor for an app to go viral. So, before one even spends time and money before I even spend on creating an app, it is important to know what consumers have already said about similar apps. Assimilating consumers' feedback into the creation of a mobile application, could arguably be what determines its success or failure. \n",
    "\n",
    "Foresight is a tool which uses machine learning techniques to investigate mobile apps ratings and help developers and investors to foresee potential issues with their mobile app design and execution. \n",
    "\n",
    "\n",
    "# Table of Contents:\n",
    "\n",
    "1. Importing Libraries\n",
    "\n",
    "2. Uploading data\n",
    "\n",
    "3. Features\n",
    "\n",
    "4. Data Cleaning \n",
    "    \n",
    "5. Exploratory Data Analysis \n",
    "\n",
    "6. Data Visualization\n",
    "\n",
    "7. Data Preparation \n",
    "\n",
    "8. Modelling\n",
    "\n",
    "9. Evaluation"
   ]
  },
  {
   "cell_type": "markdown",
   "metadata": {},
   "source": [
    "# 1. Importing Libraries\n",
    "Uploading tools packages in order to perform the necessary data preparation and analysis "
   ]
  },
  {
   "cell_type": "code",
   "execution_count": 1,
   "metadata": {},
   "outputs": [],
   "source": [
    "# linear algebra\n",
    "import numpy as np \n",
    "# data processing, CSV file I/O (e.g. pd.read_csv)\n",
    "import pandas as pd\n",
    "\n",
    "#Data visualization\n",
    "import matplotlib.pyplot as plt\n",
    "from matplotlib import rcParams\n",
    "import plotly.figure_factory as ff\n",
    "import seaborn as sns \n",
    "color = sns.color_palette()\n",
    "\n",
    "# scikit-learn functions for predictive data analysis\n",
    "from sklearn import metrics\n",
    "from sklearn import preprocessing\n",
    "from sklearn.svm import SVC\n",
    "from sklearn.model_selection import KFold\n",
    "from sklearn.preprocessing import StandardScaler\n",
    "from sklearn.feature_selection import RFE\n",
    "from sklearn.model_selection import train_test_split\n",
    "from sklearn.linear_model import LogisticRegression\n",
    "from sklearn.ensemble import RandomForestClassifier\n",
    "from sklearn.tree import DecisionTreeClassifier\n",
    "from sklearn.ensemble import AdaBoostClassifier\n",
    "from sklearn.multiclass import OneVsRestClassifier\n",
    "from sklearn.ensemble import GradientBoostingRegressor\n",
    "from sklearn.metrics import confusion_matrix, plot_confusion_matrix\n",
    "from sklearn.metrics import roc_auc_score, roc_curve, auc\n",
    "from sklearn.model_selection import GridSearchCV, StratifiedKFold\n",
    "from sklearn.metrics import classification_report\n",
    "from sklearn.model_selection import cross_val_score\n",
    "from sklearn.metrics import precision_score, recall_score, accuracy_score, f1_score\n",
    "from sklearn.preprocessing import LabelEncoder, OneHotEncoder\n",
    "from sklearn.ensemble import VotingClassifier, BaggingClassifier, AdaBoostClassifier\n",
    "\n",
    "# Statistical functions\n",
    "from statsmodels.formula.api import ols\n",
    "from statsmodels.stats.outliers_influence import variance_inflation_factor\n",
    "import statsmodels.api as sm\n",
    "import scipy.stats as stats\n",
    "import scipy as sp\n",
    "import random\n",
    "\n",
    "%matplotlib inline\n",
    "\n",
    "from mlxtend.plotting import plot_decision_regions\n",
    "# Binarising our target variable\n",
    "from sklearn.preprocessing import LabelBinarizer\n",
    "\n",
    "import warnings\n",
    "warnings.filterwarnings('ignore')"
   ]
  },
  {
   "cell_type": "markdown",
   "metadata": {},
   "source": [
    "# 2. Uploading Data\n",
    "The dataset used in this project was obtained from Kaggle, and comprise a selection of mobile applications, their features, and their respective customers' ratings and reviews. "
   ]
  },
  {
   "cell_type": "code",
   "execution_count": 2,
   "metadata": {},
   "outputs": [
    {
     "data": {
      "text/html": [
       "<div>\n",
       "<style scoped>\n",
       "    .dataframe tbody tr th:only-of-type {\n",
       "        vertical-align: middle;\n",
       "    }\n",
       "\n",
       "    .dataframe tbody tr th {\n",
       "        vertical-align: top;\n",
       "    }\n",
       "\n",
       "    .dataframe thead th {\n",
       "        text-align: right;\n",
       "    }\n",
       "</style>\n",
       "<table border=\"1\" class=\"dataframe\">\n",
       "  <thead>\n",
       "    <tr style=\"text-align: right;\">\n",
       "      <th></th>\n",
       "      <th>App</th>\n",
       "      <th>Category</th>\n",
       "      <th>Rating</th>\n",
       "      <th>Reviews</th>\n",
       "      <th>Size</th>\n",
       "      <th>Installs</th>\n",
       "      <th>Type</th>\n",
       "      <th>Price</th>\n",
       "      <th>Content Rating</th>\n",
       "      <th>Genres</th>\n",
       "      <th>Last Updated</th>\n",
       "      <th>Current Ver</th>\n",
       "      <th>Android Ver</th>\n",
       "    </tr>\n",
       "  </thead>\n",
       "  <tbody>\n",
       "    <tr>\n",
       "      <td>0</td>\n",
       "      <td>Photo Editor &amp; Candy Camera &amp; Grid &amp; ScrapBook</td>\n",
       "      <td>ART_AND_DESIGN</td>\n",
       "      <td>4.1</td>\n",
       "      <td>159</td>\n",
       "      <td>19M</td>\n",
       "      <td>10,000+</td>\n",
       "      <td>Free</td>\n",
       "      <td>0</td>\n",
       "      <td>Everyone</td>\n",
       "      <td>Art &amp; Design</td>\n",
       "      <td>January 7, 2018</td>\n",
       "      <td>1.0.0</td>\n",
       "      <td>4.0.3 and up</td>\n",
       "    </tr>\n",
       "    <tr>\n",
       "      <td>1</td>\n",
       "      <td>Coloring book moana</td>\n",
       "      <td>ART_AND_DESIGN</td>\n",
       "      <td>3.9</td>\n",
       "      <td>967</td>\n",
       "      <td>14M</td>\n",
       "      <td>500,000+</td>\n",
       "      <td>Free</td>\n",
       "      <td>0</td>\n",
       "      <td>Everyone</td>\n",
       "      <td>Art &amp; Design;Pretend Play</td>\n",
       "      <td>January 15, 2018</td>\n",
       "      <td>2.0.0</td>\n",
       "      <td>4.0.3 and up</td>\n",
       "    </tr>\n",
       "    <tr>\n",
       "      <td>2</td>\n",
       "      <td>U Launcher Lite – FREE Live Cool Themes, Hide ...</td>\n",
       "      <td>ART_AND_DESIGN</td>\n",
       "      <td>4.7</td>\n",
       "      <td>87510</td>\n",
       "      <td>8.7M</td>\n",
       "      <td>5,000,000+</td>\n",
       "      <td>Free</td>\n",
       "      <td>0</td>\n",
       "      <td>Everyone</td>\n",
       "      <td>Art &amp; Design</td>\n",
       "      <td>August 1, 2018</td>\n",
       "      <td>1.2.4</td>\n",
       "      <td>4.0.3 and up</td>\n",
       "    </tr>\n",
       "    <tr>\n",
       "      <td>3</td>\n",
       "      <td>Sketch - Draw &amp; Paint</td>\n",
       "      <td>ART_AND_DESIGN</td>\n",
       "      <td>4.5</td>\n",
       "      <td>215644</td>\n",
       "      <td>25M</td>\n",
       "      <td>50,000,000+</td>\n",
       "      <td>Free</td>\n",
       "      <td>0</td>\n",
       "      <td>Teen</td>\n",
       "      <td>Art &amp; Design</td>\n",
       "      <td>June 8, 2018</td>\n",
       "      <td>Varies with device</td>\n",
       "      <td>4.2 and up</td>\n",
       "    </tr>\n",
       "    <tr>\n",
       "      <td>4</td>\n",
       "      <td>Pixel Draw - Number Art Coloring Book</td>\n",
       "      <td>ART_AND_DESIGN</td>\n",
       "      <td>4.3</td>\n",
       "      <td>967</td>\n",
       "      <td>2.8M</td>\n",
       "      <td>100,000+</td>\n",
       "      <td>Free</td>\n",
       "      <td>0</td>\n",
       "      <td>Everyone</td>\n",
       "      <td>Art &amp; Design;Creativity</td>\n",
       "      <td>June 20, 2018</td>\n",
       "      <td>1.1</td>\n",
       "      <td>4.4 and up</td>\n",
       "    </tr>\n",
       "  </tbody>\n",
       "</table>\n",
       "</div>"
      ],
      "text/plain": [
       "                                                 App        Category  Rating  \\\n",
       "0     Photo Editor & Candy Camera & Grid & ScrapBook  ART_AND_DESIGN     4.1   \n",
       "1                                Coloring book moana  ART_AND_DESIGN     3.9   \n",
       "2  U Launcher Lite – FREE Live Cool Themes, Hide ...  ART_AND_DESIGN     4.7   \n",
       "3                              Sketch - Draw & Paint  ART_AND_DESIGN     4.5   \n",
       "4              Pixel Draw - Number Art Coloring Book  ART_AND_DESIGN     4.3   \n",
       "\n",
       "  Reviews  Size     Installs  Type Price Content Rating  \\\n",
       "0     159   19M      10,000+  Free     0       Everyone   \n",
       "1     967   14M     500,000+  Free     0       Everyone   \n",
       "2   87510  8.7M   5,000,000+  Free     0       Everyone   \n",
       "3  215644   25M  50,000,000+  Free     0           Teen   \n",
       "4     967  2.8M     100,000+  Free     0       Everyone   \n",
       "\n",
       "                      Genres      Last Updated         Current Ver  \\\n",
       "0               Art & Design   January 7, 2018               1.0.0   \n",
       "1  Art & Design;Pretend Play  January 15, 2018               2.0.0   \n",
       "2               Art & Design    August 1, 2018               1.2.4   \n",
       "3               Art & Design      June 8, 2018  Varies with device   \n",
       "4    Art & Design;Creativity     June 20, 2018                 1.1   \n",
       "\n",
       "    Android Ver  \n",
       "0  4.0.3 and up  \n",
       "1  4.0.3 and up  \n",
       "2  4.0.3 and up  \n",
       "3    4.2 and up  \n",
       "4    4.4 and up  "
      ]
     },
     "execution_count": 2,
     "metadata": {},
     "output_type": "execute_result"
    }
   ],
   "source": [
    "data = pd.read_csv('googleplaystore.csv') # uploads the data in the notebook\n",
    "x=data #attributes the data also to the value of x for future programming \n",
    "data.head() #shows the top 5 data rows and all columns in the data grid"
   ]
  },
  {
   "cell_type": "markdown",
   "metadata": {},
   "source": [
    "# 3. Features\n",
    "The features displyed in the data set include:  "
   ]
  },
  {
   "cell_type": "markdown",
   "metadata": {},
   "source": [
    "1. App (name of the mobile application)\n",
    "2. Category (apps' type of category, including art and design; photography; medical; etc)\n",
    "3. Rating (1-5) \n",
    "4. Number of Reviews (amount of reviews in numbers) \n",
    "5. Size (siza of the app in Megabites)\n",
    "6. Number of Insltallations (number of downloads)\n",
    "7. Type (free or Paid)\n",
    "8. Price (price range for each paid app)\n",
    "9. Content Rating (Age Appropriate)\n",
    "10. Genres (similar to category, the genre indicates what the app isdesign for: art and design; medical; etc.)\n",
    "11. Last Update (the date in which the laterst version of the app was launched to the puclic)\n",
    "12. Current Version (number of the current version)\n",
    "13. Android Version (what android version the app is available for)"
   ]
  },
  {
   "cell_type": "markdown",
   "metadata": {},
   "source": [
    "# 4. Cleaning and formatting Data\n",
    "Apply preprocessing and curation to clean missing values, format data as Dummies"
   ]
  },
  {
   "cell_type": "code",
   "execution_count": 3,
   "metadata": {},
   "outputs": [
    {
     "name": "stdout",
     "output_type": "stream",
     "text": [
      "<class 'pandas.core.frame.DataFrame'>\n",
      "RangeIndex: 10841 entries, 0 to 10840\n",
      "Data columns (total 13 columns):\n",
      "App               10841 non-null object\n",
      "Category          10840 non-null object\n",
      "Rating            9367 non-null float64\n",
      "Reviews           10841 non-null object\n",
      "Size              10841 non-null object\n",
      "Installs          10841 non-null object\n",
      "Type              10840 non-null object\n",
      "Price             10841 non-null object\n",
      "Content Rating    10840 non-null object\n",
      "Genres            10841 non-null object\n",
      "Last Updated      10841 non-null object\n",
      "Current Ver       10833 non-null object\n",
      "Android Ver       10838 non-null object\n",
      "dtypes: float64(1), object(12)\n",
      "memory usage: 1.1+ MB\n"
     ]
    }
   ],
   "source": [
    "data.info() #shows the number of rows and columns "
   ]
  },
  {
   "cell_type": "code",
   "execution_count": 4,
   "metadata": {},
   "outputs": [
    {
     "data": {
      "text/plain": [
       "(10841, 13)"
      ]
     },
     "execution_count": 4,
     "metadata": {},
     "output_type": "execute_result"
    }
   ],
   "source": [
    "data.shape #identifies which columns have null values and how many there are"
   ]
  },
  {
   "cell_type": "code",
   "execution_count": 5,
   "metadata": {},
   "outputs": [
    {
     "data": {
      "text/plain": [
       "19.0"
      ]
     },
     "execution_count": 5,
     "metadata": {},
     "output_type": "execute_result"
    }
   ],
   "source": [
    "data.Rating.max()# exploring scores on the Rating category "
   ]
  },
  {
   "cell_type": "markdown",
   "metadata": {},
   "source": [
    "\n",
    "Whilst exploring the data, it was observed that the maximum score in the Rating category was 19. This contradicts the rating system, which establishes 5 as the maximim possible score."
   ]
  },
  {
   "cell_type": "code",
   "execution_count": 6,
   "metadata": {},
   "outputs": [
    {
     "data": {
      "text/html": [
       "<div>\n",
       "<style scoped>\n",
       "    .dataframe tbody tr th:only-of-type {\n",
       "        vertical-align: middle;\n",
       "    }\n",
       "\n",
       "    .dataframe tbody tr th {\n",
       "        vertical-align: top;\n",
       "    }\n",
       "\n",
       "    .dataframe thead th {\n",
       "        text-align: right;\n",
       "    }\n",
       "</style>\n",
       "<table border=\"1\" class=\"dataframe\">\n",
       "  <thead>\n",
       "    <tr style=\"text-align: right;\">\n",
       "      <th></th>\n",
       "      <th>App</th>\n",
       "      <th>Category</th>\n",
       "      <th>Rating</th>\n",
       "      <th>Reviews</th>\n",
       "      <th>Size</th>\n",
       "      <th>Installs</th>\n",
       "      <th>Type</th>\n",
       "      <th>Price</th>\n",
       "      <th>Content Rating</th>\n",
       "      <th>Genres</th>\n",
       "      <th>Last Updated</th>\n",
       "      <th>Current Ver</th>\n",
       "      <th>Android Ver</th>\n",
       "    </tr>\n",
       "  </thead>\n",
       "  <tbody>\n",
       "    <tr>\n",
       "      <td>10472</td>\n",
       "      <td>Life Made WI-Fi Touchscreen Photo Frame</td>\n",
       "      <td>1.9</td>\n",
       "      <td>19.0</td>\n",
       "      <td>3.0M</td>\n",
       "      <td>1,000+</td>\n",
       "      <td>Free</td>\n",
       "      <td>0</td>\n",
       "      <td>Everyone</td>\n",
       "      <td>NaN</td>\n",
       "      <td>February 11, 2018</td>\n",
       "      <td>1.0.19</td>\n",
       "      <td>4.0 and up</td>\n",
       "      <td>NaN</td>\n",
       "    </tr>\n",
       "  </tbody>\n",
       "</table>\n",
       "</div>"
      ],
      "text/plain": [
       "                                           App Category  Rating Reviews  \\\n",
       "10472  Life Made WI-Fi Touchscreen Photo Frame      1.9    19.0    3.0M   \n",
       "\n",
       "         Size Installs Type     Price Content Rating             Genres  \\\n",
       "10472  1,000+     Free    0  Everyone            NaN  February 11, 2018   \n",
       "\n",
       "      Last Updated Current Ver Android Ver  \n",
       "10472       1.0.19  4.0 and up         NaN  "
      ]
     },
     "execution_count": 6,
     "metadata": {},
     "output_type": "execute_result"
    }
   ],
   "source": [
    "data[data['Rating'] == 19]"
   ]
  },
  {
   "cell_type": "markdown",
   "metadata": {},
   "source": [
    "\n",
    "There is a clear discrepancy with row 10472, hence the row was shifted to the right by one position."
   ]
  },
  {
   "cell_type": "code",
   "execution_count": 7,
   "metadata": {},
   "outputs": [
    {
     "data": {
      "text/html": [
       "<div>\n",
       "<style scoped>\n",
       "    .dataframe tbody tr th:only-of-type {\n",
       "        vertical-align: middle;\n",
       "    }\n",
       "\n",
       "    .dataframe tbody tr th {\n",
       "        vertical-align: top;\n",
       "    }\n",
       "\n",
       "    .dataframe thead th {\n",
       "        text-align: right;\n",
       "    }\n",
       "</style>\n",
       "<table border=\"1\" class=\"dataframe\">\n",
       "  <thead>\n",
       "    <tr style=\"text-align: right;\">\n",
       "      <th></th>\n",
       "      <th>App</th>\n",
       "      <th>Category</th>\n",
       "      <th>Rating</th>\n",
       "      <th>Reviews</th>\n",
       "      <th>Size</th>\n",
       "      <th>Installs</th>\n",
       "      <th>Type</th>\n",
       "      <th>Price</th>\n",
       "      <th>Content Rating</th>\n",
       "      <th>Genres</th>\n",
       "      <th>Last Updated</th>\n",
       "      <th>Current Ver</th>\n",
       "      <th>Android Ver</th>\n",
       "    </tr>\n",
       "  </thead>\n",
       "  <tbody>\n",
       "    <tr>\n",
       "      <td>10471</td>\n",
       "      <td>Xposed Wi-Fi-Pwd</td>\n",
       "      <td>PERSONALIZATION</td>\n",
       "      <td>3.5</td>\n",
       "      <td>1042</td>\n",
       "      <td>404k</td>\n",
       "      <td>100,000+</td>\n",
       "      <td>Free</td>\n",
       "      <td>0</td>\n",
       "      <td>Everyone</td>\n",
       "      <td>Personalization</td>\n",
       "      <td>August 5, 2014</td>\n",
       "      <td>3.0.0</td>\n",
       "      <td>4.0.3 and up</td>\n",
       "    </tr>\n",
       "    <tr>\n",
       "      <td>10472</td>\n",
       "      <td>Life Made WI-Fi Touchscreen Photo Frame</td>\n",
       "      <td>NaN</td>\n",
       "      <td>1.9</td>\n",
       "      <td>19</td>\n",
       "      <td>3.0M</td>\n",
       "      <td>1,000+</td>\n",
       "      <td>Free</td>\n",
       "      <td>0</td>\n",
       "      <td>Everyone</td>\n",
       "      <td>NaN</td>\n",
       "      <td>February 11, 2018</td>\n",
       "      <td>1.0.19</td>\n",
       "      <td>4.0 and up</td>\n",
       "    </tr>\n",
       "  </tbody>\n",
       "</table>\n",
       "</div>"
      ],
      "text/plain": [
       "                                           App         Category Rating  \\\n",
       "10471                         Xposed Wi-Fi-Pwd  PERSONALIZATION    3.5   \n",
       "10472  Life Made WI-Fi Touchscreen Photo Frame              NaN    1.9   \n",
       "\n",
       "      Reviews  Size  Installs  Type Price Content Rating           Genres  \\\n",
       "10471    1042  404k  100,000+  Free     0       Everyone  Personalization   \n",
       "10472      19  3.0M    1,000+  Free     0       Everyone              NaN   \n",
       "\n",
       "            Last Updated Current Ver   Android Ver  \n",
       "10471     August 5, 2014       3.0.0  4.0.3 and up  \n",
       "10472  February 11, 2018      1.0.19    4.0 and up  "
      ]
     },
     "execution_count": 7,
     "metadata": {},
     "output_type": "execute_result"
    }
   ],
   "source": [
    "data.iloc[10472,1:] = data.iloc[10472,1:].shift(1)\n",
    "data[10471:10473]"
   ]
  },
  {
   "cell_type": "markdown",
   "metadata": {},
   "source": [
    "# 4.1 Identifying which columns have null values and how many there are"
   ]
  },
  {
   "cell_type": "code",
   "execution_count": 8,
   "metadata": {},
   "outputs": [
    {
     "data": {
      "text/plain": [
       "App                  0\n",
       "Category             2\n",
       "Rating            1474\n",
       "Reviews              0\n",
       "Size                 0\n",
       "Installs             0\n",
       "Type                 1\n",
       "Price                0\n",
       "Content Rating       0\n",
       "Genres               1\n",
       "Last Updated         0\n",
       "Current Ver          8\n",
       "Android Ver          2\n",
       "dtype: int64"
      ]
     },
     "execution_count": 8,
     "metadata": {},
     "output_type": "execute_result"
    }
   ],
   "source": [
    "data.isnull().sum() "
   ]
  },
  {
   "cell_type": "code",
   "execution_count": 9,
   "metadata": {},
   "outputs": [],
   "source": [
    "data[\"Category\"].fillna(\"PHOTOGRAPHY\", inplace = True) #As the name of the App clealry indicates which category it belongs to. \n",
    "data[\"Type\"].fillna(\"Free\", inplace = True) #As it is the most common type (over 92%)"
   ]
  },
  {
   "cell_type": "markdown",
   "metadata": {},
   "source": [
    "# 4.2 Observing the remainder missing values "
   ]
  },
  {
   "cell_type": "code",
   "execution_count": 10,
   "metadata": {},
   "outputs": [
    {
     "data": {
      "text/html": [
       "<div>\n",
       "<style scoped>\n",
       "    .dataframe tbody tr th:only-of-type {\n",
       "        vertical-align: middle;\n",
       "    }\n",
       "\n",
       "    .dataframe tbody tr th {\n",
       "        vertical-align: top;\n",
       "    }\n",
       "\n",
       "    .dataframe thead th {\n",
       "        text-align: right;\n",
       "    }\n",
       "</style>\n",
       "<table border=\"1\" class=\"dataframe\">\n",
       "  <thead>\n",
       "    <tr style=\"text-align: right;\">\n",
       "      <th></th>\n",
       "      <th>Total</th>\n",
       "      <th>Percent</th>\n",
       "    </tr>\n",
       "  </thead>\n",
       "  <tbody>\n",
       "    <tr>\n",
       "      <td>Rating</td>\n",
       "      <td>1474</td>\n",
       "      <td>0.135965</td>\n",
       "    </tr>\n",
       "    <tr>\n",
       "      <td>Current Ver</td>\n",
       "      <td>8</td>\n",
       "      <td>0.000738</td>\n",
       "    </tr>\n",
       "    <tr>\n",
       "      <td>Android Ver</td>\n",
       "      <td>2</td>\n",
       "      <td>0.000184</td>\n",
       "    </tr>\n",
       "    <tr>\n",
       "      <td>Genres</td>\n",
       "      <td>1</td>\n",
       "      <td>0.000092</td>\n",
       "    </tr>\n",
       "    <tr>\n",
       "      <td>Last Updated</td>\n",
       "      <td>0</td>\n",
       "      <td>0.000000</td>\n",
       "    </tr>\n",
       "    <tr>\n",
       "      <td>Content Rating</td>\n",
       "      <td>0</td>\n",
       "      <td>0.000000</td>\n",
       "    </tr>\n",
       "    <tr>\n",
       "      <td>Price</td>\n",
       "      <td>0</td>\n",
       "      <td>0.000000</td>\n",
       "    </tr>\n",
       "    <tr>\n",
       "      <td>Type</td>\n",
       "      <td>0</td>\n",
       "      <td>0.000000</td>\n",
       "    </tr>\n",
       "    <tr>\n",
       "      <td>Installs</td>\n",
       "      <td>0</td>\n",
       "      <td>0.000000</td>\n",
       "    </tr>\n",
       "    <tr>\n",
       "      <td>Size</td>\n",
       "      <td>0</td>\n",
       "      <td>0.000000</td>\n",
       "    </tr>\n",
       "    <tr>\n",
       "      <td>Reviews</td>\n",
       "      <td>0</td>\n",
       "      <td>0.000000</td>\n",
       "    </tr>\n",
       "    <tr>\n",
       "      <td>Category</td>\n",
       "      <td>0</td>\n",
       "      <td>0.000000</td>\n",
       "    </tr>\n",
       "    <tr>\n",
       "      <td>App</td>\n",
       "      <td>0</td>\n",
       "      <td>0.000000</td>\n",
       "    </tr>\n",
       "  </tbody>\n",
       "</table>\n",
       "</div>"
      ],
      "text/plain": [
       "                Total   Percent\n",
       "Rating           1474  0.135965\n",
       "Current Ver         8  0.000738\n",
       "Android Ver         2  0.000184\n",
       "Genres              1  0.000092\n",
       "Last Updated        0  0.000000\n",
       "Content Rating      0  0.000000\n",
       "Price               0  0.000000\n",
       "Type                0  0.000000\n",
       "Installs            0  0.000000\n",
       "Size                0  0.000000\n",
       "Reviews             0  0.000000\n",
       "Category            0  0.000000\n",
       "App                 0  0.000000"
      ]
     },
     "execution_count": 10,
     "metadata": {},
     "output_type": "execute_result"
    }
   ],
   "source": [
    "total = data.isnull().sum().sort_values(ascending=False)\n",
    "percent = (data.isnull().sum()/data.isnull().count()).sort_values(ascending=False)\n",
    "missing_data = pd.concat([total, percent], axis=1, keys=['Total', 'Percent'])\n",
    "missing_data.head(20)"
   ]
  },
  {
   "cell_type": "markdown",
   "metadata": {},
   "source": [
    "# 4.3 Dropping rows with missing values"
   ]
  },
  {
   "cell_type": "code",
   "execution_count": 11,
   "metadata": {},
   "outputs": [
    {
     "data": {
      "text/html": [
       "<div>\n",
       "<style scoped>\n",
       "    .dataframe tbody tr th:only-of-type {\n",
       "        vertical-align: middle;\n",
       "    }\n",
       "\n",
       "    .dataframe tbody tr th {\n",
       "        vertical-align: top;\n",
       "    }\n",
       "\n",
       "    .dataframe thead th {\n",
       "        text-align: right;\n",
       "    }\n",
       "</style>\n",
       "<table border=\"1\" class=\"dataframe\">\n",
       "  <thead>\n",
       "    <tr style=\"text-align: right;\">\n",
       "      <th></th>\n",
       "      <th>App</th>\n",
       "      <th>Category</th>\n",
       "      <th>Rating</th>\n",
       "      <th>Reviews</th>\n",
       "      <th>Size</th>\n",
       "      <th>Installs</th>\n",
       "      <th>Type</th>\n",
       "      <th>Price</th>\n",
       "      <th>Content Rating</th>\n",
       "      <th>Genres</th>\n",
       "      <th>Last Updated</th>\n",
       "      <th>Current Ver</th>\n",
       "      <th>Android Ver</th>\n",
       "    </tr>\n",
       "  </thead>\n",
       "  <tbody>\n",
       "    <tr>\n",
       "      <td>0</td>\n",
       "      <td>Photo Editor &amp; Candy Camera &amp; Grid &amp; ScrapBook</td>\n",
       "      <td>ART_AND_DESIGN</td>\n",
       "      <td>4.1</td>\n",
       "      <td>159</td>\n",
       "      <td>19M</td>\n",
       "      <td>10,000+</td>\n",
       "      <td>Free</td>\n",
       "      <td>0</td>\n",
       "      <td>Everyone</td>\n",
       "      <td>Art &amp; Design</td>\n",
       "      <td>January 7, 2018</td>\n",
       "      <td>1.0.0</td>\n",
       "      <td>4.0.3 and up</td>\n",
       "    </tr>\n",
       "    <tr>\n",
       "      <td>1</td>\n",
       "      <td>Coloring book moana</td>\n",
       "      <td>ART_AND_DESIGN</td>\n",
       "      <td>3.9</td>\n",
       "      <td>967</td>\n",
       "      <td>14M</td>\n",
       "      <td>500,000+</td>\n",
       "      <td>Free</td>\n",
       "      <td>0</td>\n",
       "      <td>Everyone</td>\n",
       "      <td>Art &amp; Design;Pretend Play</td>\n",
       "      <td>January 15, 2018</td>\n",
       "      <td>2.0.0</td>\n",
       "      <td>4.0.3 and up</td>\n",
       "    </tr>\n",
       "    <tr>\n",
       "      <td>2</td>\n",
       "      <td>U Launcher Lite – FREE Live Cool Themes, Hide ...</td>\n",
       "      <td>ART_AND_DESIGN</td>\n",
       "      <td>4.7</td>\n",
       "      <td>87510</td>\n",
       "      <td>8.7M</td>\n",
       "      <td>5,000,000+</td>\n",
       "      <td>Free</td>\n",
       "      <td>0</td>\n",
       "      <td>Everyone</td>\n",
       "      <td>Art &amp; Design</td>\n",
       "      <td>August 1, 2018</td>\n",
       "      <td>1.2.4</td>\n",
       "      <td>4.0.3 and up</td>\n",
       "    </tr>\n",
       "    <tr>\n",
       "      <td>3</td>\n",
       "      <td>Sketch - Draw &amp; Paint</td>\n",
       "      <td>ART_AND_DESIGN</td>\n",
       "      <td>4.5</td>\n",
       "      <td>215644</td>\n",
       "      <td>25M</td>\n",
       "      <td>50,000,000+</td>\n",
       "      <td>Free</td>\n",
       "      <td>0</td>\n",
       "      <td>Teen</td>\n",
       "      <td>Art &amp; Design</td>\n",
       "      <td>June 8, 2018</td>\n",
       "      <td>Varies with device</td>\n",
       "      <td>4.2 and up</td>\n",
       "    </tr>\n",
       "    <tr>\n",
       "      <td>4</td>\n",
       "      <td>Pixel Draw - Number Art Coloring Book</td>\n",
       "      <td>ART_AND_DESIGN</td>\n",
       "      <td>4.3</td>\n",
       "      <td>967</td>\n",
       "      <td>2.8M</td>\n",
       "      <td>100,000+</td>\n",
       "      <td>Free</td>\n",
       "      <td>0</td>\n",
       "      <td>Everyone</td>\n",
       "      <td>Art &amp; Design;Creativity</td>\n",
       "      <td>June 20, 2018</td>\n",
       "      <td>1.1</td>\n",
       "      <td>4.4 and up</td>\n",
       "    </tr>\n",
       "    <tr>\n",
       "      <td>...</td>\n",
       "      <td>...</td>\n",
       "      <td>...</td>\n",
       "      <td>...</td>\n",
       "      <td>...</td>\n",
       "      <td>...</td>\n",
       "      <td>...</td>\n",
       "      <td>...</td>\n",
       "      <td>...</td>\n",
       "      <td>...</td>\n",
       "      <td>...</td>\n",
       "      <td>...</td>\n",
       "      <td>...</td>\n",
       "      <td>...</td>\n",
       "    </tr>\n",
       "    <tr>\n",
       "      <td>10834</td>\n",
       "      <td>FR Calculator</td>\n",
       "      <td>FAMILY</td>\n",
       "      <td>4</td>\n",
       "      <td>7</td>\n",
       "      <td>2.6M</td>\n",
       "      <td>500+</td>\n",
       "      <td>Free</td>\n",
       "      <td>0</td>\n",
       "      <td>Everyone</td>\n",
       "      <td>Education</td>\n",
       "      <td>June 18, 2017</td>\n",
       "      <td>1.0.0</td>\n",
       "      <td>4.1 and up</td>\n",
       "    </tr>\n",
       "    <tr>\n",
       "      <td>10836</td>\n",
       "      <td>Sya9a Maroc - FR</td>\n",
       "      <td>FAMILY</td>\n",
       "      <td>4.5</td>\n",
       "      <td>38</td>\n",
       "      <td>53M</td>\n",
       "      <td>5,000+</td>\n",
       "      <td>Free</td>\n",
       "      <td>0</td>\n",
       "      <td>Everyone</td>\n",
       "      <td>Education</td>\n",
       "      <td>July 25, 2017</td>\n",
       "      <td>1.48</td>\n",
       "      <td>4.1 and up</td>\n",
       "    </tr>\n",
       "    <tr>\n",
       "      <td>10837</td>\n",
       "      <td>Fr. Mike Schmitz Audio Teachings</td>\n",
       "      <td>FAMILY</td>\n",
       "      <td>5</td>\n",
       "      <td>4</td>\n",
       "      <td>3.6M</td>\n",
       "      <td>100+</td>\n",
       "      <td>Free</td>\n",
       "      <td>0</td>\n",
       "      <td>Everyone</td>\n",
       "      <td>Education</td>\n",
       "      <td>July 6, 2018</td>\n",
       "      <td>1</td>\n",
       "      <td>4.1 and up</td>\n",
       "    </tr>\n",
       "    <tr>\n",
       "      <td>10839</td>\n",
       "      <td>The SCP Foundation DB fr nn5n</td>\n",
       "      <td>BOOKS_AND_REFERENCE</td>\n",
       "      <td>4.5</td>\n",
       "      <td>114</td>\n",
       "      <td>Varies with device</td>\n",
       "      <td>1,000+</td>\n",
       "      <td>Free</td>\n",
       "      <td>0</td>\n",
       "      <td>Mature 17+</td>\n",
       "      <td>Books &amp; Reference</td>\n",
       "      <td>January 19, 2015</td>\n",
       "      <td>Varies with device</td>\n",
       "      <td>Varies with device</td>\n",
       "    </tr>\n",
       "    <tr>\n",
       "      <td>10840</td>\n",
       "      <td>iHoroscope - 2018 Daily Horoscope &amp; Astrology</td>\n",
       "      <td>LIFESTYLE</td>\n",
       "      <td>4.5</td>\n",
       "      <td>398307</td>\n",
       "      <td>19M</td>\n",
       "      <td>10,000,000+</td>\n",
       "      <td>Free</td>\n",
       "      <td>0</td>\n",
       "      <td>Everyone</td>\n",
       "      <td>Lifestyle</td>\n",
       "      <td>July 25, 2018</td>\n",
       "      <td>Varies with device</td>\n",
       "      <td>Varies with device</td>\n",
       "    </tr>\n",
       "  </tbody>\n",
       "</table>\n",
       "<p>9360 rows × 13 columns</p>\n",
       "</div>"
      ],
      "text/plain": [
       "                                                     App             Category  \\\n",
       "0         Photo Editor & Candy Camera & Grid & ScrapBook       ART_AND_DESIGN   \n",
       "1                                    Coloring book moana       ART_AND_DESIGN   \n",
       "2      U Launcher Lite – FREE Live Cool Themes, Hide ...       ART_AND_DESIGN   \n",
       "3                                  Sketch - Draw & Paint       ART_AND_DESIGN   \n",
       "4                  Pixel Draw - Number Art Coloring Book       ART_AND_DESIGN   \n",
       "...                                                  ...                  ...   \n",
       "10834                                      FR Calculator               FAMILY   \n",
       "10836                                   Sya9a Maroc - FR               FAMILY   \n",
       "10837                   Fr. Mike Schmitz Audio Teachings               FAMILY   \n",
       "10839                      The SCP Foundation DB fr nn5n  BOOKS_AND_REFERENCE   \n",
       "10840      iHoroscope - 2018 Daily Horoscope & Astrology            LIFESTYLE   \n",
       "\n",
       "      Rating Reviews                Size     Installs  Type Price  \\\n",
       "0        4.1     159                 19M      10,000+  Free     0   \n",
       "1        3.9     967                 14M     500,000+  Free     0   \n",
       "2        4.7   87510                8.7M   5,000,000+  Free     0   \n",
       "3        4.5  215644                 25M  50,000,000+  Free     0   \n",
       "4        4.3     967                2.8M     100,000+  Free     0   \n",
       "...      ...     ...                 ...          ...   ...   ...   \n",
       "10834      4       7                2.6M         500+  Free     0   \n",
       "10836    4.5      38                 53M       5,000+  Free     0   \n",
       "10837      5       4                3.6M         100+  Free     0   \n",
       "10839    4.5     114  Varies with device       1,000+  Free     0   \n",
       "10840    4.5  398307                 19M  10,000,000+  Free     0   \n",
       "\n",
       "      Content Rating                     Genres      Last Updated  \\\n",
       "0           Everyone               Art & Design   January 7, 2018   \n",
       "1           Everyone  Art & Design;Pretend Play  January 15, 2018   \n",
       "2           Everyone               Art & Design    August 1, 2018   \n",
       "3               Teen               Art & Design      June 8, 2018   \n",
       "4           Everyone    Art & Design;Creativity     June 20, 2018   \n",
       "...              ...                        ...               ...   \n",
       "10834       Everyone                  Education     June 18, 2017   \n",
       "10836       Everyone                  Education     July 25, 2017   \n",
       "10837       Everyone                  Education      July 6, 2018   \n",
       "10839     Mature 17+          Books & Reference  January 19, 2015   \n",
       "10840       Everyone                  Lifestyle     July 25, 2018   \n",
       "\n",
       "              Current Ver         Android Ver  \n",
       "0                   1.0.0        4.0.3 and up  \n",
       "1                   2.0.0        4.0.3 and up  \n",
       "2                   1.2.4        4.0.3 and up  \n",
       "3      Varies with device          4.2 and up  \n",
       "4                     1.1          4.4 and up  \n",
       "...                   ...                 ...  \n",
       "10834               1.0.0          4.1 and up  \n",
       "10836                1.48          4.1 and up  \n",
       "10837                   1          4.1 and up  \n",
       "10839  Varies with device  Varies with device  \n",
       "10840  Varies with device  Varies with device  \n",
       "\n",
       "[9360 rows x 13 columns]"
      ]
     },
     "execution_count": 11,
     "metadata": {},
     "output_type": "execute_result"
    }
   ],
   "source": [
    "df1 = data.dropna(axis=0, how='any', thresh=None, subset=None, inplace=False)\n",
    "df1"
   ]
  },
  {
   "cell_type": "markdown",
   "metadata": {},
   "source": [
    "# 4.4 Assessing the number of paid vs free apps"
   ]
  },
  {
   "cell_type": "code",
   "execution_count": 12,
   "metadata": {},
   "outputs": [
    {
     "name": "stdout",
     "output_type": "stream",
     "text": [
      "Free Apps 8715\n",
      "Paid Apps 645\n"
     ]
    }
   ],
   "source": [
    "print(\"Free Apps\",len(df1[df1['Type'] == \"Free\"]))\n",
    "print(\"Paid Apps\",len(df1[df1['Type'] == \"Paid\"]))"
   ]
  },
  {
   "cell_type": "markdown",
   "metadata": {},
   "source": [
    "# 4.5 checking for missing values "
   ]
  },
  {
   "cell_type": "code",
   "execution_count": 13,
   "metadata": {},
   "outputs": [
    {
     "data": {
      "text/plain": [
       "App               0\n",
       "Category          0\n",
       "Rating            0\n",
       "Reviews           0\n",
       "Size              0\n",
       "Installs          0\n",
       "Type              0\n",
       "Price             0\n",
       "Content Rating    0\n",
       "Genres            0\n",
       "Last Updated      0\n",
       "Current Ver       0\n",
       "Android Ver       0\n",
       "dtype: int64"
      ]
     },
     "execution_count": 13,
     "metadata": {},
     "output_type": "execute_result"
    }
   ],
   "source": [
    "df1.isnull().sum()"
   ]
  },
  {
   "cell_type": "markdown",
   "metadata": {},
   "source": [
    "# 4.6 Removing unnecessary signs and symbols from the dataset"
   ]
  },
  {
   "cell_type": "code",
   "execution_count": 14,
   "metadata": {},
   "outputs": [],
   "source": [
    "df1['Size'] = df1['Size'].apply(lambda x: str(x).replace('M',''))\n",
    "df1['Size'] = df1['Size'].apply(lambda x: str(x).replace('k',''))\n",
    "df1['Size'] = df1['Size'].apply(lambda x: str(x).replace('+',''))"
   ]
  },
  {
   "cell_type": "code",
   "execution_count": 15,
   "metadata": {},
   "outputs": [],
   "source": [
    "df1['App'] = df1['App'].apply(lambda x: str(x).replace(\"?\",\" \"))\n",
    "df1['App'] = df1['App'].apply(lambda x: str(x).replace(\"&\",\" \"))\n",
    "df1['App'] = df1['App'].apply(lambda x: str(x).replace(\"'\",\" \"))\n",
    "df1['App'] = df1['App'].apply(lambda x: str(x).replace(\"-\",\" \"))\n",
    "df1['App'] = df1['App'].apply(lambda x: str(x).replace(\",\",\" \"))"
   ]
  },
  {
   "cell_type": "code",
   "execution_count": 16,
   "metadata": {},
   "outputs": [],
   "source": [
    "df1[\"Category\"]=[each.replace(\"_\",\" \") for each in df1.Category]\n",
    "df1[\"Price\"]=[each.replace(\"$\",\" \") for each in df1.Price]"
   ]
  },
  {
   "cell_type": "code",
   "execution_count": 17,
   "metadata": {},
   "outputs": [],
   "source": [
    "df1.Installs = df1.Installs.apply(lambda x: x.replace('+', '') if '+' in str(x) else x)\n",
    "df1.Installs = df1.Installs.apply(lambda x: x.replace(',', '') if ',' in str(x) else x)\n",
    "df1.Installs = df1.Installs.apply(lambda x: int(x))"
   ]
  },
  {
   "cell_type": "markdown",
   "metadata": {},
   "source": [
    "# 4.7 Assessing values in the 'Android Version' feature"
   ]
  },
  {
   "cell_type": "code",
   "execution_count": 18,
   "metadata": {},
   "outputs": [
    {
     "data": {
      "text/plain": [
       "4.1 and up            2059\n",
       "Varies with device    1319\n",
       "4.0.3 and up          1240\n",
       "4.0 and up            1129\n",
       "4.4 and up             875\n",
       "2.3 and up             582\n",
       "5.0 and up             535\n",
       "4.2 and up             337\n",
       "2.3.3 and up           240\n",
       "3.0 and up             211\n",
       "2.2 and up             208\n",
       "4.3 and up             207\n",
       "2.1 and up             113\n",
       "1.6 and up              87\n",
       "6.0 and up              48\n",
       "7.0 and up              41\n",
       "3.2 and up              31\n",
       "2.0 and up              27\n",
       "5.1 and up              18\n",
       "1.5 and up              15\n",
       "3.1 and up               8\n",
       "2.0.1 and up             7\n",
       "4.4W and up              6\n",
       "8.0 and up               5\n",
       "7.1 and up               3\n",
       "4.0.3 - 7.1.1            2\n",
       "5.0 - 8.0                2\n",
       "1.0 and up               2\n",
       "7.0 - 7.1.1              1\n",
       "5.0 - 6.0                1\n",
       "4.1 - 7.1.1              1\n",
       "Name: Android Ver, dtype: int64"
      ]
     },
     "execution_count": 18,
     "metadata": {},
     "output_type": "execute_result"
    }
   ],
   "source": [
    "df1['Android Ver'].value_counts()"
   ]
  },
  {
   "cell_type": "markdown",
   "metadata": {},
   "source": [
    "# 4.8 Reassessing missing values"
   ]
  },
  {
   "cell_type": "code",
   "execution_count": 19,
   "metadata": {},
   "outputs": [
    {
     "data": {
      "text/plain": [
       "App               0\n",
       "Category          0\n",
       "Rating            0\n",
       "Reviews           0\n",
       "Size              0\n",
       "Installs          0\n",
       "Type              0\n",
       "Price             0\n",
       "Content Rating    0\n",
       "Genres            0\n",
       "Last Updated      0\n",
       "Current Ver       0\n",
       "Android Ver       0\n",
       "dtype: int64"
      ]
     },
     "execution_count": 19,
     "metadata": {},
     "output_type": "execute_result"
    }
   ],
   "source": [
    "df1.isnull().sum()"
   ]
  },
  {
   "cell_type": "markdown",
   "metadata": {},
   "source": [
    "# 4.9 Amending values to fit models"
   ]
  },
  {
   "cell_type": "code",
   "execution_count": 20,
   "metadata": {},
   "outputs": [],
   "source": [
    "df1.Size=df1.Size.replace('Varies with device', df1.mean())\n",
    "df1.Size=df1.Size.replace('1,000+',1000)"
   ]
  },
  {
   "cell_type": "markdown",
   "metadata": {},
   "source": [
    "# 4.10 Coercing errors"
   ]
  },
  {
   "cell_type": "code",
   "execution_count": 21,
   "metadata": {},
   "outputs": [],
   "source": [
    "df1.Reviews = pd.to_numeric(df1.Reviews, errors='coerce')\n",
    "df1.Rating = pd.to_numeric(df1.Rating, errors='coerce')"
   ]
  },
  {
   "cell_type": "code",
   "execution_count": 22,
   "metadata": {},
   "outputs": [
    {
     "name": "stdout",
     "output_type": "stream",
     "text": [
      "<class 'pandas.core.frame.DataFrame'>\n",
      "Int64Index: 9360 entries, 0 to 10840\n",
      "Data columns (total 13 columns):\n",
      "App               9360 non-null object\n",
      "Category          9360 non-null object\n",
      "Rating            9360 non-null float64\n",
      "Reviews           9360 non-null int64\n",
      "Size              9360 non-null object\n",
      "Installs          9360 non-null int64\n",
      "Type              9360 non-null object\n",
      "Price             9360 non-null object\n",
      "Content Rating    9360 non-null object\n",
      "Genres            9360 non-null object\n",
      "Last Updated      9360 non-null object\n",
      "Current Ver       9360 non-null object\n",
      "Android Ver       9360 non-null object\n",
      "dtypes: float64(1), int64(2), object(10)\n",
      "memory usage: 1.3+ MB\n"
     ]
    }
   ],
   "source": [
    "df1.info()#reassessing the dataframe"
   ]
  },
  {
   "cell_type": "code",
   "execution_count": 23,
   "metadata": {},
   "outputs": [
    {
     "data": {
      "text/plain": [
       "(9360, 13)"
      ]
     },
     "execution_count": 23,
     "metadata": {},
     "output_type": "execute_result"
    }
   ],
   "source": [
    "df2 = df1\n",
    "df2.shape"
   ]
  },
  {
   "cell_type": "code",
   "execution_count": 24,
   "metadata": {},
   "outputs": [
    {
     "data": {
      "text/html": [
       "<div>\n",
       "<style scoped>\n",
       "    .dataframe tbody tr th:only-of-type {\n",
       "        vertical-align: middle;\n",
       "    }\n",
       "\n",
       "    .dataframe tbody tr th {\n",
       "        vertical-align: top;\n",
       "    }\n",
       "\n",
       "    .dataframe thead th {\n",
       "        text-align: right;\n",
       "    }\n",
       "</style>\n",
       "<table border=\"1\" class=\"dataframe\">\n",
       "  <thead>\n",
       "    <tr style=\"text-align: right;\">\n",
       "      <th></th>\n",
       "      <th>App</th>\n",
       "      <th>Category</th>\n",
       "      <th>Rating</th>\n",
       "      <th>Reviews</th>\n",
       "      <th>Size</th>\n",
       "      <th>Installs</th>\n",
       "      <th>Type</th>\n",
       "      <th>Price</th>\n",
       "      <th>Content Rating</th>\n",
       "      <th>Genres</th>\n",
       "      <th>Last Updated</th>\n",
       "      <th>Current Ver</th>\n",
       "      <th>Android Ver</th>\n",
       "    </tr>\n",
       "  </thead>\n",
       "  <tbody>\n",
       "    <tr>\n",
       "      <td>0</td>\n",
       "      <td>Photo Editor   Candy Camera   Grid   ScrapBook</td>\n",
       "      <td>ART AND DESIGN</td>\n",
       "      <td>4.1</td>\n",
       "      <td>159</td>\n",
       "      <td>19</td>\n",
       "      <td>10000</td>\n",
       "      <td>Free</td>\n",
       "      <td>0</td>\n",
       "      <td>Everyone</td>\n",
       "      <td>Art &amp; Design</td>\n",
       "      <td>January 7, 2018</td>\n",
       "      <td>1.0.0</td>\n",
       "      <td>4.0.3 and up</td>\n",
       "    </tr>\n",
       "    <tr>\n",
       "      <td>1</td>\n",
       "      <td>Coloring book moana</td>\n",
       "      <td>ART AND DESIGN</td>\n",
       "      <td>3.9</td>\n",
       "      <td>967</td>\n",
       "      <td>14</td>\n",
       "      <td>500000</td>\n",
       "      <td>Free</td>\n",
       "      <td>0</td>\n",
       "      <td>Everyone</td>\n",
       "      <td>Art &amp; Design;Pretend Play</td>\n",
       "      <td>January 15, 2018</td>\n",
       "      <td>2.0.0</td>\n",
       "      <td>4.0.3 and up</td>\n",
       "    </tr>\n",
       "    <tr>\n",
       "      <td>2</td>\n",
       "      <td>U Launcher Lite – FREE Live Cool Themes  Hide ...</td>\n",
       "      <td>ART AND DESIGN</td>\n",
       "      <td>4.7</td>\n",
       "      <td>87510</td>\n",
       "      <td>8.7</td>\n",
       "      <td>5000000</td>\n",
       "      <td>Free</td>\n",
       "      <td>0</td>\n",
       "      <td>Everyone</td>\n",
       "      <td>Art &amp; Design</td>\n",
       "      <td>August 1, 2018</td>\n",
       "      <td>1.2.4</td>\n",
       "      <td>4.0.3 and up</td>\n",
       "    </tr>\n",
       "    <tr>\n",
       "      <td>3</td>\n",
       "      <td>Sketch   Draw   Paint</td>\n",
       "      <td>ART AND DESIGN</td>\n",
       "      <td>4.5</td>\n",
       "      <td>215644</td>\n",
       "      <td>25</td>\n",
       "      <td>50000000</td>\n",
       "      <td>Free</td>\n",
       "      <td>0</td>\n",
       "      <td>Teen</td>\n",
       "      <td>Art &amp; Design</td>\n",
       "      <td>June 8, 2018</td>\n",
       "      <td>Varies with device</td>\n",
       "      <td>4.2 and up</td>\n",
       "    </tr>\n",
       "    <tr>\n",
       "      <td>4</td>\n",
       "      <td>Pixel Draw   Number Art Coloring Book</td>\n",
       "      <td>ART AND DESIGN</td>\n",
       "      <td>4.3</td>\n",
       "      <td>967</td>\n",
       "      <td>2.8</td>\n",
       "      <td>100000</td>\n",
       "      <td>Free</td>\n",
       "      <td>0</td>\n",
       "      <td>Everyone</td>\n",
       "      <td>Art &amp; Design;Creativity</td>\n",
       "      <td>June 20, 2018</td>\n",
       "      <td>1.1</td>\n",
       "      <td>4.4 and up</td>\n",
       "    </tr>\n",
       "  </tbody>\n",
       "</table>\n",
       "</div>"
      ],
      "text/plain": [
       "                                                 App        Category  Rating  \\\n",
       "0     Photo Editor   Candy Camera   Grid   ScrapBook  ART AND DESIGN     4.1   \n",
       "1                                Coloring book moana  ART AND DESIGN     3.9   \n",
       "2  U Launcher Lite – FREE Live Cool Themes  Hide ...  ART AND DESIGN     4.7   \n",
       "3                              Sketch   Draw   Paint  ART AND DESIGN     4.5   \n",
       "4              Pixel Draw   Number Art Coloring Book  ART AND DESIGN     4.3   \n",
       "\n",
       "   Reviews Size  Installs  Type Price Content Rating  \\\n",
       "0      159   19     10000  Free     0       Everyone   \n",
       "1      967   14    500000  Free     0       Everyone   \n",
       "2    87510  8.7   5000000  Free     0       Everyone   \n",
       "3   215644   25  50000000  Free     0           Teen   \n",
       "4      967  2.8    100000  Free     0       Everyone   \n",
       "\n",
       "                      Genres      Last Updated         Current Ver  \\\n",
       "0               Art & Design   January 7, 2018               1.0.0   \n",
       "1  Art & Design;Pretend Play  January 15, 2018               2.0.0   \n",
       "2               Art & Design    August 1, 2018               1.2.4   \n",
       "3               Art & Design      June 8, 2018  Varies with device   \n",
       "4    Art & Design;Creativity     June 20, 2018                 1.1   \n",
       "\n",
       "    Android Ver  \n",
       "0  4.0.3 and up  \n",
       "1  4.0.3 and up  \n",
       "2  4.0.3 and up  \n",
       "3    4.2 and up  \n",
       "4    4.4 and up  "
      ]
     },
     "execution_count": 24,
     "metadata": {},
     "output_type": "execute_result"
    }
   ],
   "source": [
    "df2.head()#observing features in the dataset"
   ]
  },
  {
   "cell_type": "markdown",
   "metadata": {},
   "source": [
    "# 4.11 Returning number of unique elements in the 'App' feature"
   ]
  },
  {
   "cell_type": "code",
   "execution_count": 25,
   "metadata": {},
   "outputs": [
    {
     "data": {
      "text/plain": [
       "8188"
      ]
     },
     "execution_count": 25,
     "metadata": {},
     "output_type": "execute_result"
    }
   ],
   "source": [
    "df2.App.nunique()"
   ]
  },
  {
   "cell_type": "markdown",
   "metadata": {},
   "source": [
    "# 4.12 Excluding the features which will not be used in the predictive modelling algorithms"
   ]
  },
  {
   "cell_type": "code",
   "execution_count": 26,
   "metadata": {},
   "outputs": [],
   "source": [
    "df2.drop(columns=['Android Ver', 'Current Ver', 'Last Updated'], inplace=True)"
   ]
  },
  {
   "cell_type": "code",
   "execution_count": 27,
   "metadata": {},
   "outputs": [],
   "source": [
    " df2_categorical = pd.get_dummies(df2, columns=['Category', 'Type', 'Genres', 'Content Rating'], drop_first=True) #Converting categorical variable into dummy/indicator variables."
   ]
  },
  {
   "cell_type": "code",
   "execution_count": 28,
   "metadata": {},
   "outputs": [
    {
     "data": {
      "text/html": [
       "<div>\n",
       "<style scoped>\n",
       "    .dataframe tbody tr th:only-of-type {\n",
       "        vertical-align: middle;\n",
       "    }\n",
       "\n",
       "    .dataframe tbody tr th {\n",
       "        vertical-align: top;\n",
       "    }\n",
       "\n",
       "    .dataframe thead th {\n",
       "        text-align: right;\n",
       "    }\n",
       "</style>\n",
       "<table border=\"1\" class=\"dataframe\">\n",
       "  <thead>\n",
       "    <tr style=\"text-align: right;\">\n",
       "      <th></th>\n",
       "      <th>App</th>\n",
       "      <th>Rating</th>\n",
       "      <th>Reviews</th>\n",
       "      <th>Size</th>\n",
       "      <th>Installs</th>\n",
       "      <th>Price</th>\n",
       "      <th>Category_AUTO AND VEHICLES</th>\n",
       "      <th>Category_BEAUTY</th>\n",
       "      <th>Category_BOOKS AND REFERENCE</th>\n",
       "      <th>Category_BUSINESS</th>\n",
       "      <th>...</th>\n",
       "      <th>Genres_Video Players &amp; Editors</th>\n",
       "      <th>Genres_Video Players &amp; Editors;Creativity</th>\n",
       "      <th>Genres_Video Players &amp; Editors;Music &amp; Video</th>\n",
       "      <th>Genres_Weather</th>\n",
       "      <th>Genres_Word</th>\n",
       "      <th>Content Rating_Everyone</th>\n",
       "      <th>Content Rating_Everyone 10+</th>\n",
       "      <th>Content Rating_Mature 17+</th>\n",
       "      <th>Content Rating_Teen</th>\n",
       "      <th>Content Rating_Unrated</th>\n",
       "    </tr>\n",
       "  </thead>\n",
       "  <tbody>\n",
       "    <tr>\n",
       "      <td>0</td>\n",
       "      <td>Photo Editor   Candy Camera   Grid   ScrapBook</td>\n",
       "      <td>4.1</td>\n",
       "      <td>159</td>\n",
       "      <td>19</td>\n",
       "      <td>10000</td>\n",
       "      <td>0</td>\n",
       "      <td>0</td>\n",
       "      <td>0</td>\n",
       "      <td>0</td>\n",
       "      <td>0</td>\n",
       "      <td>...</td>\n",
       "      <td>0</td>\n",
       "      <td>0</td>\n",
       "      <td>0</td>\n",
       "      <td>0</td>\n",
       "      <td>0</td>\n",
       "      <td>1</td>\n",
       "      <td>0</td>\n",
       "      <td>0</td>\n",
       "      <td>0</td>\n",
       "      <td>0</td>\n",
       "    </tr>\n",
       "    <tr>\n",
       "      <td>1</td>\n",
       "      <td>Coloring book moana</td>\n",
       "      <td>3.9</td>\n",
       "      <td>967</td>\n",
       "      <td>14</td>\n",
       "      <td>500000</td>\n",
       "      <td>0</td>\n",
       "      <td>0</td>\n",
       "      <td>0</td>\n",
       "      <td>0</td>\n",
       "      <td>0</td>\n",
       "      <td>...</td>\n",
       "      <td>0</td>\n",
       "      <td>0</td>\n",
       "      <td>0</td>\n",
       "      <td>0</td>\n",
       "      <td>0</td>\n",
       "      <td>1</td>\n",
       "      <td>0</td>\n",
       "      <td>0</td>\n",
       "      <td>0</td>\n",
       "      <td>0</td>\n",
       "    </tr>\n",
       "    <tr>\n",
       "      <td>2</td>\n",
       "      <td>U Launcher Lite – FREE Live Cool Themes  Hide ...</td>\n",
       "      <td>4.7</td>\n",
       "      <td>87510</td>\n",
       "      <td>8.7</td>\n",
       "      <td>5000000</td>\n",
       "      <td>0</td>\n",
       "      <td>0</td>\n",
       "      <td>0</td>\n",
       "      <td>0</td>\n",
       "      <td>0</td>\n",
       "      <td>...</td>\n",
       "      <td>0</td>\n",
       "      <td>0</td>\n",
       "      <td>0</td>\n",
       "      <td>0</td>\n",
       "      <td>0</td>\n",
       "      <td>1</td>\n",
       "      <td>0</td>\n",
       "      <td>0</td>\n",
       "      <td>0</td>\n",
       "      <td>0</td>\n",
       "    </tr>\n",
       "    <tr>\n",
       "      <td>3</td>\n",
       "      <td>Sketch   Draw   Paint</td>\n",
       "      <td>4.5</td>\n",
       "      <td>215644</td>\n",
       "      <td>25</td>\n",
       "      <td>50000000</td>\n",
       "      <td>0</td>\n",
       "      <td>0</td>\n",
       "      <td>0</td>\n",
       "      <td>0</td>\n",
       "      <td>0</td>\n",
       "      <td>...</td>\n",
       "      <td>0</td>\n",
       "      <td>0</td>\n",
       "      <td>0</td>\n",
       "      <td>0</td>\n",
       "      <td>0</td>\n",
       "      <td>0</td>\n",
       "      <td>0</td>\n",
       "      <td>0</td>\n",
       "      <td>1</td>\n",
       "      <td>0</td>\n",
       "    </tr>\n",
       "    <tr>\n",
       "      <td>4</td>\n",
       "      <td>Pixel Draw   Number Art Coloring Book</td>\n",
       "      <td>4.3</td>\n",
       "      <td>967</td>\n",
       "      <td>2.8</td>\n",
       "      <td>100000</td>\n",
       "      <td>0</td>\n",
       "      <td>0</td>\n",
       "      <td>0</td>\n",
       "      <td>0</td>\n",
       "      <td>0</td>\n",
       "      <td>...</td>\n",
       "      <td>0</td>\n",
       "      <td>0</td>\n",
       "      <td>0</td>\n",
       "      <td>0</td>\n",
       "      <td>0</td>\n",
       "      <td>1</td>\n",
       "      <td>0</td>\n",
       "      <td>0</td>\n",
       "      <td>0</td>\n",
       "      <td>0</td>\n",
       "    </tr>\n",
       "  </tbody>\n",
       "</table>\n",
       "<p>5 rows × 158 columns</p>\n",
       "</div>"
      ],
      "text/plain": [
       "                                                 App  Rating  Reviews Size  \\\n",
       "0     Photo Editor   Candy Camera   Grid   ScrapBook     4.1      159   19   \n",
       "1                                Coloring book moana     3.9      967   14   \n",
       "2  U Launcher Lite – FREE Live Cool Themes  Hide ...     4.7    87510  8.7   \n",
       "3                              Sketch   Draw   Paint     4.5   215644   25   \n",
       "4              Pixel Draw   Number Art Coloring Book     4.3      967  2.8   \n",
       "\n",
       "   Installs Price  Category_AUTO AND VEHICLES  Category_BEAUTY  \\\n",
       "0     10000     0                           0                0   \n",
       "1    500000     0                           0                0   \n",
       "2   5000000     0                           0                0   \n",
       "3  50000000     0                           0                0   \n",
       "4    100000     0                           0                0   \n",
       "\n",
       "   Category_BOOKS AND REFERENCE  Category_BUSINESS  ...  \\\n",
       "0                             0                  0  ...   \n",
       "1                             0                  0  ...   \n",
       "2                             0                  0  ...   \n",
       "3                             0                  0  ...   \n",
       "4                             0                  0  ...   \n",
       "\n",
       "   Genres_Video Players & Editors  Genres_Video Players & Editors;Creativity  \\\n",
       "0                               0                                          0   \n",
       "1                               0                                          0   \n",
       "2                               0                                          0   \n",
       "3                               0                                          0   \n",
       "4                               0                                          0   \n",
       "\n",
       "   Genres_Video Players & Editors;Music & Video  Genres_Weather  Genres_Word  \\\n",
       "0                                             0               0            0   \n",
       "1                                             0               0            0   \n",
       "2                                             0               0            0   \n",
       "3                                             0               0            0   \n",
       "4                                             0               0            0   \n",
       "\n",
       "   Content Rating_Everyone  Content Rating_Everyone 10+  \\\n",
       "0                        1                            0   \n",
       "1                        1                            0   \n",
       "2                        1                            0   \n",
       "3                        0                            0   \n",
       "4                        1                            0   \n",
       "\n",
       "   Content Rating_Mature 17+  Content Rating_Teen  Content Rating_Unrated  \n",
       "0                          0                    0                       0  \n",
       "1                          0                    0                       0  \n",
       "2                          0                    0                       0  \n",
       "3                          0                    1                       0  \n",
       "4                          0                    0                       0  \n",
       "\n",
       "[5 rows x 158 columns]"
      ]
     },
     "execution_count": 28,
     "metadata": {},
     "output_type": "execute_result"
    }
   ],
   "source": [
    "df2_categorical.head()"
   ]
  },
  {
   "cell_type": "markdown",
   "metadata": {},
   "source": [
    "# 4.13 Resetting index"
   ]
  },
  {
   "cell_type": "code",
   "execution_count": 29,
   "metadata": {},
   "outputs": [
    {
     "data": {
      "text/html": [
       "<div>\n",
       "<style scoped>\n",
       "    .dataframe tbody tr th:only-of-type {\n",
       "        vertical-align: middle;\n",
       "    }\n",
       "\n",
       "    .dataframe tbody tr th {\n",
       "        vertical-align: top;\n",
       "    }\n",
       "\n",
       "    .dataframe thead th {\n",
       "        text-align: right;\n",
       "    }\n",
       "</style>\n",
       "<table border=\"1\" class=\"dataframe\">\n",
       "  <thead>\n",
       "    <tr style=\"text-align: right;\">\n",
       "      <th></th>\n",
       "      <th>Rating</th>\n",
       "      <th>Reviews</th>\n",
       "      <th>Size</th>\n",
       "      <th>Installs</th>\n",
       "      <th>Price</th>\n",
       "      <th>Category_AUTO AND VEHICLES</th>\n",
       "      <th>Category_BEAUTY</th>\n",
       "      <th>Category_BOOKS AND REFERENCE</th>\n",
       "      <th>Category_BUSINESS</th>\n",
       "      <th>Category_COMICS</th>\n",
       "      <th>...</th>\n",
       "      <th>Genres_Video Players &amp; Editors</th>\n",
       "      <th>Genres_Video Players &amp; Editors;Creativity</th>\n",
       "      <th>Genres_Video Players &amp; Editors;Music &amp; Video</th>\n",
       "      <th>Genres_Weather</th>\n",
       "      <th>Genres_Word</th>\n",
       "      <th>Content Rating_Everyone</th>\n",
       "      <th>Content Rating_Everyone 10+</th>\n",
       "      <th>Content Rating_Mature 17+</th>\n",
       "      <th>Content Rating_Teen</th>\n",
       "      <th>Content Rating_Unrated</th>\n",
       "    </tr>\n",
       "    <tr>\n",
       "      <th>App</th>\n",
       "      <th></th>\n",
       "      <th></th>\n",
       "      <th></th>\n",
       "      <th></th>\n",
       "      <th></th>\n",
       "      <th></th>\n",
       "      <th></th>\n",
       "      <th></th>\n",
       "      <th></th>\n",
       "      <th></th>\n",
       "      <th></th>\n",
       "      <th></th>\n",
       "      <th></th>\n",
       "      <th></th>\n",
       "      <th></th>\n",
       "      <th></th>\n",
       "      <th></th>\n",
       "      <th></th>\n",
       "      <th></th>\n",
       "      <th></th>\n",
       "      <th></th>\n",
       "    </tr>\n",
       "  </thead>\n",
       "  <tbody>\n",
       "    <tr>\n",
       "      <td>Photo Editor   Candy Camera   Grid   ScrapBook</td>\n",
       "      <td>4.1</td>\n",
       "      <td>159</td>\n",
       "      <td>19</td>\n",
       "      <td>10000</td>\n",
       "      <td>0</td>\n",
       "      <td>0</td>\n",
       "      <td>0</td>\n",
       "      <td>0</td>\n",
       "      <td>0</td>\n",
       "      <td>0</td>\n",
       "      <td>...</td>\n",
       "      <td>0</td>\n",
       "      <td>0</td>\n",
       "      <td>0</td>\n",
       "      <td>0</td>\n",
       "      <td>0</td>\n",
       "      <td>1</td>\n",
       "      <td>0</td>\n",
       "      <td>0</td>\n",
       "      <td>0</td>\n",
       "      <td>0</td>\n",
       "    </tr>\n",
       "    <tr>\n",
       "      <td>Coloring book moana</td>\n",
       "      <td>3.9</td>\n",
       "      <td>967</td>\n",
       "      <td>14</td>\n",
       "      <td>500000</td>\n",
       "      <td>0</td>\n",
       "      <td>0</td>\n",
       "      <td>0</td>\n",
       "      <td>0</td>\n",
       "      <td>0</td>\n",
       "      <td>0</td>\n",
       "      <td>...</td>\n",
       "      <td>0</td>\n",
       "      <td>0</td>\n",
       "      <td>0</td>\n",
       "      <td>0</td>\n",
       "      <td>0</td>\n",
       "      <td>1</td>\n",
       "      <td>0</td>\n",
       "      <td>0</td>\n",
       "      <td>0</td>\n",
       "      <td>0</td>\n",
       "    </tr>\n",
       "    <tr>\n",
       "      <td>U Launcher Lite – FREE Live Cool Themes  Hide Apps</td>\n",
       "      <td>4.7</td>\n",
       "      <td>87510</td>\n",
       "      <td>8.7</td>\n",
       "      <td>5000000</td>\n",
       "      <td>0</td>\n",
       "      <td>0</td>\n",
       "      <td>0</td>\n",
       "      <td>0</td>\n",
       "      <td>0</td>\n",
       "      <td>0</td>\n",
       "      <td>...</td>\n",
       "      <td>0</td>\n",
       "      <td>0</td>\n",
       "      <td>0</td>\n",
       "      <td>0</td>\n",
       "      <td>0</td>\n",
       "      <td>1</td>\n",
       "      <td>0</td>\n",
       "      <td>0</td>\n",
       "      <td>0</td>\n",
       "      <td>0</td>\n",
       "    </tr>\n",
       "    <tr>\n",
       "      <td>Sketch   Draw   Paint</td>\n",
       "      <td>4.5</td>\n",
       "      <td>215644</td>\n",
       "      <td>25</td>\n",
       "      <td>50000000</td>\n",
       "      <td>0</td>\n",
       "      <td>0</td>\n",
       "      <td>0</td>\n",
       "      <td>0</td>\n",
       "      <td>0</td>\n",
       "      <td>0</td>\n",
       "      <td>...</td>\n",
       "      <td>0</td>\n",
       "      <td>0</td>\n",
       "      <td>0</td>\n",
       "      <td>0</td>\n",
       "      <td>0</td>\n",
       "      <td>0</td>\n",
       "      <td>0</td>\n",
       "      <td>0</td>\n",
       "      <td>1</td>\n",
       "      <td>0</td>\n",
       "    </tr>\n",
       "    <tr>\n",
       "      <td>Pixel Draw   Number Art Coloring Book</td>\n",
       "      <td>4.3</td>\n",
       "      <td>967</td>\n",
       "      <td>2.8</td>\n",
       "      <td>100000</td>\n",
       "      <td>0</td>\n",
       "      <td>0</td>\n",
       "      <td>0</td>\n",
       "      <td>0</td>\n",
       "      <td>0</td>\n",
       "      <td>0</td>\n",
       "      <td>...</td>\n",
       "      <td>0</td>\n",
       "      <td>0</td>\n",
       "      <td>0</td>\n",
       "      <td>0</td>\n",
       "      <td>0</td>\n",
       "      <td>1</td>\n",
       "      <td>0</td>\n",
       "      <td>0</td>\n",
       "      <td>0</td>\n",
       "      <td>0</td>\n",
       "    </tr>\n",
       "  </tbody>\n",
       "</table>\n",
       "<p>5 rows × 157 columns</p>\n",
       "</div>"
      ],
      "text/plain": [
       "                                                    Rating  Reviews Size  \\\n",
       "App                                                                        \n",
       "Photo Editor   Candy Camera   Grid   ScrapBook         4.1      159   19   \n",
       "Coloring book moana                                    3.9      967   14   \n",
       "U Launcher Lite – FREE Live Cool Themes  Hide Apps     4.7    87510  8.7   \n",
       "Sketch   Draw   Paint                                  4.5   215644   25   \n",
       "Pixel Draw   Number Art Coloring Book                  4.3      967  2.8   \n",
       "\n",
       "                                                    Installs Price  \\\n",
       "App                                                                  \n",
       "Photo Editor   Candy Camera   Grid   ScrapBook         10000     0   \n",
       "Coloring book moana                                   500000     0   \n",
       "U Launcher Lite – FREE Live Cool Themes  Hide Apps   5000000     0   \n",
       "Sketch   Draw   Paint                               50000000     0   \n",
       "Pixel Draw   Number Art Coloring Book                 100000     0   \n",
       "\n",
       "                                                    Category_AUTO AND VEHICLES  \\\n",
       "App                                                                              \n",
       "Photo Editor   Candy Camera   Grid   ScrapBook                               0   \n",
       "Coloring book moana                                                          0   \n",
       "U Launcher Lite – FREE Live Cool Themes  Hide Apps                           0   \n",
       "Sketch   Draw   Paint                                                        0   \n",
       "Pixel Draw   Number Art Coloring Book                                        0   \n",
       "\n",
       "                                                    Category_BEAUTY  \\\n",
       "App                                                                   \n",
       "Photo Editor   Candy Camera   Grid   ScrapBook                    0   \n",
       "Coloring book moana                                               0   \n",
       "U Launcher Lite – FREE Live Cool Themes  Hide Apps                0   \n",
       "Sketch   Draw   Paint                                             0   \n",
       "Pixel Draw   Number Art Coloring Book                             0   \n",
       "\n",
       "                                                    Category_BOOKS AND REFERENCE  \\\n",
       "App                                                                                \n",
       "Photo Editor   Candy Camera   Grid   ScrapBook                                 0   \n",
       "Coloring book moana                                                            0   \n",
       "U Launcher Lite – FREE Live Cool Themes  Hide Apps                             0   \n",
       "Sketch   Draw   Paint                                                          0   \n",
       "Pixel Draw   Number Art Coloring Book                                          0   \n",
       "\n",
       "                                                    Category_BUSINESS  \\\n",
       "App                                                                     \n",
       "Photo Editor   Candy Camera   Grid   ScrapBook                      0   \n",
       "Coloring book moana                                                 0   \n",
       "U Launcher Lite – FREE Live Cool Themes  Hide Apps                  0   \n",
       "Sketch   Draw   Paint                                               0   \n",
       "Pixel Draw   Number Art Coloring Book                               0   \n",
       "\n",
       "                                                    Category_COMICS  ...  \\\n",
       "App                                                                  ...   \n",
       "Photo Editor   Candy Camera   Grid   ScrapBook                    0  ...   \n",
       "Coloring book moana                                               0  ...   \n",
       "U Launcher Lite – FREE Live Cool Themes  Hide Apps                0  ...   \n",
       "Sketch   Draw   Paint                                             0  ...   \n",
       "Pixel Draw   Number Art Coloring Book                             0  ...   \n",
       "\n",
       "                                                    Genres_Video Players & Editors  \\\n",
       "App                                                                                  \n",
       "Photo Editor   Candy Camera   Grid   ScrapBook                                   0   \n",
       "Coloring book moana                                                              0   \n",
       "U Launcher Lite – FREE Live Cool Themes  Hide Apps                               0   \n",
       "Sketch   Draw   Paint                                                            0   \n",
       "Pixel Draw   Number Art Coloring Book                                            0   \n",
       "\n",
       "                                                    Genres_Video Players & Editors;Creativity  \\\n",
       "App                                                                                             \n",
       "Photo Editor   Candy Camera   Grid   ScrapBook                                              0   \n",
       "Coloring book moana                                                                         0   \n",
       "U Launcher Lite – FREE Live Cool Themes  Hide Apps                                          0   \n",
       "Sketch   Draw   Paint                                                                       0   \n",
       "Pixel Draw   Number Art Coloring Book                                                       0   \n",
       "\n",
       "                                                    Genres_Video Players & Editors;Music & Video  \\\n",
       "App                                                                                                \n",
       "Photo Editor   Candy Camera   Grid   ScrapBook                                                 0   \n",
       "Coloring book moana                                                                            0   \n",
       "U Launcher Lite – FREE Live Cool Themes  Hide Apps                                             0   \n",
       "Sketch   Draw   Paint                                                                          0   \n",
       "Pixel Draw   Number Art Coloring Book                                                          0   \n",
       "\n",
       "                                                    Genres_Weather  \\\n",
       "App                                                                  \n",
       "Photo Editor   Candy Camera   Grid   ScrapBook                   0   \n",
       "Coloring book moana                                              0   \n",
       "U Launcher Lite – FREE Live Cool Themes  Hide Apps               0   \n",
       "Sketch   Draw   Paint                                            0   \n",
       "Pixel Draw   Number Art Coloring Book                            0   \n",
       "\n",
       "                                                    Genres_Word  \\\n",
       "App                                                               \n",
       "Photo Editor   Candy Camera   Grid   ScrapBook                0   \n",
       "Coloring book moana                                           0   \n",
       "U Launcher Lite – FREE Live Cool Themes  Hide Apps            0   \n",
       "Sketch   Draw   Paint                                         0   \n",
       "Pixel Draw   Number Art Coloring Book                         0   \n",
       "\n",
       "                                                    Content Rating_Everyone  \\\n",
       "App                                                                           \n",
       "Photo Editor   Candy Camera   Grid   ScrapBook                            1   \n",
       "Coloring book moana                                                       1   \n",
       "U Launcher Lite – FREE Live Cool Themes  Hide Apps                        1   \n",
       "Sketch   Draw   Paint                                                     0   \n",
       "Pixel Draw   Number Art Coloring Book                                     1   \n",
       "\n",
       "                                                    Content Rating_Everyone 10+  \\\n",
       "App                                                                               \n",
       "Photo Editor   Candy Camera   Grid   ScrapBook                                0   \n",
       "Coloring book moana                                                           0   \n",
       "U Launcher Lite – FREE Live Cool Themes  Hide Apps                            0   \n",
       "Sketch   Draw   Paint                                                         0   \n",
       "Pixel Draw   Number Art Coloring Book                                         0   \n",
       "\n",
       "                                                    Content Rating_Mature 17+  \\\n",
       "App                                                                             \n",
       "Photo Editor   Candy Camera   Grid   ScrapBook                              0   \n",
       "Coloring book moana                                                         0   \n",
       "U Launcher Lite – FREE Live Cool Themes  Hide Apps                          0   \n",
       "Sketch   Draw   Paint                                                       0   \n",
       "Pixel Draw   Number Art Coloring Book                                       0   \n",
       "\n",
       "                                                    Content Rating_Teen  \\\n",
       "App                                                                       \n",
       "Photo Editor   Candy Camera   Grid   ScrapBook                        0   \n",
       "Coloring book moana                                                   0   \n",
       "U Launcher Lite – FREE Live Cool Themes  Hide Apps                    0   \n",
       "Sketch   Draw   Paint                                                 1   \n",
       "Pixel Draw   Number Art Coloring Book                                 0   \n",
       "\n",
       "                                                    Content Rating_Unrated  \n",
       "App                                                                         \n",
       "Photo Editor   Candy Camera   Grid   ScrapBook                           0  \n",
       "Coloring book moana                                                      0  \n",
       "U Launcher Lite – FREE Live Cool Themes  Hide Apps                       0  \n",
       "Sketch   Draw   Paint                                                    0  \n",
       "Pixel Draw   Number Art Coloring Book                                    0  \n",
       "\n",
       "[5 rows x 157 columns]"
      ]
     },
     "execution_count": 29,
     "metadata": {},
     "output_type": "execute_result"
    }
   ],
   "source": [
    "df2_categorical.set_index(keys='App', inplace=True)\n",
    "df2_categorical.head()"
   ]
  },
  {
   "cell_type": "markdown",
   "metadata": {},
   "source": [
    "# 4.14 Removing non-numerical items"
   ]
  },
  {
   "cell_type": "code",
   "execution_count": 30,
   "metadata": {},
   "outputs": [],
   "source": [
    "df2_size_median = df2_categorical.loc[df2_categorical.Size!='Varies with device']\n",
    "df2_size_median = df2_size_median.Size.median()"
   ]
  },
  {
   "cell_type": "code",
   "execution_count": 31,
   "metadata": {},
   "outputs": [],
   "source": [
    "df2_categorical.loc[df2_categorical.Size == 'Varies with device', 'Size'] = df2_size_median"
   ]
  },
  {
   "cell_type": "code",
   "execution_count": 32,
   "metadata": {},
   "outputs": [
    {
     "data": {
      "text/html": [
       "<div>\n",
       "<style scoped>\n",
       "    .dataframe tbody tr th:only-of-type {\n",
       "        vertical-align: middle;\n",
       "    }\n",
       "\n",
       "    .dataframe tbody tr th {\n",
       "        vertical-align: top;\n",
       "    }\n",
       "\n",
       "    .dataframe thead th {\n",
       "        text-align: right;\n",
       "    }\n",
       "</style>\n",
       "<table border=\"1\" class=\"dataframe\">\n",
       "  <thead>\n",
       "    <tr style=\"text-align: right;\">\n",
       "      <th></th>\n",
       "      <th>Rating</th>\n",
       "      <th>Reviews</th>\n",
       "      <th>Installs</th>\n",
       "      <th>Category_AUTO AND VEHICLES</th>\n",
       "      <th>Category_BEAUTY</th>\n",
       "      <th>Category_BOOKS AND REFERENCE</th>\n",
       "      <th>Category_BUSINESS</th>\n",
       "      <th>Category_COMICS</th>\n",
       "      <th>Category_COMMUNICATION</th>\n",
       "      <th>Category_DATING</th>\n",
       "      <th>...</th>\n",
       "      <th>Genres_Video Players &amp; Editors</th>\n",
       "      <th>Genres_Video Players &amp; Editors;Creativity</th>\n",
       "      <th>Genres_Video Players &amp; Editors;Music &amp; Video</th>\n",
       "      <th>Genres_Weather</th>\n",
       "      <th>Genres_Word</th>\n",
       "      <th>Content Rating_Everyone</th>\n",
       "      <th>Content Rating_Everyone 10+</th>\n",
       "      <th>Content Rating_Mature 17+</th>\n",
       "      <th>Content Rating_Teen</th>\n",
       "      <th>Content Rating_Unrated</th>\n",
       "    </tr>\n",
       "  </thead>\n",
       "  <tbody>\n",
       "    <tr>\n",
       "      <td>count</td>\n",
       "      <td>9360.000000</td>\n",
       "      <td>9.360000e+03</td>\n",
       "      <td>9.360000e+03</td>\n",
       "      <td>9360.000000</td>\n",
       "      <td>9360.000000</td>\n",
       "      <td>9360.000000</td>\n",
       "      <td>9360.000000</td>\n",
       "      <td>9360.000000</td>\n",
       "      <td>9360.000000</td>\n",
       "      <td>9360.000000</td>\n",
       "      <td>...</td>\n",
       "      <td>9360.00000</td>\n",
       "      <td>9360.000000</td>\n",
       "      <td>9360.000000</td>\n",
       "      <td>9360.000000</td>\n",
       "      <td>9360.000000</td>\n",
       "      <td>9360.000000</td>\n",
       "      <td>9360.000000</td>\n",
       "      <td>9360.000000</td>\n",
       "      <td>9360.000000</td>\n",
       "      <td>9360.000000</td>\n",
       "    </tr>\n",
       "    <tr>\n",
       "      <td>mean</td>\n",
       "      <td>4.191838</td>\n",
       "      <td>5.143767e+05</td>\n",
       "      <td>1.790875e+07</td>\n",
       "      <td>0.007799</td>\n",
       "      <td>0.004487</td>\n",
       "      <td>0.019017</td>\n",
       "      <td>0.032372</td>\n",
       "      <td>0.006197</td>\n",
       "      <td>0.035043</td>\n",
       "      <td>0.020833</td>\n",
       "      <td>...</td>\n",
       "      <td>0.01688</td>\n",
       "      <td>0.000214</td>\n",
       "      <td>0.000321</td>\n",
       "      <td>0.008013</td>\n",
       "      <td>0.002991</td>\n",
       "      <td>0.792094</td>\n",
       "      <td>0.042415</td>\n",
       "      <td>0.049252</td>\n",
       "      <td>0.115812</td>\n",
       "      <td>0.000107</td>\n",
       "    </tr>\n",
       "    <tr>\n",
       "      <td>std</td>\n",
       "      <td>0.515263</td>\n",
       "      <td>3.145023e+06</td>\n",
       "      <td>9.126637e+07</td>\n",
       "      <td>0.087972</td>\n",
       "      <td>0.066840</td>\n",
       "      <td>0.136592</td>\n",
       "      <td>0.176995</td>\n",
       "      <td>0.078478</td>\n",
       "      <td>0.183898</td>\n",
       "      <td>0.142834</td>\n",
       "      <td>...</td>\n",
       "      <td>0.12883</td>\n",
       "      <td>0.014617</td>\n",
       "      <td>0.017901</td>\n",
       "      <td>0.089160</td>\n",
       "      <td>0.054615</td>\n",
       "      <td>0.405831</td>\n",
       "      <td>0.201544</td>\n",
       "      <td>0.216406</td>\n",
       "      <td>0.320016</td>\n",
       "      <td>0.010336</td>\n",
       "    </tr>\n",
       "    <tr>\n",
       "      <td>min</td>\n",
       "      <td>1.000000</td>\n",
       "      <td>1.000000e+00</td>\n",
       "      <td>1.000000e+00</td>\n",
       "      <td>0.000000</td>\n",
       "      <td>0.000000</td>\n",
       "      <td>0.000000</td>\n",
       "      <td>0.000000</td>\n",
       "      <td>0.000000</td>\n",
       "      <td>0.000000</td>\n",
       "      <td>0.000000</td>\n",
       "      <td>...</td>\n",
       "      <td>0.00000</td>\n",
       "      <td>0.000000</td>\n",
       "      <td>0.000000</td>\n",
       "      <td>0.000000</td>\n",
       "      <td>0.000000</td>\n",
       "      <td>0.000000</td>\n",
       "      <td>0.000000</td>\n",
       "      <td>0.000000</td>\n",
       "      <td>0.000000</td>\n",
       "      <td>0.000000</td>\n",
       "    </tr>\n",
       "    <tr>\n",
       "      <td>25%</td>\n",
       "      <td>4.000000</td>\n",
       "      <td>1.867500e+02</td>\n",
       "      <td>1.000000e+04</td>\n",
       "      <td>0.000000</td>\n",
       "      <td>0.000000</td>\n",
       "      <td>0.000000</td>\n",
       "      <td>0.000000</td>\n",
       "      <td>0.000000</td>\n",
       "      <td>0.000000</td>\n",
       "      <td>0.000000</td>\n",
       "      <td>...</td>\n",
       "      <td>0.00000</td>\n",
       "      <td>0.000000</td>\n",
       "      <td>0.000000</td>\n",
       "      <td>0.000000</td>\n",
       "      <td>0.000000</td>\n",
       "      <td>1.000000</td>\n",
       "      <td>0.000000</td>\n",
       "      <td>0.000000</td>\n",
       "      <td>0.000000</td>\n",
       "      <td>0.000000</td>\n",
       "    </tr>\n",
       "    <tr>\n",
       "      <td>50%</td>\n",
       "      <td>4.300000</td>\n",
       "      <td>5.955000e+03</td>\n",
       "      <td>5.000000e+05</td>\n",
       "      <td>0.000000</td>\n",
       "      <td>0.000000</td>\n",
       "      <td>0.000000</td>\n",
       "      <td>0.000000</td>\n",
       "      <td>0.000000</td>\n",
       "      <td>0.000000</td>\n",
       "      <td>0.000000</td>\n",
       "      <td>...</td>\n",
       "      <td>0.00000</td>\n",
       "      <td>0.000000</td>\n",
       "      <td>0.000000</td>\n",
       "      <td>0.000000</td>\n",
       "      <td>0.000000</td>\n",
       "      <td>1.000000</td>\n",
       "      <td>0.000000</td>\n",
       "      <td>0.000000</td>\n",
       "      <td>0.000000</td>\n",
       "      <td>0.000000</td>\n",
       "    </tr>\n",
       "    <tr>\n",
       "      <td>75%</td>\n",
       "      <td>4.500000</td>\n",
       "      <td>8.162750e+04</td>\n",
       "      <td>5.000000e+06</td>\n",
       "      <td>0.000000</td>\n",
       "      <td>0.000000</td>\n",
       "      <td>0.000000</td>\n",
       "      <td>0.000000</td>\n",
       "      <td>0.000000</td>\n",
       "      <td>0.000000</td>\n",
       "      <td>0.000000</td>\n",
       "      <td>...</td>\n",
       "      <td>0.00000</td>\n",
       "      <td>0.000000</td>\n",
       "      <td>0.000000</td>\n",
       "      <td>0.000000</td>\n",
       "      <td>0.000000</td>\n",
       "      <td>1.000000</td>\n",
       "      <td>0.000000</td>\n",
       "      <td>0.000000</td>\n",
       "      <td>0.000000</td>\n",
       "      <td>0.000000</td>\n",
       "    </tr>\n",
       "    <tr>\n",
       "      <td>max</td>\n",
       "      <td>5.000000</td>\n",
       "      <td>7.815831e+07</td>\n",
       "      <td>1.000000e+09</td>\n",
       "      <td>1.000000</td>\n",
       "      <td>1.000000</td>\n",
       "      <td>1.000000</td>\n",
       "      <td>1.000000</td>\n",
       "      <td>1.000000</td>\n",
       "      <td>1.000000</td>\n",
       "      <td>1.000000</td>\n",
       "      <td>...</td>\n",
       "      <td>1.00000</td>\n",
       "      <td>1.000000</td>\n",
       "      <td>1.000000</td>\n",
       "      <td>1.000000</td>\n",
       "      <td>1.000000</td>\n",
       "      <td>1.000000</td>\n",
       "      <td>1.000000</td>\n",
       "      <td>1.000000</td>\n",
       "      <td>1.000000</td>\n",
       "      <td>1.000000</td>\n",
       "    </tr>\n",
       "  </tbody>\n",
       "</table>\n",
       "<p>8 rows × 155 columns</p>\n",
       "</div>"
      ],
      "text/plain": [
       "            Rating       Reviews      Installs  Category_AUTO AND VEHICLES  \\\n",
       "count  9360.000000  9.360000e+03  9.360000e+03                 9360.000000   \n",
       "mean      4.191838  5.143767e+05  1.790875e+07                    0.007799   \n",
       "std       0.515263  3.145023e+06  9.126637e+07                    0.087972   \n",
       "min       1.000000  1.000000e+00  1.000000e+00                    0.000000   \n",
       "25%       4.000000  1.867500e+02  1.000000e+04                    0.000000   \n",
       "50%       4.300000  5.955000e+03  5.000000e+05                    0.000000   \n",
       "75%       4.500000  8.162750e+04  5.000000e+06                    0.000000   \n",
       "max       5.000000  7.815831e+07  1.000000e+09                    1.000000   \n",
       "\n",
       "       Category_BEAUTY  Category_BOOKS AND REFERENCE  Category_BUSINESS  \\\n",
       "count      9360.000000                   9360.000000        9360.000000   \n",
       "mean          0.004487                      0.019017           0.032372   \n",
       "std           0.066840                      0.136592           0.176995   \n",
       "min           0.000000                      0.000000           0.000000   \n",
       "25%           0.000000                      0.000000           0.000000   \n",
       "50%           0.000000                      0.000000           0.000000   \n",
       "75%           0.000000                      0.000000           0.000000   \n",
       "max           1.000000                      1.000000           1.000000   \n",
       "\n",
       "       Category_COMICS  Category_COMMUNICATION  Category_DATING  ...  \\\n",
       "count      9360.000000             9360.000000      9360.000000  ...   \n",
       "mean          0.006197                0.035043         0.020833  ...   \n",
       "std           0.078478                0.183898         0.142834  ...   \n",
       "min           0.000000                0.000000         0.000000  ...   \n",
       "25%           0.000000                0.000000         0.000000  ...   \n",
       "50%           0.000000                0.000000         0.000000  ...   \n",
       "75%           0.000000                0.000000         0.000000  ...   \n",
       "max           1.000000                1.000000         1.000000  ...   \n",
       "\n",
       "       Genres_Video Players & Editors  \\\n",
       "count                      9360.00000   \n",
       "mean                          0.01688   \n",
       "std                           0.12883   \n",
       "min                           0.00000   \n",
       "25%                           0.00000   \n",
       "50%                           0.00000   \n",
       "75%                           0.00000   \n",
       "max                           1.00000   \n",
       "\n",
       "       Genres_Video Players & Editors;Creativity  \\\n",
       "count                                9360.000000   \n",
       "mean                                    0.000214   \n",
       "std                                     0.014617   \n",
       "min                                     0.000000   \n",
       "25%                                     0.000000   \n",
       "50%                                     0.000000   \n",
       "75%                                     0.000000   \n",
       "max                                     1.000000   \n",
       "\n",
       "       Genres_Video Players & Editors;Music & Video  Genres_Weather  \\\n",
       "count                                   9360.000000     9360.000000   \n",
       "mean                                       0.000321        0.008013   \n",
       "std                                        0.017901        0.089160   \n",
       "min                                        0.000000        0.000000   \n",
       "25%                                        0.000000        0.000000   \n",
       "50%                                        0.000000        0.000000   \n",
       "75%                                        0.000000        0.000000   \n",
       "max                                        1.000000        1.000000   \n",
       "\n",
       "       Genres_Word  Content Rating_Everyone  Content Rating_Everyone 10+  \\\n",
       "count  9360.000000              9360.000000                  9360.000000   \n",
       "mean      0.002991                 0.792094                     0.042415   \n",
       "std       0.054615                 0.405831                     0.201544   \n",
       "min       0.000000                 0.000000                     0.000000   \n",
       "25%       0.000000                 1.000000                     0.000000   \n",
       "50%       0.000000                 1.000000                     0.000000   \n",
       "75%       0.000000                 1.000000                     0.000000   \n",
       "max       1.000000                 1.000000                     1.000000   \n",
       "\n",
       "       Content Rating_Mature 17+  Content Rating_Teen  Content Rating_Unrated  \n",
       "count                9360.000000          9360.000000             9360.000000  \n",
       "mean                    0.049252             0.115812                0.000107  \n",
       "std                     0.216406             0.320016                0.010336  \n",
       "min                     0.000000             0.000000                0.000000  \n",
       "25%                     0.000000             0.000000                0.000000  \n",
       "50%                     0.000000             0.000000                0.000000  \n",
       "75%                     0.000000             0.000000                0.000000  \n",
       "max                     1.000000             1.000000                1.000000  \n",
       "\n",
       "[8 rows x 155 columns]"
      ]
     },
     "execution_count": 32,
     "metadata": {},
     "output_type": "execute_result"
    }
   ],
   "source": [
    "df2_categorical.describe()"
   ]
  },
  {
   "cell_type": "code",
   "execution_count": 33,
   "metadata": {},
   "outputs": [
    {
     "name": "stdout",
     "output_type": "stream",
     "text": [
      "Rating\n",
      "0\n",
      "Reviews\n",
      "0\n",
      "Size\n",
      "0\n",
      "Installs\n",
      "0\n",
      "Price\n",
      "0\n",
      "Category_AUTO AND VEHICLES\n",
      "0\n",
      "Category_BEAUTY\n",
      "0\n",
      "Category_BOOKS AND REFERENCE\n",
      "0\n",
      "Category_BUSINESS\n",
      "0\n",
      "Category_COMICS\n",
      "0\n",
      "Category_COMMUNICATION\n",
      "0\n",
      "Category_DATING\n",
      "0\n",
      "Category_EDUCATION\n",
      "0\n",
      "Category_ENTERTAINMENT\n",
      "0\n",
      "Category_EVENTS\n",
      "0\n",
      "Category_FAMILY\n",
      "0\n",
      "Category_FINANCE\n",
      "0\n",
      "Category_FOOD AND DRINK\n",
      "0\n",
      "Category_GAME\n",
      "0\n",
      "Category_HEALTH AND FITNESS\n",
      "0\n",
      "Category_HOUSE AND HOME\n",
      "0\n",
      "Category_LIBRARIES AND DEMO\n",
      "0\n",
      "Category_LIFESTYLE\n",
      "0\n",
      "Category_MAPS AND NAVIGATION\n",
      "0\n",
      "Category_MEDICAL\n",
      "0\n",
      "Category_NEWS AND MAGAZINES\n",
      "0\n",
      "Category_PARENTING\n",
      "0\n",
      "Category_PERSONALIZATION\n",
      "0\n",
      "Category_PHOTOGRAPHY\n",
      "0\n",
      "Category_PRODUCTIVITY\n",
      "0\n",
      "Category_SHOPPING\n",
      "0\n",
      "Category_SOCIAL\n",
      "0\n",
      "Category_SPORTS\n",
      "0\n",
      "Category_TOOLS\n",
      "0\n",
      "Category_TRAVEL AND LOCAL\n",
      "0\n",
      "Category_VIDEO PLAYERS\n",
      "0\n",
      "Category_WEATHER\n",
      "0\n",
      "Type_Paid\n",
      "0\n",
      "Genres_Action;Action & Adventure\n",
      "0\n",
      "Genres_Adventure\n",
      "0\n",
      "Genres_Adventure;Action & Adventure\n",
      "0\n",
      "Genres_Adventure;Brain Games\n",
      "0\n",
      "Genres_Adventure;Education\n",
      "0\n",
      "Genres_Arcade\n",
      "0\n",
      "Genres_Arcade;Action & Adventure\n",
      "0\n",
      "Genres_Arcade;Pretend Play\n",
      "0\n",
      "Genres_Art & Design\n",
      "0\n",
      "Genres_Art & Design;Creativity\n",
      "0\n",
      "Genres_Art & Design;Pretend Play\n",
      "0\n",
      "Genres_Auto & Vehicles\n",
      "0\n",
      "Genres_Beauty\n",
      "0\n",
      "Genres_Board\n",
      "0\n",
      "Genres_Board;Action & Adventure\n",
      "0\n",
      "Genres_Board;Brain Games\n",
      "0\n",
      "Genres_Board;Pretend Play\n",
      "0\n",
      "Genres_Books & Reference\n",
      "0\n",
      "Genres_Books & Reference;Education\n",
      "0\n",
      "Genres_Business\n",
      "0\n",
      "Genres_Card\n",
      "0\n",
      "Genres_Card;Action & Adventure\n",
      "0\n",
      "Genres_Card;Brain Games\n",
      "0\n",
      "Genres_Casino\n",
      "0\n",
      "Genres_Casual\n",
      "0\n",
      "Genres_Casual;Action & Adventure\n",
      "0\n",
      "Genres_Casual;Brain Games\n",
      "0\n",
      "Genres_Casual;Creativity\n",
      "0\n",
      "Genres_Casual;Education\n",
      "0\n",
      "Genres_Casual;Music & Video\n",
      "0\n",
      "Genres_Casual;Pretend Play\n",
      "0\n",
      "Genres_Comics\n",
      "0\n",
      "Genres_Comics;Creativity\n",
      "0\n",
      "Genres_Communication\n",
      "0\n",
      "Genres_Communication;Creativity\n",
      "0\n",
      "Genres_Dating\n",
      "0\n",
      "Genres_Education\n",
      "0\n",
      "Genres_Education;Action & Adventure\n",
      "0\n",
      "Genres_Education;Brain Games\n",
      "0\n",
      "Genres_Education;Creativity\n",
      "0\n",
      "Genres_Education;Education\n",
      "0\n",
      "Genres_Education;Music & Video\n",
      "0\n",
      "Genres_Education;Pretend Play\n",
      "0\n",
      "Genres_Educational\n",
      "0\n",
      "Genres_Educational;Action & Adventure\n",
      "0\n",
      "Genres_Educational;Brain Games\n",
      "0\n",
      "Genres_Educational;Creativity\n",
      "0\n",
      "Genres_Educational;Education\n",
      "0\n",
      "Genres_Educational;Pretend Play\n",
      "0\n",
      "Genres_Entertainment\n",
      "0\n",
      "Genres_Entertainment;Action & Adventure\n",
      "0\n",
      "Genres_Entertainment;Brain Games\n",
      "0\n",
      "Genres_Entertainment;Creativity\n",
      "0\n",
      "Genres_Entertainment;Education\n",
      "0\n",
      "Genres_Entertainment;Music & Video\n",
      "0\n",
      "Genres_Entertainment;Pretend Play\n",
      "0\n",
      "Genres_Events\n",
      "0\n",
      "Genres_Finance\n",
      "0\n",
      "Genres_Food & Drink\n",
      "0\n",
      "Genres_Health & Fitness\n",
      "0\n",
      "Genres_Health & Fitness;Action & Adventure\n",
      "0\n",
      "Genres_Health & Fitness;Education\n",
      "0\n",
      "Genres_House & Home\n",
      "0\n",
      "Genres_Libraries & Demo\n",
      "0\n",
      "Genres_Lifestyle\n",
      "0\n",
      "Genres_Lifestyle;Education\n",
      "0\n",
      "Genres_Lifestyle;Pretend Play\n",
      "0\n",
      "Genres_Maps & Navigation\n",
      "0\n",
      "Genres_Medical\n",
      "0\n",
      "Genres_Music\n",
      "0\n",
      "Genres_Music & Audio;Music & Video\n",
      "0\n",
      "Genres_Music;Music & Video\n",
      "0\n",
      "Genres_News & Magazines\n",
      "0\n",
      "Genres_Parenting\n",
      "0\n",
      "Genres_Parenting;Brain Games\n",
      "0\n",
      "Genres_Parenting;Education\n",
      "0\n",
      "Genres_Parenting;Music & Video\n",
      "0\n",
      "Genres_Personalization\n",
      "0\n",
      "Genres_Photography\n",
      "0\n",
      "Genres_Productivity\n",
      "0\n",
      "Genres_Puzzle\n",
      "0\n",
      "Genres_Puzzle;Action & Adventure\n",
      "0\n",
      "Genres_Puzzle;Brain Games\n",
      "0\n",
      "Genres_Puzzle;Creativity\n",
      "0\n",
      "Genres_Puzzle;Education\n",
      "0\n",
      "Genres_Racing\n",
      "0\n",
      "Genres_Racing;Action & Adventure\n",
      "0\n",
      "Genres_Racing;Pretend Play\n",
      "0\n",
      "Genres_Role Playing\n",
      "0\n",
      "Genres_Role Playing;Action & Adventure\n",
      "0\n",
      "Genres_Role Playing;Brain Games\n",
      "0\n",
      "Genres_Role Playing;Pretend Play\n",
      "0\n",
      "Genres_Shopping\n",
      "0\n",
      "Genres_Simulation\n",
      "0\n",
      "Genres_Simulation;Action & Adventure\n",
      "0\n",
      "Genres_Simulation;Education\n",
      "0\n",
      "Genres_Simulation;Pretend Play\n",
      "0\n",
      "Genres_Social\n",
      "0\n",
      "Genres_Sports\n",
      "0\n",
      "Genres_Sports;Action & Adventure\n",
      "0\n",
      "Genres_Strategy\n",
      "0\n",
      "Genres_Strategy;Action & Adventure\n",
      "0\n",
      "Genres_Strategy;Creativity\n",
      "0\n",
      "Genres_Strategy;Education\n",
      "0\n",
      "Genres_Tools\n",
      "0\n",
      "Genres_Tools;Education\n",
      "0\n",
      "Genres_Travel & Local\n",
      "0\n",
      "Genres_Travel & Local;Action & Adventure\n",
      "0\n",
      "Genres_Trivia\n",
      "0\n",
      "Genres_Video Players & Editors\n",
      "0\n",
      "Genres_Video Players & Editors;Creativity\n",
      "0\n",
      "Genres_Video Players & Editors;Music & Video\n",
      "0\n",
      "Genres_Weather\n",
      "0\n",
      "Genres_Word\n",
      "0\n",
      "Content Rating_Everyone\n",
      "0\n",
      "Content Rating_Everyone 10+\n",
      "0\n",
      "Content Rating_Mature 17+\n",
      "0\n",
      "Content Rating_Teen\n",
      "0\n",
      "Content Rating_Unrated\n",
      "0\n"
     ]
    }
   ],
   "source": [
    "for col in df2_categorical.columns:\n",
    "    print(col)\n",
    "    print(df2_categorical[col].isna().sum())"
   ]
  },
  {
   "cell_type": "markdown",
   "metadata": {},
   "source": [
    " # 5. Exploratory Data Analysis"
   ]
  },
  {
   "cell_type": "code",
   "execution_count": 34,
   "metadata": {},
   "outputs": [
    {
     "data": {
      "text/plain": [
       "Index(['App', 'Category', 'Rating', 'Reviews', 'Size', 'Installs', 'Type',\n",
       "       'Price', 'Content Rating', 'Genres'],\n",
       "      dtype='object')"
      ]
     },
     "execution_count": 34,
     "metadata": {},
     "output_type": "execute_result"
    }
   ],
   "source": [
    "df2.columns # Observing features for the exploratory data analysis"
   ]
  },
  {
   "cell_type": "markdown",
   "metadata": {},
   "source": [
    "# 5.1 Checking for Muilticolinearity"
   ]
  },
  {
   "cell_type": "markdown",
   "metadata": {},
   "source": [
    "\n",
    "Linear models analyses whether one or more predictor variables explain the dependent (criterion) variable. The regression has five key assumptions: Linear relationship, Multivariate normality, No or little multicollinearity, No auto-correlation, and Homoscedasticity. Moreover, the sample size rule of thumb is that the regression analysis requires at least 20 cases per independent variable in the analysis."
   ]
  },
  {
   "cell_type": "code",
   "execution_count": 35,
   "metadata": {},
   "outputs": [
    {
     "data": {
      "image/png": "[encoded data removed]",
      "text/plain": [
       "<Figure size 1296x864 with 2 Axes>"
      ]
     },
     "metadata": {
      "needs_background": "light"
     },
     "output_type": "display_data"
    }
   ],
   "source": [
    "cor_df2 = df2.corr().nlargest(50, 'Rating')['Rating'].index\n",
    "f , ax = plt.subplots(figsize = (18,12))\n",
    "ax = sns.heatmap(df2[cor_df2].corr(), annot=True)\n",
    "bottom, top = ax.get_ylim()\n",
    "ax.set_ylim(bottom + 0.5, top - 0.5)\n",
    "plt.show()"
   ]
  },
  {
   "cell_type": "markdown",
   "metadata": {},
   "source": [
    "# 5.2 Correlation analysis "
   ]
  },
  {
   "cell_type": "code",
   "execution_count": 36,
   "metadata": {},
   "outputs": [
    {
     "name": "stdout",
     "output_type": "stream",
     "text": [
      "            Rating   Reviews  Installs\n",
      "Rating    1.000000  0.068133  0.051337\n",
      "Reviews   0.068133  1.000000  0.641605\n",
      "Installs  0.051337  0.641605  1.000000\n"
     ]
    }
   ],
   "source": [
    "print(df2.corr())"
   ]
  },
  {
   "cell_type": "markdown",
   "metadata": {},
   "source": [
    "# 5.3 Dropping strongly correlated variables to avoid confounding effects"
   ]
  },
  {
   "cell_type": "markdown",
   "metadata": {},
   "source": [
    "\n",
    "Linear regression assumes that there is little or no multicollinearity in the data.  Multicollinearity occurs when the independent variables are too highly correlated with each other.\n",
    "\n",
    "Multicollinearity may be tested with three central criteria:\n",
    "\n",
    "Correlation matrix – when computing the matrix of Pearson’s Bivariate Correlation among all independent variables the correlation coefficients need to be smaller than 1.\n",
    "\n",
    "Tolerance – the tolerance measures the influence of one independent variable on all other independent variables; the tolerance is calculated with an initial linear regression analysis.  Tolerance is defined as T = 1 – R² for these first step regression analysis.  With T < 0.1 there might be multicollinearity in the data and with T < 0.01 there certainly is.\n",
    "\n",
    "Variance Inflation Factor (VIF) – the variance inflation factor of the linear regression is defined as VIF = 1/T. With VIF > 5 there is an indication that multicollinearity may be present; with VIF > 10 there is certainly multicollinearity among the variables."
   ]
  },
  {
   "cell_type": "markdown",
   "metadata": {},
   "source": [
    "# 5.4 Correlation matrix"
   ]
  },
  {
   "cell_type": "code",
   "execution_count": 37,
   "metadata": {},
   "outputs": [],
   "source": [
    "corr_matrix = df2.corr().abs()"
   ]
  },
  {
   "cell_type": "markdown",
   "metadata": {},
   "source": [
    "# 5.5 Select upper triangle of correlation matrix"
   ]
  },
  {
   "cell_type": "code",
   "execution_count": 38,
   "metadata": {},
   "outputs": [],
   "source": [
    "upper = corr_matrix.where(np.triu(np.ones(corr_matrix.shape), k=1).astype(np.bool))"
   ]
  },
  {
   "cell_type": "markdown",
   "metadata": {},
   "source": [
    "# 5.6 Find index of feature columns with correlation greater than 0.90"
   ]
  },
  {
   "cell_type": "code",
   "execution_count": 39,
   "metadata": {},
   "outputs": [],
   "source": [
    "to_drop = [column for column in upper.columns if any(upper[column] > 0.8)]"
   ]
  },
  {
   "cell_type": "code",
   "execution_count": 40,
   "metadata": {},
   "outputs": [
    {
     "data": {
      "text/plain": [
       "[]"
      ]
     },
     "execution_count": 40,
     "metadata": {},
     "output_type": "execute_result"
    }
   ],
   "source": [
    "to_drop"
   ]
  },
  {
   "cell_type": "markdown",
   "metadata": {},
   "source": [
    "\n",
    "If multicollinearity is found in the data, centering the data (that is deducting the mean of the variable from each score) might help to solve the problem.  However, the simplest way to address the problem is to remove independent variables with high VIF values.Nevertheless, the Multicolinearity assumption was met in this occasion. "
   ]
  },
  {
   "cell_type": "markdown",
   "metadata": {},
   "source": [
    "# 6. Data visualization"
   ]
  },
  {
   "cell_type": "markdown",
   "metadata": {},
   "source": [
    "# 6.1 Total number of Mobile Apps in Each Category"
   ]
  },
  {
   "cell_type": "code",
   "execution_count": 41,
   "metadata": {},
   "outputs": [
    {
     "data": {
      "text/plain": [
       "Text(0.5, 1.0, 'Total number of Mobile Apps in Each Category')"
      ]
     },
     "execution_count": 41,
     "metadata": {},
     "output_type": "execute_result"
    },
    {
     "data": {
      "image/png": "[encoded data removed]",
      "text/plain": [
       "<Figure size 1080x504 with 1 Axes>"
      ]
     },
     "metadata": {
      "needs_background": "light"
     },
     "output_type": "display_data"
    }
   ],
   "source": [
    "rcParams['figure.figsize'] = 15,7\n",
    "category_plot = sns.countplot(x=\"Category\",data=df2, palette = \"spring\")\n",
    "category_plot.set_xticklabels(category_plot.get_xticklabels(), rotation=90, ha=\"right\")\n",
    "plt.savefig('mobile_app_category.jpg')\n",
    "category_plot \n",
    "plt.title('Total number of Mobile Apps in Each Category',size = 20)"
   ]
  },
  {
   "cell_type": "markdown",
   "metadata": {},
   "source": [
    "\n",
    "It can be seen in the above graph, that the most popular App category is Family, and the least popular is the Events' Category. Amongst the most popular are Games, Medical, tools and photography."
   ]
  },
  {
   "cell_type": "markdown",
   "metadata": {},
   "source": [
    "# 6.2 Content Rating distribution"
   ]
  },
  {
   "cell_type": "code",
   "execution_count": 42,
   "metadata": {},
   "outputs": [
    {
     "data": {
      "text/plain": [
       "Text(0.5, 1.0, 'Content Rating distribution')"
      ]
     },
     "execution_count": 42,
     "metadata": {},
     "output_type": "execute_result"
    },
    {
     "data": {
      "image/png": "[encoded data removed]",
      "text/plain": [
       "<Figure size 1080x504 with 1 Axes>"
      ]
     },
     "metadata": {
      "needs_background": "light"
     },
     "output_type": "display_data"
    }
   ],
   "source": [
    "rcParams['figure.figsize'] = 15,7\n",
    "content_plot = sns.countplot(x=\"Content Rating\",data=df2, palette = \"rainbow\")\n",
    "content_plot.set_xticklabels(content_plot.get_xticklabels(), rotation=90, ha=\"right\")\n",
    "plt.savefig('Content_Rating_distribution.jpg')\n",
    "content_plot \n",
    "plt.title('Content Rating distribution',size = 20)"
   ]
  },
  {
   "cell_type": "markdown",
   "metadata": {},
   "source": [
    "\n",
    "Everyone, Teen Content Rating comprise the majority of ratings across all apps. Conversely, Unrated and Adults ony 18+ have account of the least amounts of ratings."
   ]
  },
  {
   "cell_type": "markdown",
   "metadata": {},
   "source": [
    "# 6.3 Number of Free Apps Vs Paid Apps "
   ]
  },
  {
   "cell_type": "code",
   "execution_count": 43,
   "metadata": {},
   "outputs": [
    {
     "data": {
      "text/plain": [
       "Text(0.5, 1.0, 'Number of Free Apps vs Paid Apps')"
      ]
     },
     "execution_count": 43,
     "metadata": {},
     "output_type": "execute_result"
    },
    {
     "data": {
      "image/png": "[encoded data removed]",
      "text/plain": [
       "<Figure size 720x504 with 1 Axes>"
      ]
     },
     "metadata": {
      "needs_background": "light"
     },
     "output_type": "display_data"
    }
   ],
   "source": [
    "rcParams['figure.figsize'] = 10,7\n",
    "type_plot = sns.countplot(x=\"Type\", data=df2, palette = \"twilight\")\n",
    "type_plot.set_xticklabels(type_plot.get_xticklabels(), rotation=90, ha=\"right\")\n",
    "plt.savefig('paid_free_apps.jpg')\n",
    "type_plot \n",
    "plt.title('Number of Free Apps vs Paid Apps',size = 20)"
   ]
  },
  {
   "cell_type": "markdown",
   "metadata": {},
   "source": [
    "\n",
    "There is clear difference between the number of paid and free of charge apps. The number of free apps totals up to 7588, whereas the number of paid apps sums up to 602."
   ]
  },
  {
   "cell_type": "markdown",
   "metadata": {},
   "source": [
    "# 6.4 Charging Fees for Paid Apps"
   ]
  },
  {
   "cell_type": "code",
   "execution_count": 44,
   "metadata": {},
   "outputs": [
    {
     "data": {
      "text/plain": [
       "Text(0.5, 1.0, 'Charging Fees for Paid Apps')"
      ]
     },
     "execution_count": 44,
     "metadata": {},
     "output_type": "execute_result"
    },
    {
     "data": {
      "image/png": "[encoded data removed]",
      "text/plain": [
       "<Figure size 1080x504 with 1 Axes>"
      ]
     },
     "metadata": {
      "needs_background": "light"
     },
     "output_type": "display_data"
    }
   ],
   "source": [
    "df2['Price'] = df2['Price'].apply(lambda x: float(x))\n",
    "rcParams['figure.figsize'] = 15,7\n",
    "priced_apps=df2[df2['Price'] != 0.0]\n",
    "price_plot = sns.countplot(priced_apps['Price'], palette = \"inferno\")\n",
    "price_plot.set_xticklabels(price_plot.get_xticklabels(), rotation=90, ha=\"right\")\n",
    "plt.savefig('charging_fees_apps.jpg')\n",
    "price_plot \n",
    "plt.title('Charging Fees for Paid Apps',size = 20)"
   ]
  },
  {
   "cell_type": "markdown",
   "metadata": {},
   "source": [
    "\n",
    "The above graph contains information specific to the Paid Apps type. There is a clear preference in price chosen for the paid apps. They include: 0.99, 2.99, 4.99, 1.99, and 3.99 US Dollars."
   ]
  },
  {
   "cell_type": "markdown",
   "metadata": {},
   "source": [
    "# 6.5 Installs Count Distribution"
   ]
  },
  {
   "cell_type": "code",
   "execution_count": 45,
   "metadata": {},
   "outputs": [
    {
     "data": {
      "text/plain": [
       "Text(0.5, 1.0, 'Installs Count Distribution')"
      ]
     },
     "execution_count": 45,
     "metadata": {},
     "output_type": "execute_result"
    },
    {
     "data": {
      "image/png": "[encoded data removed]",
      "text/plain": [
       "<Figure size 1080x504 with 1 Axes>"
      ]
     },
     "metadata": {
      "needs_background": "light"
     },
     "output_type": "display_data"
    }
   ],
   "source": [
    "rcParams['figure.figsize'] = 15,7\n",
    "install_plot = sns.countplot(y=\"Installs\",data=df2, palette = \"spring\")\n",
    "install_plot.set_xticklabels(install_plot.get_xticklabels(), rotation=90, ha=\"right\")\n",
    "plt.savefig('installs_count.jpg')\n",
    "install_plot \n",
    "plt.title('Installs Count Distribution',size = 20)"
   ]
  },
  {
   "cell_type": "markdown",
   "metadata": {},
   "source": [
    "\n",
    "Most of the apps in the dataframe have 1 million installs followed by 10 million and 100k."
   ]
  },
  {
   "cell_type": "markdown",
   "metadata": {},
   "source": [
    "# 6.6 Rating Distribution"
   ]
  },
  {
   "cell_type": "code",
   "execution_count": 46,
   "metadata": {},
   "outputs": [
    {
     "data": {
      "text/plain": [
       "Text(0.5, 1.0, 'Rating Distribution')"
      ]
     },
     "execution_count": 46,
     "metadata": {},
     "output_type": "execute_result"
    },
    {
     "data": {
      "image/png": "[encoded data removed]",
      "text/plain": [
       "<Figure size 1080x504 with 1 Axes>"
      ]
     },
     "metadata": {
      "needs_background": "light"
     },
     "output_type": "display_data"
    }
   ],
   "source": [
    "rcParams['figure.figsize'] = 15,7\n",
    "ratings_plot = sns.countplot(x=\"Rating\",data=df2, palette = \"rainbow\")\n",
    "ratings_plot.set_xticklabels(ratings_plot.get_xticklabels(), rotation=90, ha=\"right\")\n",
    "plt.savefig('Rating_distribution.jpg')\n",
    "plt.title('Rating Distribution',size = 20)"
   ]
  },
  {
   "cell_type": "markdown",
   "metadata": {},
   "source": [
    "\n",
    "The Ratings distribution skewed to the left, with most of the apps are rated between 4.0 and 4.7."
   ]
  },
  {
   "cell_type": "markdown",
   "metadata": {},
   "source": [
    "# 6.7 Most Reviewed Apps at Google Play Store"
   ]
  },
  {
   "cell_type": "code",
   "execution_count": 47,
   "metadata": {},
   "outputs": [
    {
     "data": {
      "text/plain": [
       "Text(0.5, 1.0, 'Most Reviewed Apps at Google Play Store')"
      ]
     },
     "execution_count": 47,
     "metadata": {},
     "output_type": "execute_result"
    },
    {
     "data": {
      "image/png": "[encoded data removed]",
      "text/plain": [
       "<Figure size 1080x504 with 1 Axes>"
      ]
     },
     "metadata": {
      "needs_background": "light"
     },
     "output_type": "display_data"
    }
   ],
   "source": [
    "rcParams['figure.figsize'] = 15,7\n",
    "likeable_apps = sns.countplot(y=\"Category\",data=df2, palette = \"Set3\")\n",
    "likeable_apps.set_xticklabels(likeable_apps.get_xticklabels(), rotation=90, ha=\"right\")\n",
    "likeable_apps \n",
    "plt.savefig('most_reviews_apps.jpg')\n",
    "plt.title('Most Reviewed Apps at Google Play Store',size = 20)"
   ]
  },
  {
   "cell_type": "markdown",
   "metadata": {},
   "source": [
    "\n",
    "Most reviewed apps are int he following App Categories: Family, Game, Tools, Finance, Lide style and medical apps. "
   ]
  },
  {
   "cell_type": "markdown",
   "metadata": {},
   "source": [
    "# 7. Data Preparation"
   ]
  },
  {
   "cell_type": "markdown",
   "metadata": {},
   "source": [
    "# 7.1 Drop target variable"
   ]
  },
  {
   "cell_type": "code",
   "execution_count": 48,
   "metadata": {},
   "outputs": [],
   "source": [
    "X=df2_categorical.drop('Rating',axis=1)\n",
    "y=df2_categorical['Rating'].values.round()"
   ]
  },
  {
   "cell_type": "code",
   "execution_count": 49,
   "metadata": {},
   "outputs": [
    {
     "data": {
      "text/plain": [
       "((9360, 156), (9360,))"
      ]
     },
     "execution_count": 49,
     "metadata": {},
     "output_type": "execute_result"
    }
   ],
   "source": [
    "X.shape, y.shape"
   ]
  },
  {
   "cell_type": "markdown",
   "metadata": {},
   "source": [
    "# 7.2 split data"
   ]
  },
  {
   "cell_type": "code",
   "execution_count": 50,
   "metadata": {},
   "outputs": [],
   "source": [
    "X_train, X_test, y_train, y_test = train_test_split(X, y, test_size=0.2, random_state=0)"
   ]
  },
  {
   "cell_type": "code",
   "execution_count": 51,
   "metadata": {},
   "outputs": [],
   "source": [
    "# Train validation split\n",
    "X_train_v, X_val, y_train_v, y_val = train_test_split(X_train,y_train,test_size=0.2, random_state=52)"
   ]
  },
  {
   "cell_type": "markdown",
   "metadata": {},
   "source": [
    "# 7.3 Scalling "
   ]
  },
  {
   "cell_type": "markdown",
   "metadata": {},
   "source": [
    "\n",
    "Feature scaling (also known as data normalization) is the method used to standardize the range of features of data. Since, the range of values of data may vary widely, it becomes a necessary step in data preprocessing while using machine learning algorithms"
   ]
  },
  {
   "cell_type": "code",
   "execution_count": 52,
   "metadata": {},
   "outputs": [],
   "source": [
    "scaler = StandardScaler()\n",
    "scaler.fit(X_train_v)\n",
    "X_train_v = scaler.transform(X_train_v)\n",
    "X_val = scaler.transform(X_val)"
   ]
  },
  {
   "cell_type": "code",
   "execution_count": 53,
   "metadata": {},
   "outputs": [],
   "source": [
    "X_test = scaler.transform(X_test)"
   ]
  },
  {
   "cell_type": "markdown",
   "metadata": {},
   "source": [
    "# 8. Modelling"
   ]
  },
  {
   "cell_type": "code",
   "execution_count": 54,
   "metadata": {},
   "outputs": [
    {
     "data": {
      "text/plain": [
       "array([4., 4., 5., ..., 4., 5., 4.])"
      ]
     },
     "execution_count": 54,
     "metadata": {},
     "output_type": "execute_result"
    }
   ],
   "source": [
    "y_train_v"
   ]
  },
  {
   "cell_type": "markdown",
   "metadata": {},
   "source": [
    "# 8.1 Running Baseline Logistic Regression"
   ]
  },
  {
   "cell_type": "markdown",
   "metadata": {},
   "source": [
    "Logistic regression is a classification algorithm used to assign observations to a discrete set of classes. Logistic Regression is a Machine Learning algorithm which is used for the classification problems, Multi-linear functions failsClass (eg. ratings and categories); it is a predictive analysis algorithm and based on the concept of probability. Its output using the logistic sigmoid function to return a probability value."
   ]
  },
  {
   "cell_type": "code",
   "execution_count": 55,
   "metadata": {},
   "outputs": [
    {
     "data": {
      "text/plain": [
       "LogisticRegression(C=1.0, class_weight=None, dual=False, fit_intercept=True,\n",
       "                   intercept_scaling=1, l1_ratio=None, max_iter=100,\n",
       "                   multi_class='auto', n_jobs=None, penalty='none',\n",
       "                   random_state=None, solver='lbfgs', tol=0.0001, verbose=0,\n",
       "                   warm_start=False)"
      ]
     },
     "execution_count": 55,
     "metadata": {},
     "output_type": "execute_result"
    }
   ],
   "source": [
    "model_baseline = LogisticRegression(penalty='none', solver='lbfgs')\n",
    "model_baseline.fit(X_train_v,\n",
    "                   y_train_v)"
   ]
  },
  {
   "cell_type": "markdown",
   "metadata": {},
   "source": [
    "# 8.2 Evaluating Baseline Model"
   ]
  },
  {
   "cell_type": "code",
   "execution_count": 56,
   "metadata": {},
   "outputs": [
    {
     "name": "stdout",
     "output_type": "stream",
     "text": [
      "Accuracy of model on training = 0.725\n",
      "Accuracy of model on validation = 0.716\n"
     ]
    }
   ],
   "source": [
    "y_val_pred = model_baseline.predict(X_val)\n",
    "y_train_pred = model_baseline.predict(X_train_v)\n",
    "\n",
    "print(\"Accuracy of model on training =\", round(accuracy_score(y_train_v, y_train_pred),3))\n",
    "print(\"Accuracy of model on validation =\", round(accuracy_score(y_val, y_val_pred),3))"
   ]
  },
  {
   "cell_type": "markdown",
   "metadata": {},
   "source": [
    "\n",
    "The above consists of an evaluation of the baseline model regarding the accuracy of model on the training dataset and the model validation dataset. It can be seen that the accuracy of the model on the training data is 0.725; whereas the model's accuracy on the validation data is 0.716."
   ]
  },
  {
   "cell_type": "markdown",
   "metadata": {},
   "source": [
    "# 8.3 Adding Regularization (L1 Penalty)"
   ]
  },
  {
   "cell_type": "markdown",
   "metadata": {},
   "source": [
    "\n",
    "Regularization is necessary because least squares regression methods, where the residual sum of squares is minimized, can be unstable. This is especially true if there is multicollinearity in the model. However, the mere practice of model fitting comes with a major pitfall: any set of data can be fitted to a model, even if that model is ridiculously complex.\n",
    "\n",
    "L1 regularization adds an L1 penalty equal to the absolute value of the magnitude of coefficients. In other words, it limits the size of the coefficients. L1 can yield sparse models (i.e. models with few coefficients)"
   ]
  },
  {
   "cell_type": "code",
   "execution_count": 57,
   "metadata": {},
   "outputs": [
    {
     "data": {
      "text/plain": [
       "LogisticRegression(C=1.0, class_weight=None, dual=False, fit_intercept=True,\n",
       "                   intercept_scaling=1, l1_ratio=None, max_iter=100,\n",
       "                   multi_class='auto', n_jobs=None, penalty='l1',\n",
       "                   random_state=None, solver='liblinear', tol=0.0001, verbose=0,\n",
       "                   warm_start=False)"
      ]
     },
     "execution_count": 57,
     "metadata": {},
     "output_type": "execute_result"
    }
   ],
   "source": [
    "model_baseline_L1 = LogisticRegression(penalty='l1', solver='liblinear')\n",
    "model_baseline_L1.fit(X_train_v,y_train_v)"
   ]
  },
  {
   "cell_type": "markdown",
   "metadata": {},
   "source": [
    "# 8.4 Evaluating Model"
   ]
  },
  {
   "cell_type": "code",
   "execution_count": 58,
   "metadata": {},
   "outputs": [
    {
     "name": "stdout",
     "output_type": "stream",
     "text": [
      "Accuracy of model on training = 0.725\n",
      "Accuracy of model on validation = 0.715\n"
     ]
    }
   ],
   "source": [
    "y_val_pred = model_baseline_L1.predict(X_val)\n",
    "y_train_pred = model_baseline_L1.predict(X_train_v)\n",
    "\n",
    "print(\"Accuracy of model on training =\", round(accuracy_score(y_train_v, y_train_pred),3))\n",
    "print(\"Accuracy of model on validation =\", round(accuracy_score(y_val, y_val_pred),3))"
   ]
  },
  {
   "cell_type": "markdown",
   "metadata": {},
   "source": [
    " \n",
    "The above consists of an evaluation of the baseline model regarding the accuracy of model on the training dataset and the model validation dataset, using the L1 Penalty. It can be seen that the accuracy of the model on the training data is 0.725; whereas the model's accuracy on the validation data is 0.715. Hence, it did not improve the model."
   ]
  },
  {
   "cell_type": "markdown",
   "metadata": {},
   "source": [
    "# 8.5 Adding Regularization (L2 Penalty)"
   ]
  },
  {
   "cell_type": "markdown",
   "metadata": {},
   "source": [
    "\n",
    "L2 regularization adds an L2 penalty equal to the square of the magnitude of coefficients. L2 will not yield sparse models and all coefficients are shrunk by the same factor (none are eliminated). Ridge regression and SVMs use this method."
   ]
  },
  {
   "cell_type": "code",
   "execution_count": 59,
   "metadata": {},
   "outputs": [
    {
     "data": {
      "text/plain": [
       "LogisticRegression(C=1.0, class_weight=None, dual=False, fit_intercept=True,\n",
       "                   intercept_scaling=1, l1_ratio=None, max_iter=100,\n",
       "                   multi_class='auto', n_jobs=None, penalty='l2',\n",
       "                   random_state=None, solver='lbfgs', tol=0.0001, verbose=0,\n",
       "                   warm_start=False)"
      ]
     },
     "execution_count": 59,
     "metadata": {},
     "output_type": "execute_result"
    }
   ],
   "source": [
    "model_baseline_L2 = LogisticRegression(penalty='l2', solver='lbfgs')\n",
    "model_baseline_L2.fit(X_train_v,y_train_v)"
   ]
  },
  {
   "cell_type": "markdown",
   "metadata": {},
   "source": [
    "# 8.6 Model Evaluation "
   ]
  },
  {
   "cell_type": "code",
   "execution_count": 60,
   "metadata": {},
   "outputs": [
    {
     "name": "stdout",
     "output_type": "stream",
     "text": [
      "Accuracy of model on training = 0.726\n",
      "Accuracy of model on validation= 0.716\n"
     ]
    }
   ],
   "source": [
    "y_val_pred = model_baseline_L2.predict(X_val)\n",
    "y_train_pred = model_baseline_L2.predict(X_train_v)\n",
    "\n",
    "print(\"Accuracy of model on training =\", round(accuracy_score(y_train_v, y_train_pred),3))\n",
    "print(\"Accuracy of model on validation=\", round(accuracy_score(y_val, y_val_pred),3))"
   ]
  },
  {
   "cell_type": "markdown",
   "metadata": {},
   "source": [
    "\n",
    "The above consists of an evaluation of the baseline model regarding the accuracy of model on the training dataset and the model validation dataset, using the L2 Penalty. It can be seen that the accuracy of the model on the training data is 0.726; whereas the model's accuracy on the validation data is 0.716. Thus, it did not seemd to have improved the model so much. "
   ]
  },
  {
   "cell_type": "markdown",
   "metadata": {},
   "source": [
    "# 8.7 Logistic Regression with cross-validation using GridSearchCV"
   ]
  },
  {
   "cell_type": "markdown",
   "metadata": {},
   "source": [
    "\n",
    "There are ways in which it is possible to improve classification models. One such a way is to apply cross-validation using GridSearchCV. GridSearchCV implements a “fit” and a “score” method. It also implements “predict”, “predict_proba”, “decision_function”, “transform” and “inverse_transform” if they are implemented in the estimator used.\n",
    "The parameters of the estimator used to apply these methods are optimized by cross-validated grid-search over a parameter grid.\n",
    "\n",
    "Grid search is a very traditional technique for implementing hyperparameters. It brute force all combinations. Grid search requires to create two set of hyperparameters: 1) Learning Rate; and 2)Number of Layers. \n",
    "Grid search trains the algorithm for all combinations by using the two set of hyperparameters (learning rate and number of layers) and measures the performance using “Cross Validation” technique. This validation technique gives assurance that our trained model got most of the patterns from the dataset. One of the best methods to do validation by using “K-Fold Cross Validation” which helps to provide ample data for training the model and ample data for validations.\n"
   ]
  },
  {
   "cell_type": "code",
   "execution_count": 61,
   "metadata": {},
   "outputs": [],
   "source": [
    "logistic = LogisticRegression(multi_class='auto')\n",
    "param_grid = {'penalty':['l1','l2']}"
   ]
  },
  {
   "cell_type": "code",
   "execution_count": 62,
   "metadata": {},
   "outputs": [],
   "source": [
    "cv_logistic = GridSearchCV(logistic, param_grid, cv=5)"
   ]
  },
  {
   "cell_type": "code",
   "execution_count": 63,
   "metadata": {},
   "outputs": [
    {
     "data": {
      "text/plain": [
       "GridSearchCV(cv=5, error_score=nan,\n",
       "             estimator=LogisticRegression(C=1.0, class_weight=None, dual=False,\n",
       "                                          fit_intercept=True,\n",
       "                                          intercept_scaling=1, l1_ratio=None,\n",
       "                                          max_iter=100, multi_class='auto',\n",
       "                                          n_jobs=None, penalty='l2',\n",
       "                                          random_state=None, solver='lbfgs',\n",
       "                                          tol=0.0001, verbose=0,\n",
       "                                          warm_start=False),\n",
       "             iid='deprecated', n_jobs=None,\n",
       "             param_grid={'penalty': ['l1', 'l2']}, pre_dispatch='2*n_jobs',\n",
       "             refit=True, return_train_score=False, scoring=None, verbose=0)"
      ]
     },
     "execution_count": 63,
     "metadata": {},
     "output_type": "execute_result"
    }
   ],
   "source": [
    "cv_logistic.fit(X_train,y_train)"
   ]
  },
  {
   "cell_type": "code",
   "execution_count": 64,
   "metadata": {},
   "outputs": [],
   "source": [
    "best_model = cv_logistic.best_estimator_"
   ]
  },
  {
   "cell_type": "markdown",
   "metadata": {},
   "source": [
    "# 8.8 Best Penalty Paradigm "
   ]
  },
  {
   "cell_type": "code",
   "execution_count": 65,
   "metadata": {},
   "outputs": [
    {
     "name": "stdout",
     "output_type": "stream",
     "text": [
      "Best Penalty: l2\n"
     ]
    }
   ],
   "source": [
    "print('Best Penalty:', best_model.get_params()['penalty'])"
   ]
  },
  {
   "cell_type": "code",
   "execution_count": 66,
   "metadata": {},
   "outputs": [
    {
     "name": "stdout",
     "output_type": "stream",
     "text": [
      "Best Score: 0.7176821823442167\n"
     ]
    }
   ],
   "source": [
    "print('Best Score:', cv_logistic.best_score_)"
   ]
  },
  {
   "cell_type": "code",
   "execution_count": 67,
   "metadata": {},
   "outputs": [
    {
     "data": {
      "text/plain": [
       "{'penalty': 'l2'}"
      ]
     },
     "execution_count": 67,
     "metadata": {},
     "output_type": "execute_result"
    }
   ],
   "source": [
    "cv_logistic.best_params_"
   ]
  },
  {
   "cell_type": "markdown",
   "metadata": {},
   "source": [
    "\n",
    "Results showed that the L1 penalty model performed better than the L2 model (0.726)."
   ]
  },
  {
   "cell_type": "markdown",
   "metadata": {},
   "source": [
    "# 8.9 Decision Tree Classifier "
   ]
  },
  {
   "cell_type": "markdown",
   "metadata": {},
   "source": [
    "\n",
    "Decision Trees bisect the space into smaller and smaller regions, whereas Logistic Regression fits a single line to divide the space exactly into two. Of course for higher-dimensional data, these lines would generalize to planes and hyperplanes.\n",
    "Decision tree is one of the fastest way to identify most significant variables and relation between two or more variables. With the help of decision trees, we can create new variables / features that has better power to predict target variable. It can also be used in data exploration stage."
   ]
  },
  {
   "cell_type": "markdown",
   "metadata": {},
   "source": [
    "# 8.10 Running Decision Tree Classifier"
   ]
  },
  {
   "cell_type": "code",
   "execution_count": 68,
   "metadata": {},
   "outputs": [
    {
     "data": {
      "text/plain": [
       "DecisionTreeClassifier(ccp_alpha=0.0, class_weight=None, criterion='gini',\n",
       "                       max_depth=None, max_features=None, max_leaf_nodes=None,\n",
       "                       min_impurity_decrease=0.0, min_impurity_split=None,\n",
       "                       min_samples_leaf=1, min_samples_split=2,\n",
       "                       min_weight_fraction_leaf=0.0, presort='deprecated',\n",
       "                       random_state=42, splitter='best')"
      ]
     },
     "execution_count": 68,
     "metadata": {},
     "output_type": "execute_result"
    }
   ],
   "source": [
    "model_dt = DecisionTreeClassifier(random_state=42)\n",
    "model_dt.fit(X_train_v,y_train_v)"
   ]
  },
  {
   "cell_type": "code",
   "execution_count": 69,
   "metadata": {},
   "outputs": [],
   "source": [
    "y_val_pred = model_dt.predict(X_val)\n",
    "y_train_pred = model_dt.predict(X_train_v)"
   ]
  },
  {
   "cell_type": "code",
   "execution_count": 70,
   "metadata": {},
   "outputs": [
    {
     "name": "stdout",
     "output_type": "stream",
     "text": [
      "Accuracy of model on training = 1.0\n",
      "Accuracy of model on validation= 0.666\n"
     ]
    }
   ],
   "source": [
    "print(\"Accuracy of model on training =\", round(accuracy_score(y_train_v, y_train_pred),3))\n",
    "print(\"Accuracy of model on validation=\", round(accuracy_score(y_val, y_val_pred),3))"
   ]
  },
  {
   "cell_type": "markdown",
   "metadata": {},
   "source": [
    "\n",
    "The above consists of an evaluation of the Decision Tree Classifier model. It can be seen that the accuracy of the model on the training data is 1.0, hence highly overfitted. The model's accuracy reported on the validation data is 0.666."
   ]
  },
  {
   "cell_type": "markdown",
   "metadata": {},
   "source": [
    "# 7.11 Hyper Parameterization - Part I"
   ]
  },
  {
   "cell_type": "markdown",
   "metadata": {},
   "source": [
    " \n",
    "As the Decision Tree model seems to be overfitting, hyper Paramentization will beused in order to tune the model. Hyperparameters are the properties that govern the entire training process. Hyperparameters are important because they directly control the behaviour of the training algorithm and have a significant impact on the performance of the model is being trained."
   ]
  },
  {
   "cell_type": "code",
   "execution_count": 71,
   "metadata": {},
   "outputs": [],
   "source": [
    "skf = StratifiedKFold(n_splits=5,random_state=42)"
   ]
  },
  {
   "cell_type": "code",
   "execution_count": 72,
   "metadata": {},
   "outputs": [],
   "source": [
    "param_grid = {'max_depth':range(10,50+1,10),'min_samples_leaf':[5,10,15,20]}"
   ]
  },
  {
   "cell_type": "code",
   "execution_count": 73,
   "metadata": {},
   "outputs": [],
   "source": [
    "model_dt_tuned = GridSearchCV(model_dt,param_grid,cv=skf,scoring='accuracy',return_train_score=True,n_jobs=-1)"
   ]
  },
  {
   "cell_type": "code",
   "execution_count": 74,
   "metadata": {},
   "outputs": [
    {
     "data": {
      "text/plain": [
       "GridSearchCV(cv=StratifiedKFold(n_splits=5, random_state=42, shuffle=False),\n",
       "             error_score=nan,\n",
       "             estimator=DecisionTreeClassifier(ccp_alpha=0.0, class_weight=None,\n",
       "                                              criterion='gini', max_depth=None,\n",
       "                                              max_features=None,\n",
       "                                              max_leaf_nodes=None,\n",
       "                                              min_impurity_decrease=0.0,\n",
       "                                              min_impurity_split=None,\n",
       "                                              min_samples_leaf=1,\n",
       "                                              min_samples_split=2,\n",
       "                                              min_weight_fraction_leaf=0.0,\n",
       "                                              presort='deprecated',\n",
       "                                              random_state=42,\n",
       "                                              splitter='best'),\n",
       "             iid='deprecated', n_jobs=-1,\n",
       "             param_grid={'max_depth': range(10, 51, 10),\n",
       "                         'min_samples_leaf': [5, 10, 15, 20]},\n",
       "             pre_dispatch='2*n_jobs', refit=True, return_train_score=True,\n",
       "             scoring='accuracy', verbose=0)"
      ]
     },
     "execution_count": 74,
     "metadata": {},
     "output_type": "execute_result"
    }
   ],
   "source": [
    "model_dt_tuned.fit(X_train, y_train)"
   ]
  },
  {
   "cell_type": "code",
   "execution_count": 75,
   "metadata": {},
   "outputs": [
    {
     "data": {
      "text/plain": [
       "{'max_depth': 10, 'min_samples_leaf': 20}"
      ]
     },
     "execution_count": 75,
     "metadata": {},
     "output_type": "execute_result"
    }
   ],
   "source": [
    "model_dt_tuned.best_params_"
   ]
  },
  {
   "cell_type": "markdown",
   "metadata": {},
   "source": [
    "# 8.12 Accuracy on Validation"
   ]
  },
  {
   "cell_type": "code",
   "execution_count": 76,
   "metadata": {},
   "outputs": [
    {
     "name": "stdout",
     "output_type": "stream",
     "text": [
      "Accuracy on validation set: 0.73\n"
     ]
    }
   ],
   "source": [
    "print('Accuracy on validation set:', round(model_dt_tuned.best_score_,3))"
   ]
  },
  {
   "cell_type": "markdown",
   "metadata": {},
   "source": [
    "\n",
    "After tuning the parameters using min samples leaf, the accuracy on validation dataset is 0.73. "
   ]
  },
  {
   "cell_type": "code",
   "execution_count": 77,
   "metadata": {},
   "outputs": [
    {
     "data": {
      "text/html": [
       "<div>\n",
       "<style scoped>\n",
       "    .dataframe tbody tr th:only-of-type {\n",
       "        vertical-align: middle;\n",
       "    }\n",
       "\n",
       "    .dataframe tbody tr th {\n",
       "        vertical-align: top;\n",
       "    }\n",
       "\n",
       "    .dataframe thead th {\n",
       "        text-align: right;\n",
       "    }\n",
       "</style>\n",
       "<table border=\"1\" class=\"dataframe\">\n",
       "  <thead>\n",
       "    <tr style=\"text-align: right;\">\n",
       "      <th></th>\n",
       "      <th>mean_fit_time</th>\n",
       "      <th>std_fit_time</th>\n",
       "      <th>mean_score_time</th>\n",
       "      <th>std_score_time</th>\n",
       "      <th>param_max_depth</th>\n",
       "      <th>param_min_samples_leaf</th>\n",
       "      <th>params</th>\n",
       "      <th>split0_test_score</th>\n",
       "      <th>split1_test_score</th>\n",
       "      <th>split2_test_score</th>\n",
       "      <th>...</th>\n",
       "      <th>mean_test_score</th>\n",
       "      <th>std_test_score</th>\n",
       "      <th>rank_test_score</th>\n",
       "      <th>split0_train_score</th>\n",
       "      <th>split1_train_score</th>\n",
       "      <th>split2_train_score</th>\n",
       "      <th>split3_train_score</th>\n",
       "      <th>split4_train_score</th>\n",
       "      <th>mean_train_score</th>\n",
       "      <th>std_train_score</th>\n",
       "    </tr>\n",
       "  </thead>\n",
       "  <tbody>\n",
       "    <tr>\n",
       "      <td>0</td>\n",
       "      <td>0.185704</td>\n",
       "      <td>0.002309</td>\n",
       "      <td>0.018947</td>\n",
       "      <td>0.001092</td>\n",
       "      <td>10</td>\n",
       "      <td>5</td>\n",
       "      <td>{'max_depth': 10, 'min_samples_leaf': 5}</td>\n",
       "      <td>0.728972</td>\n",
       "      <td>0.713618</td>\n",
       "      <td>0.732977</td>\n",
       "      <td>...</td>\n",
       "      <td>0.722622</td>\n",
       "      <td>0.009867</td>\n",
       "      <td>8</td>\n",
       "      <td>0.781636</td>\n",
       "      <td>0.780467</td>\n",
       "      <td>0.779466</td>\n",
       "      <td>0.788182</td>\n",
       "      <td>0.780337</td>\n",
       "      <td>0.782018</td>\n",
       "      <td>0.003159</td>\n",
       "    </tr>\n",
       "    <tr>\n",
       "      <td>1</td>\n",
       "      <td>0.182709</td>\n",
       "      <td>0.026063</td>\n",
       "      <td>0.017952</td>\n",
       "      <td>0.001409</td>\n",
       "      <td>10</td>\n",
       "      <td>10</td>\n",
       "      <td>{'max_depth': 10, 'min_samples_leaf': 10}</td>\n",
       "      <td>0.730307</td>\n",
       "      <td>0.713618</td>\n",
       "      <td>0.732310</td>\n",
       "      <td>...</td>\n",
       "      <td>0.725695</td>\n",
       "      <td>0.006622</td>\n",
       "      <td>7</td>\n",
       "      <td>0.766778</td>\n",
       "      <td>0.766945</td>\n",
       "      <td>0.765776</td>\n",
       "      <td>0.771991</td>\n",
       "      <td>0.764647</td>\n",
       "      <td>0.767227</td>\n",
       "      <td>0.002520</td>\n",
       "    </tr>\n",
       "    <tr>\n",
       "      <td>2</td>\n",
       "      <td>0.190489</td>\n",
       "      <td>0.014217</td>\n",
       "      <td>0.017553</td>\n",
       "      <td>0.001018</td>\n",
       "      <td>10</td>\n",
       "      <td>15</td>\n",
       "      <td>{'max_depth': 10, 'min_samples_leaf': 15}</td>\n",
       "      <td>0.732977</td>\n",
       "      <td>0.718291</td>\n",
       "      <td>0.728304</td>\n",
       "      <td>...</td>\n",
       "      <td>0.725961</td>\n",
       "      <td>0.005329</td>\n",
       "      <td>6</td>\n",
       "      <td>0.759098</td>\n",
       "      <td>0.760935</td>\n",
       "      <td>0.758097</td>\n",
       "      <td>0.762310</td>\n",
       "      <td>0.762978</td>\n",
       "      <td>0.760684</td>\n",
       "      <td>0.001853</td>\n",
       "    </tr>\n",
       "    <tr>\n",
       "      <td>3</td>\n",
       "      <td>0.188097</td>\n",
       "      <td>0.018580</td>\n",
       "      <td>0.018350</td>\n",
       "      <td>0.002863</td>\n",
       "      <td>10</td>\n",
       "      <td>20</td>\n",
       "      <td>{'max_depth': 10, 'min_samples_leaf': 20}</td>\n",
       "      <td>0.730975</td>\n",
       "      <td>0.730307</td>\n",
       "      <td>0.736315</td>\n",
       "      <td>...</td>\n",
       "      <td>0.730101</td>\n",
       "      <td>0.005735</td>\n",
       "      <td>1</td>\n",
       "      <td>0.755092</td>\n",
       "      <td>0.756761</td>\n",
       "      <td>0.754591</td>\n",
       "      <td>0.754131</td>\n",
       "      <td>0.756969</td>\n",
       "      <td>0.755509</td>\n",
       "      <td>0.001150</td>\n",
       "    </tr>\n",
       "    <tr>\n",
       "      <td>4</td>\n",
       "      <td>0.261701</td>\n",
       "      <td>0.012241</td>\n",
       "      <td>0.017753</td>\n",
       "      <td>0.001462</td>\n",
       "      <td>20</td>\n",
       "      <td>5</td>\n",
       "      <td>{'max_depth': 20, 'min_samples_leaf': 5}</td>\n",
       "      <td>0.700935</td>\n",
       "      <td>0.688919</td>\n",
       "      <td>0.708278</td>\n",
       "      <td>...</td>\n",
       "      <td>0.692839</td>\n",
       "      <td>0.011045</td>\n",
       "      <td>17</td>\n",
       "      <td>0.819032</td>\n",
       "      <td>0.819533</td>\n",
       "      <td>0.818698</td>\n",
       "      <td>0.821065</td>\n",
       "      <td>0.818060</td>\n",
       "      <td>0.819277</td>\n",
       "      <td>0.001014</td>\n",
       "    </tr>\n",
       "    <tr>\n",
       "      <td>5</td>\n",
       "      <td>0.216021</td>\n",
       "      <td>0.009088</td>\n",
       "      <td>0.017553</td>\n",
       "      <td>0.001196</td>\n",
       "      <td>20</td>\n",
       "      <td>10</td>\n",
       "      <td>{'max_depth': 20, 'min_samples_leaf': 10}</td>\n",
       "      <td>0.717623</td>\n",
       "      <td>0.706943</td>\n",
       "      <td>0.716956</td>\n",
       "      <td>...</td>\n",
       "      <td>0.711404</td>\n",
       "      <td>0.004861</td>\n",
       "      <td>13</td>\n",
       "      <td>0.777462</td>\n",
       "      <td>0.779466</td>\n",
       "      <td>0.779132</td>\n",
       "      <td>0.777833</td>\n",
       "      <td>0.779836</td>\n",
       "      <td>0.778746</td>\n",
       "      <td>0.000931</td>\n",
       "    </tr>\n",
       "    <tr>\n",
       "      <td>6</td>\n",
       "      <td>0.208442</td>\n",
       "      <td>0.018616</td>\n",
       "      <td>0.020545</td>\n",
       "      <td>0.003432</td>\n",
       "      <td>20</td>\n",
       "      <td>15</td>\n",
       "      <td>{'max_depth': 20, 'min_samples_leaf': 15}</td>\n",
       "      <td>0.726302</td>\n",
       "      <td>0.716956</td>\n",
       "      <td>0.722296</td>\n",
       "      <td>...</td>\n",
       "      <td>0.721020</td>\n",
       "      <td>0.004458</td>\n",
       "      <td>9</td>\n",
       "      <td>0.762104</td>\n",
       "      <td>0.766945</td>\n",
       "      <td>0.765776</td>\n",
       "      <td>0.762477</td>\n",
       "      <td>0.766483</td>\n",
       "      <td>0.764757</td>\n",
       "      <td>0.002052</td>\n",
       "    </tr>\n",
       "    <tr>\n",
       "      <td>7</td>\n",
       "      <td>0.265491</td>\n",
       "      <td>0.029367</td>\n",
       "      <td>0.020146</td>\n",
       "      <td>0.001934</td>\n",
       "      <td>20</td>\n",
       "      <td>20</td>\n",
       "      <td>{'max_depth': 20, 'min_samples_leaf': 20}</td>\n",
       "      <td>0.726302</td>\n",
       "      <td>0.726969</td>\n",
       "      <td>0.731642</td>\n",
       "      <td>...</td>\n",
       "      <td>0.727564</td>\n",
       "      <td>0.004888</td>\n",
       "      <td>2</td>\n",
       "      <td>0.756093</td>\n",
       "      <td>0.759766</td>\n",
       "      <td>0.760267</td>\n",
       "      <td>0.754131</td>\n",
       "      <td>0.759139</td>\n",
       "      <td>0.757879</td>\n",
       "      <td>0.002370</td>\n",
       "    </tr>\n",
       "    <tr>\n",
       "      <td>8</td>\n",
       "      <td>0.266887</td>\n",
       "      <td>0.026179</td>\n",
       "      <td>0.019147</td>\n",
       "      <td>0.002476</td>\n",
       "      <td>30</td>\n",
       "      <td>5</td>\n",
       "      <td>{'max_depth': 30, 'min_samples_leaf': 5}</td>\n",
       "      <td>0.695594</td>\n",
       "      <td>0.687583</td>\n",
       "      <td>0.692924</td>\n",
       "      <td>...</td>\n",
       "      <td>0.688166</td>\n",
       "      <td>0.008484</td>\n",
       "      <td>18</td>\n",
       "      <td>0.821035</td>\n",
       "      <td>0.820367</td>\n",
       "      <td>0.824541</td>\n",
       "      <td>0.824236</td>\n",
       "      <td>0.821733</td>\n",
       "      <td>0.822382</td>\n",
       "      <td>0.001697</td>\n",
       "    </tr>\n",
       "    <tr>\n",
       "      <td>9</td>\n",
       "      <td>0.279851</td>\n",
       "      <td>0.028586</td>\n",
       "      <td>0.025332</td>\n",
       "      <td>0.009326</td>\n",
       "      <td>30</td>\n",
       "      <td>10</td>\n",
       "      <td>{'max_depth': 30, 'min_samples_leaf': 10}</td>\n",
       "      <td>0.717623</td>\n",
       "      <td>0.701602</td>\n",
       "      <td>0.714286</td>\n",
       "      <td>...</td>\n",
       "      <td>0.710069</td>\n",
       "      <td>0.005518</td>\n",
       "      <td>14</td>\n",
       "      <td>0.777462</td>\n",
       "      <td>0.779800</td>\n",
       "      <td>0.780134</td>\n",
       "      <td>0.777833</td>\n",
       "      <td>0.779836</td>\n",
       "      <td>0.779013</td>\n",
       "      <td>0.001127</td>\n",
       "    </tr>\n",
       "    <tr>\n",
       "      <td>10</td>\n",
       "      <td>0.234171</td>\n",
       "      <td>0.031459</td>\n",
       "      <td>0.018351</td>\n",
       "      <td>0.002570</td>\n",
       "      <td>30</td>\n",
       "      <td>15</td>\n",
       "      <td>{'max_depth': 30, 'min_samples_leaf': 15}</td>\n",
       "      <td>0.726302</td>\n",
       "      <td>0.716956</td>\n",
       "      <td>0.722296</td>\n",
       "      <td>...</td>\n",
       "      <td>0.721020</td>\n",
       "      <td>0.004458</td>\n",
       "      <td>9</td>\n",
       "      <td>0.762104</td>\n",
       "      <td>0.766945</td>\n",
       "      <td>0.765776</td>\n",
       "      <td>0.762477</td>\n",
       "      <td>0.766483</td>\n",
       "      <td>0.764757</td>\n",
       "      <td>0.002052</td>\n",
       "    </tr>\n",
       "    <tr>\n",
       "      <td>11</td>\n",
       "      <td>0.222205</td>\n",
       "      <td>0.018164</td>\n",
       "      <td>0.026729</td>\n",
       "      <td>0.010987</td>\n",
       "      <td>30</td>\n",
       "      <td>20</td>\n",
       "      <td>{'max_depth': 30, 'min_samples_leaf': 20}</td>\n",
       "      <td>0.726302</td>\n",
       "      <td>0.726969</td>\n",
       "      <td>0.731642</td>\n",
       "      <td>...</td>\n",
       "      <td>0.727564</td>\n",
       "      <td>0.004888</td>\n",
       "      <td>2</td>\n",
       "      <td>0.756093</td>\n",
       "      <td>0.759766</td>\n",
       "      <td>0.760267</td>\n",
       "      <td>0.754131</td>\n",
       "      <td>0.759139</td>\n",
       "      <td>0.757879</td>\n",
       "      <td>0.002370</td>\n",
       "    </tr>\n",
       "    <tr>\n",
       "      <td>12</td>\n",
       "      <td>0.257909</td>\n",
       "      <td>0.020736</td>\n",
       "      <td>0.017752</td>\n",
       "      <td>0.001829</td>\n",
       "      <td>40</td>\n",
       "      <td>5</td>\n",
       "      <td>{'max_depth': 40, 'min_samples_leaf': 5}</td>\n",
       "      <td>0.695594</td>\n",
       "      <td>0.687583</td>\n",
       "      <td>0.692924</td>\n",
       "      <td>...</td>\n",
       "      <td>0.688166</td>\n",
       "      <td>0.008484</td>\n",
       "      <td>18</td>\n",
       "      <td>0.821035</td>\n",
       "      <td>0.820367</td>\n",
       "      <td>0.824541</td>\n",
       "      <td>0.824236</td>\n",
       "      <td>0.821733</td>\n",
       "      <td>0.822382</td>\n",
       "      <td>0.001697</td>\n",
       "    </tr>\n",
       "    <tr>\n",
       "      <td>13</td>\n",
       "      <td>0.216821</td>\n",
       "      <td>0.014240</td>\n",
       "      <td>0.019548</td>\n",
       "      <td>0.000489</td>\n",
       "      <td>40</td>\n",
       "      <td>10</td>\n",
       "      <td>{'max_depth': 40, 'min_samples_leaf': 10}</td>\n",
       "      <td>0.717623</td>\n",
       "      <td>0.701602</td>\n",
       "      <td>0.714286</td>\n",
       "      <td>...</td>\n",
       "      <td>0.710069</td>\n",
       "      <td>0.005518</td>\n",
       "      <td>14</td>\n",
       "      <td>0.777462</td>\n",
       "      <td>0.779800</td>\n",
       "      <td>0.780134</td>\n",
       "      <td>0.777833</td>\n",
       "      <td>0.779836</td>\n",
       "      <td>0.779013</td>\n",
       "      <td>0.001127</td>\n",
       "    </tr>\n",
       "    <tr>\n",
       "      <td>14</td>\n",
       "      <td>0.208643</td>\n",
       "      <td>0.011654</td>\n",
       "      <td>0.018550</td>\n",
       "      <td>0.002327</td>\n",
       "      <td>40</td>\n",
       "      <td>15</td>\n",
       "      <td>{'max_depth': 40, 'min_samples_leaf': 15}</td>\n",
       "      <td>0.726302</td>\n",
       "      <td>0.716956</td>\n",
       "      <td>0.722296</td>\n",
       "      <td>...</td>\n",
       "      <td>0.721020</td>\n",
       "      <td>0.004458</td>\n",
       "      <td>9</td>\n",
       "      <td>0.762104</td>\n",
       "      <td>0.766945</td>\n",
       "      <td>0.765776</td>\n",
       "      <td>0.762477</td>\n",
       "      <td>0.766483</td>\n",
       "      <td>0.764757</td>\n",
       "      <td>0.002052</td>\n",
       "    </tr>\n",
       "    <tr>\n",
       "      <td>15</td>\n",
       "      <td>0.202260</td>\n",
       "      <td>0.009172</td>\n",
       "      <td>0.020544</td>\n",
       "      <td>0.004575</td>\n",
       "      <td>40</td>\n",
       "      <td>20</td>\n",
       "      <td>{'max_depth': 40, 'min_samples_leaf': 20}</td>\n",
       "      <td>0.726302</td>\n",
       "      <td>0.726969</td>\n",
       "      <td>0.731642</td>\n",
       "      <td>...</td>\n",
       "      <td>0.727564</td>\n",
       "      <td>0.004888</td>\n",
       "      <td>2</td>\n",
       "      <td>0.756093</td>\n",
       "      <td>0.759766</td>\n",
       "      <td>0.760267</td>\n",
       "      <td>0.754131</td>\n",
       "      <td>0.759139</td>\n",
       "      <td>0.757879</td>\n",
       "      <td>0.002370</td>\n",
       "    </tr>\n",
       "    <tr>\n",
       "      <td>16</td>\n",
       "      <td>0.249333</td>\n",
       "      <td>0.011580</td>\n",
       "      <td>0.023538</td>\n",
       "      <td>0.007181</td>\n",
       "      <td>50</td>\n",
       "      <td>5</td>\n",
       "      <td>{'max_depth': 50, 'min_samples_leaf': 5}</td>\n",
       "      <td>0.695594</td>\n",
       "      <td>0.687583</td>\n",
       "      <td>0.692924</td>\n",
       "      <td>...</td>\n",
       "      <td>0.688166</td>\n",
       "      <td>0.008484</td>\n",
       "      <td>18</td>\n",
       "      <td>0.821035</td>\n",
       "      <td>0.820367</td>\n",
       "      <td>0.824541</td>\n",
       "      <td>0.824236</td>\n",
       "      <td>0.821733</td>\n",
       "      <td>0.822382</td>\n",
       "      <td>0.001697</td>\n",
       "    </tr>\n",
       "    <tr>\n",
       "      <td>17</td>\n",
       "      <td>0.223602</td>\n",
       "      <td>0.014471</td>\n",
       "      <td>0.019549</td>\n",
       "      <td>0.003602</td>\n",
       "      <td>50</td>\n",
       "      <td>10</td>\n",
       "      <td>{'max_depth': 50, 'min_samples_leaf': 10}</td>\n",
       "      <td>0.717623</td>\n",
       "      <td>0.701602</td>\n",
       "      <td>0.714286</td>\n",
       "      <td>...</td>\n",
       "      <td>0.710069</td>\n",
       "      <td>0.005518</td>\n",
       "      <td>14</td>\n",
       "      <td>0.777462</td>\n",
       "      <td>0.779800</td>\n",
       "      <td>0.780134</td>\n",
       "      <td>0.777833</td>\n",
       "      <td>0.779836</td>\n",
       "      <td>0.779013</td>\n",
       "      <td>0.001127</td>\n",
       "    </tr>\n",
       "    <tr>\n",
       "      <td>18</td>\n",
       "      <td>0.215820</td>\n",
       "      <td>0.009598</td>\n",
       "      <td>0.018750</td>\n",
       "      <td>0.001466</td>\n",
       "      <td>50</td>\n",
       "      <td>15</td>\n",
       "      <td>{'max_depth': 50, 'min_samples_leaf': 15}</td>\n",
       "      <td>0.726302</td>\n",
       "      <td>0.716956</td>\n",
       "      <td>0.722296</td>\n",
       "      <td>...</td>\n",
       "      <td>0.721020</td>\n",
       "      <td>0.004458</td>\n",
       "      <td>9</td>\n",
       "      <td>0.762104</td>\n",
       "      <td>0.766945</td>\n",
       "      <td>0.765776</td>\n",
       "      <td>0.762477</td>\n",
       "      <td>0.766483</td>\n",
       "      <td>0.764757</td>\n",
       "      <td>0.002052</td>\n",
       "    </tr>\n",
       "    <tr>\n",
       "      <td>19</td>\n",
       "      <td>0.194679</td>\n",
       "      <td>0.006477</td>\n",
       "      <td>0.016554</td>\n",
       "      <td>0.003601</td>\n",
       "      <td>50</td>\n",
       "      <td>20</td>\n",
       "      <td>{'max_depth': 50, 'min_samples_leaf': 20}</td>\n",
       "      <td>0.726302</td>\n",
       "      <td>0.726969</td>\n",
       "      <td>0.731642</td>\n",
       "      <td>...</td>\n",
       "      <td>0.727564</td>\n",
       "      <td>0.004888</td>\n",
       "      <td>2</td>\n",
       "      <td>0.756093</td>\n",
       "      <td>0.759766</td>\n",
       "      <td>0.760267</td>\n",
       "      <td>0.754131</td>\n",
       "      <td>0.759139</td>\n",
       "      <td>0.757879</td>\n",
       "      <td>0.002370</td>\n",
       "    </tr>\n",
       "  </tbody>\n",
       "</table>\n",
       "<p>20 rows × 22 columns</p>\n",
       "</div>"
      ],
      "text/plain": [
       "    mean_fit_time  std_fit_time  mean_score_time  std_score_time  \\\n",
       "0        0.185704      0.002309         0.018947        0.001092   \n",
       "1        0.182709      0.026063         0.017952        0.001409   \n",
       "2        0.190489      0.014217         0.017553        0.001018   \n",
       "3        0.188097      0.018580         0.018350        0.002863   \n",
       "4        0.261701      0.012241         0.017753        0.001462   \n",
       "5        0.216021      0.009088         0.017553        0.001196   \n",
       "6        0.208442      0.018616         0.020545        0.003432   \n",
       "7        0.265491      0.029367         0.020146        0.001934   \n",
       "8        0.266887      0.026179         0.019147        0.002476   \n",
       "9        0.279851      0.028586         0.025332        0.009326   \n",
       "10       0.234171      0.031459         0.018351        0.002570   \n",
       "11       0.222205      0.018164         0.026729        0.010987   \n",
       "12       0.257909      0.020736         0.017752        0.001829   \n",
       "13       0.216821      0.014240         0.019548        0.000489   \n",
       "14       0.208643      0.011654         0.018550        0.002327   \n",
       "15       0.202260      0.009172         0.020544        0.004575   \n",
       "16       0.249333      0.011580         0.023538        0.007181   \n",
       "17       0.223602      0.014471         0.019549        0.003602   \n",
       "18       0.215820      0.009598         0.018750        0.001466   \n",
       "19       0.194679      0.006477         0.016554        0.003601   \n",
       "\n",
       "   param_max_depth param_min_samples_leaf  \\\n",
       "0               10                      5   \n",
       "1               10                     10   \n",
       "2               10                     15   \n",
       "3               10                     20   \n",
       "4               20                      5   \n",
       "5               20                     10   \n",
       "6               20                     15   \n",
       "7               20                     20   \n",
       "8               30                      5   \n",
       "9               30                     10   \n",
       "10              30                     15   \n",
       "11              30                     20   \n",
       "12              40                      5   \n",
       "13              40                     10   \n",
       "14              40                     15   \n",
       "15              40                     20   \n",
       "16              50                      5   \n",
       "17              50                     10   \n",
       "18              50                     15   \n",
       "19              50                     20   \n",
       "\n",
       "                                       params  split0_test_score  \\\n",
       "0    {'max_depth': 10, 'min_samples_leaf': 5}           0.728972   \n",
       "1   {'max_depth': 10, 'min_samples_leaf': 10}           0.730307   \n",
       "2   {'max_depth': 10, 'min_samples_leaf': 15}           0.732977   \n",
       "3   {'max_depth': 10, 'min_samples_leaf': 20}           0.730975   \n",
       "4    {'max_depth': 20, 'min_samples_leaf': 5}           0.700935   \n",
       "5   {'max_depth': 20, 'min_samples_leaf': 10}           0.717623   \n",
       "6   {'max_depth': 20, 'min_samples_leaf': 15}           0.726302   \n",
       "7   {'max_depth': 20, 'min_samples_leaf': 20}           0.726302   \n",
       "8    {'max_depth': 30, 'min_samples_leaf': 5}           0.695594   \n",
       "9   {'max_depth': 30, 'min_samples_leaf': 10}           0.717623   \n",
       "10  {'max_depth': 30, 'min_samples_leaf': 15}           0.726302   \n",
       "11  {'max_depth': 30, 'min_samples_leaf': 20}           0.726302   \n",
       "12   {'max_depth': 40, 'min_samples_leaf': 5}           0.695594   \n",
       "13  {'max_depth': 40, 'min_samples_leaf': 10}           0.717623   \n",
       "14  {'max_depth': 40, 'min_samples_leaf': 15}           0.726302   \n",
       "15  {'max_depth': 40, 'min_samples_leaf': 20}           0.726302   \n",
       "16   {'max_depth': 50, 'min_samples_leaf': 5}           0.695594   \n",
       "17  {'max_depth': 50, 'min_samples_leaf': 10}           0.717623   \n",
       "18  {'max_depth': 50, 'min_samples_leaf': 15}           0.726302   \n",
       "19  {'max_depth': 50, 'min_samples_leaf': 20}           0.726302   \n",
       "\n",
       "    split1_test_score  split2_test_score  ...  mean_test_score  \\\n",
       "0            0.713618           0.732977  ...         0.722622   \n",
       "1            0.713618           0.732310  ...         0.725695   \n",
       "2            0.718291           0.728304  ...         0.725961   \n",
       "3            0.730307           0.736315  ...         0.730101   \n",
       "4            0.688919           0.708278  ...         0.692839   \n",
       "5            0.706943           0.716956  ...         0.711404   \n",
       "6            0.716956           0.722296  ...         0.721020   \n",
       "7            0.726969           0.731642  ...         0.727564   \n",
       "8            0.687583           0.692924  ...         0.688166   \n",
       "9            0.701602           0.714286  ...         0.710069   \n",
       "10           0.716956           0.722296  ...         0.721020   \n",
       "11           0.726969           0.731642  ...         0.727564   \n",
       "12           0.687583           0.692924  ...         0.688166   \n",
       "13           0.701602           0.714286  ...         0.710069   \n",
       "14           0.716956           0.722296  ...         0.721020   \n",
       "15           0.726969           0.731642  ...         0.727564   \n",
       "16           0.687583           0.692924  ...         0.688166   \n",
       "17           0.701602           0.714286  ...         0.710069   \n",
       "18           0.716956           0.722296  ...         0.721020   \n",
       "19           0.726969           0.731642  ...         0.727564   \n",
       "\n",
       "    std_test_score  rank_test_score  split0_train_score  split1_train_score  \\\n",
       "0         0.009867                8            0.781636            0.780467   \n",
       "1         0.006622                7            0.766778            0.766945   \n",
       "2         0.005329                6            0.759098            0.760935   \n",
       "3         0.005735                1            0.755092            0.756761   \n",
       "4         0.011045               17            0.819032            0.819533   \n",
       "5         0.004861               13            0.777462            0.779466   \n",
       "6         0.004458                9            0.762104            0.766945   \n",
       "7         0.004888                2            0.756093            0.759766   \n",
       "8         0.008484               18            0.821035            0.820367   \n",
       "9         0.005518               14            0.777462            0.779800   \n",
       "10        0.004458                9            0.762104            0.766945   \n",
       "11        0.004888                2            0.756093            0.759766   \n",
       "12        0.008484               18            0.821035            0.820367   \n",
       "13        0.005518               14            0.777462            0.779800   \n",
       "14        0.004458                9            0.762104            0.766945   \n",
       "15        0.004888                2            0.756093            0.759766   \n",
       "16        0.008484               18            0.821035            0.820367   \n",
       "17        0.005518               14            0.777462            0.779800   \n",
       "18        0.004458                9            0.762104            0.766945   \n",
       "19        0.004888                2            0.756093            0.759766   \n",
       "\n",
       "    split2_train_score  split3_train_score  split4_train_score  \\\n",
       "0             0.779466            0.788182            0.780337   \n",
       "1             0.765776            0.771991            0.764647   \n",
       "2             0.758097            0.762310            0.762978   \n",
       "3             0.754591            0.754131            0.756969   \n",
       "4             0.818698            0.821065            0.818060   \n",
       "5             0.779132            0.777833            0.779836   \n",
       "6             0.765776            0.762477            0.766483   \n",
       "7             0.760267            0.754131            0.759139   \n",
       "8             0.824541            0.824236            0.821733   \n",
       "9             0.780134            0.777833            0.779836   \n",
       "10            0.765776            0.762477            0.766483   \n",
       "11            0.760267            0.754131            0.759139   \n",
       "12            0.824541            0.824236            0.821733   \n",
       "13            0.780134            0.777833            0.779836   \n",
       "14            0.765776            0.762477            0.766483   \n",
       "15            0.760267            0.754131            0.759139   \n",
       "16            0.824541            0.824236            0.821733   \n",
       "17            0.780134            0.777833            0.779836   \n",
       "18            0.765776            0.762477            0.766483   \n",
       "19            0.760267            0.754131            0.759139   \n",
       "\n",
       "    mean_train_score  std_train_score  \n",
       "0           0.782018         0.003159  \n",
       "1           0.767227         0.002520  \n",
       "2           0.760684         0.001853  \n",
       "3           0.755509         0.001150  \n",
       "4           0.819277         0.001014  \n",
       "5           0.778746         0.000931  \n",
       "6           0.764757         0.002052  \n",
       "7           0.757879         0.002370  \n",
       "8           0.822382         0.001697  \n",
       "9           0.779013         0.001127  \n",
       "10          0.764757         0.002052  \n",
       "11          0.757879         0.002370  \n",
       "12          0.822382         0.001697  \n",
       "13          0.779013         0.001127  \n",
       "14          0.764757         0.002052  \n",
       "15          0.757879         0.002370  \n",
       "16          0.822382         0.001697  \n",
       "17          0.779013         0.001127  \n",
       "18          0.764757         0.002052  \n",
       "19          0.757879         0.002370  \n",
       "\n",
       "[20 rows x 22 columns]"
      ]
     },
     "execution_count": 77,
     "metadata": {},
     "output_type": "execute_result"
    }
   ],
   "source": [
    "pd.DataFrame(model_dt_tuned.cv_results_)"
   ]
  },
  {
   "cell_type": "markdown",
   "metadata": {},
   "source": [
    "# 8.13 Hyper Parameterization - Part II"
   ]
  },
  {
   "cell_type": "code",
   "execution_count": 78,
   "metadata": {},
   "outputs": [],
   "source": [
    "param_grid = {'max_depth':range(15,25+1,1),'min_samples_leaf':[3,4,5,6,7]}"
   ]
  },
  {
   "cell_type": "code",
   "execution_count": 79,
   "metadata": {},
   "outputs": [],
   "source": [
    "model_dt_tuned_2 = GridSearchCV(model_dt,param_grid,cv=skf,scoring='accuracy',return_train_score=True,n_jobs=-1)"
   ]
  },
  {
   "cell_type": "code",
   "execution_count": 80,
   "metadata": {},
   "outputs": [
    {
     "data": {
      "text/plain": [
       "GridSearchCV(cv=StratifiedKFold(n_splits=5, random_state=42, shuffle=False),\n",
       "             error_score=nan,\n",
       "             estimator=DecisionTreeClassifier(ccp_alpha=0.0, class_weight=None,\n",
       "                                              criterion='gini', max_depth=None,\n",
       "                                              max_features=None,\n",
       "                                              max_leaf_nodes=None,\n",
       "                                              min_impurity_decrease=0.0,\n",
       "                                              min_impurity_split=None,\n",
       "                                              min_samples_leaf=1,\n",
       "                                              min_samples_split=2,\n",
       "                                              min_weight_fraction_leaf=0.0,\n",
       "                                              presort='deprecated',\n",
       "                                              random_state=42,\n",
       "                                              splitter='best'),\n",
       "             iid='deprecated', n_jobs=-1,\n",
       "             param_grid={'max_depth': range(15, 26),\n",
       "                         'min_samples_leaf': [3, 4, 5, 6, 7]},\n",
       "             pre_dispatch='2*n_jobs', refit=True, return_train_score=True,\n",
       "             scoring='accuracy', verbose=0)"
      ]
     },
     "execution_count": 80,
     "metadata": {},
     "output_type": "execute_result"
    }
   ],
   "source": [
    "model_dt_tuned_2.fit(X_train, y_train)"
   ]
  },
  {
   "cell_type": "code",
   "execution_count": 81,
   "metadata": {},
   "outputs": [
    {
     "data": {
      "text/plain": [
       "{'max_depth': 15, 'min_samples_leaf': 4}"
      ]
     },
     "execution_count": 81,
     "metadata": {},
     "output_type": "execute_result"
    }
   ],
   "source": [
    "model_dt_tuned_2.best_params_"
   ]
  },
  {
   "cell_type": "markdown",
   "metadata": {},
   "source": [
    "# 8.14 Assessing Accuracy of Validation "
   ]
  },
  {
   "cell_type": "code",
   "execution_count": 82,
   "metadata": {},
   "outputs": [
    {
     "name": "stdout",
     "output_type": "stream",
     "text": [
      "Accuracy on validation set: 0.712\n"
     ]
    }
   ],
   "source": [
    "print('Accuracy on validation set:', round(model_dt_tuned_2.best_score_,3))"
   ]
  },
  {
   "cell_type": "markdown",
   "metadata": {},
   "source": [
    " \n",
    "After tuning, the model's performance is 0.712. Thus not improving the performance of the model. "
   ]
  },
  {
   "cell_type": "markdown",
   "metadata": {},
   "source": [
    "# 8.15 Random Forest Classifier "
   ]
  },
  {
   "cell_type": "markdown",
   "metadata": {},
   "source": [
    "\n",
    "Random forests or random decision forests are an ensemble learning method for classification, regression and other tasks that operate by constructing a multitude of decision trees at training time and outputting the class that is the mode of the classes (classification) or mean prediction (regression) of the individual trees.Random decision forests correct for decision trees' habit of overfitting to their training set. \n",
    "Random forest algorithm can be used for both classifications and regression task. It provides higher accuracy. Random forest classifier will handle the missing values and maintain the accuracy of a large proportion of data. If there are more trees, it won't allow overfitting trees in the model."
   ]
  },
  {
   "cell_type": "markdown",
   "metadata": {},
   "source": [
    "# 8.16 Running Random Forest Classifier"
   ]
  },
  {
   "cell_type": "code",
   "execution_count": 83,
   "metadata": {},
   "outputs": [
    {
     "data": {
      "text/plain": [
       "RandomForestClassifier(bootstrap=True, ccp_alpha=0.0, class_weight=None,\n",
       "                       criterion='gini', max_depth=None, max_features='auto',\n",
       "                       max_leaf_nodes=None, max_samples=None,\n",
       "                       min_impurity_decrease=0.0, min_impurity_split=None,\n",
       "                       min_samples_leaf=1, min_samples_split=2,\n",
       "                       min_weight_fraction_leaf=0.0, n_estimators=100,\n",
       "                       n_jobs=-1, oob_score=False, random_state=42, verbose=0,\n",
       "                       warm_start=False)"
      ]
     },
     "execution_count": 83,
     "metadata": {},
     "output_type": "execute_result"
    }
   ],
   "source": [
    "model_rf = RandomForestClassifier(n_estimators=100,n_jobs=-1,random_state=42)\n",
    "model_rf.fit(X_train_v,y_train_v)"
   ]
  },
  {
   "cell_type": "code",
   "execution_count": 84,
   "metadata": {},
   "outputs": [],
   "source": [
    "y_val_pred = model_rf.predict(X_val)\n",
    "y_train_pred = model_dt.predict(X_train_v)"
   ]
  },
  {
   "cell_type": "code",
   "execution_count": 85,
   "metadata": {},
   "outputs": [
    {
     "data": {
      "text/plain": [
       "0.7316421895861148"
      ]
     },
     "execution_count": 85,
     "metadata": {},
     "output_type": "execute_result"
    }
   ],
   "source": [
    "accuracy_score(y_val,y_val_pred)"
   ]
  },
  {
   "cell_type": "code",
   "execution_count": 86,
   "metadata": {},
   "outputs": [
    {
     "data": {
      "text/plain": [
       "1.0"
      ]
     },
     "execution_count": 86,
     "metadata": {},
     "output_type": "execute_result"
    }
   ],
   "source": [
    "accuracy_score(y_train_v, y_train_pred)"
   ]
  },
  {
   "cell_type": "markdown",
   "metadata": {},
   "source": [
    " \n",
    "This model is overfitting. "
   ]
  },
  {
   "cell_type": "markdown",
   "metadata": {},
   "source": [
    "# 8.17 Hyper parameterization - Part I"
   ]
  },
  {
   "cell_type": "code",
   "execution_count": 87,
   "metadata": {},
   "outputs": [],
   "source": [
    "skf = StratifiedKFold(n_splits=5,random_state=42)"
   ]
  },
  {
   "cell_type": "code",
   "execution_count": 88,
   "metadata": {},
   "outputs": [],
   "source": [
    "param_grid = {'max_depth':range(10,50+1,10),'min_samples_leaf':[5,10,15,20]}"
   ]
  },
  {
   "cell_type": "code",
   "execution_count": 89,
   "metadata": {},
   "outputs": [],
   "source": [
    "model_rf_tuned = GridSearchCV(model_rf, param_grid, cv=skf, scoring='accuracy',return_train_score=True,n_jobs=-1)"
   ]
  },
  {
   "cell_type": "code",
   "execution_count": 90,
   "metadata": {},
   "outputs": [
    {
     "data": {
      "text/plain": [
       "GridSearchCV(cv=StratifiedKFold(n_splits=5, random_state=42, shuffle=False),\n",
       "             error_score=nan,\n",
       "             estimator=RandomForestClassifier(bootstrap=True, ccp_alpha=0.0,\n",
       "                                              class_weight=None,\n",
       "                                              criterion='gini', max_depth=None,\n",
       "                                              max_features='auto',\n",
       "                                              max_leaf_nodes=None,\n",
       "                                              max_samples=None,\n",
       "                                              min_impurity_decrease=0.0,\n",
       "                                              min_impurity_split=None,\n",
       "                                              min_samples_leaf=1,\n",
       "                                              min_samples_split=2,\n",
       "                                              min_weight_fraction_leaf=0.0,\n",
       "                                              n_estimators=100, n_jobs=-1,\n",
       "                                              oob_score=False, random_state=42,\n",
       "                                              verbose=0, warm_start=False),\n",
       "             iid='deprecated', n_jobs=-1,\n",
       "             param_grid={'max_depth': range(10, 51, 10),\n",
       "                         'min_samples_leaf': [5, 10, 15, 20]},\n",
       "             pre_dispatch='2*n_jobs', refit=True, return_train_score=True,\n",
       "             scoring='accuracy', verbose=0)"
      ]
     },
     "execution_count": 90,
     "metadata": {},
     "output_type": "execute_result"
    }
   ],
   "source": [
    "model_rf_tuned.fit(X_train, y_train)"
   ]
  },
  {
   "cell_type": "code",
   "execution_count": 91,
   "metadata": {},
   "outputs": [
    {
     "data": {
      "text/plain": [
       "{'max_depth': 50, 'min_samples_leaf': 5}"
      ]
     },
     "execution_count": 91,
     "metadata": {},
     "output_type": "execute_result"
    }
   ],
   "source": [
    "model_rf_tuned.best_params_"
   ]
  },
  {
   "cell_type": "markdown",
   "metadata": {},
   "source": [
    "# 8.17 Accuracy on Validation "
   ]
  },
  {
   "cell_type": "code",
   "execution_count": 92,
   "metadata": {},
   "outputs": [
    {
     "name": "stdout",
     "output_type": "stream",
     "text": [
      "Accuracy on validation set: 0.737\n"
     ]
    }
   ],
   "source": [
    "print('Accuracy on validation set:', round(model_rf_tuned.best_score_,3))"
   ]
  },
  {
   "cell_type": "markdown",
   "metadata": {},
   "source": [
    "\n",
    "After tuning, fitting has improved to 0.737. So far, this is the best performing model. "
   ]
  },
  {
   "cell_type": "code",
   "execution_count": 93,
   "metadata": {},
   "outputs": [
    {
     "data": {
      "text/html": [
       "<div>\n",
       "<style scoped>\n",
       "    .dataframe tbody tr th:only-of-type {\n",
       "        vertical-align: middle;\n",
       "    }\n",
       "\n",
       "    .dataframe tbody tr th {\n",
       "        vertical-align: top;\n",
       "    }\n",
       "\n",
       "    .dataframe thead th {\n",
       "        text-align: right;\n",
       "    }\n",
       "</style>\n",
       "<table border=\"1\" class=\"dataframe\">\n",
       "  <thead>\n",
       "    <tr style=\"text-align: right;\">\n",
       "      <th></th>\n",
       "      <th>mean_fit_time</th>\n",
       "      <th>std_fit_time</th>\n",
       "      <th>mean_score_time</th>\n",
       "      <th>std_score_time</th>\n",
       "      <th>param_max_depth</th>\n",
       "      <th>param_min_samples_leaf</th>\n",
       "      <th>params</th>\n",
       "      <th>split0_test_score</th>\n",
       "      <th>split1_test_score</th>\n",
       "      <th>split2_test_score</th>\n",
       "      <th>...</th>\n",
       "      <th>mean_test_score</th>\n",
       "      <th>std_test_score</th>\n",
       "      <th>rank_test_score</th>\n",
       "      <th>split0_train_score</th>\n",
       "      <th>split1_train_score</th>\n",
       "      <th>split2_train_score</th>\n",
       "      <th>split3_train_score</th>\n",
       "      <th>split4_train_score</th>\n",
       "      <th>mean_train_score</th>\n",
       "      <th>std_train_score</th>\n",
       "    </tr>\n",
       "  </thead>\n",
       "  <tbody>\n",
       "    <tr>\n",
       "      <td>0</td>\n",
       "      <td>0.689756</td>\n",
       "      <td>0.124663</td>\n",
       "      <td>0.260504</td>\n",
       "      <td>0.108161</td>\n",
       "      <td>10</td>\n",
       "      <td>5</td>\n",
       "      <td>{'max_depth': 10, 'min_samples_leaf': 5}</td>\n",
       "      <td>0.731642</td>\n",
       "      <td>0.730975</td>\n",
       "      <td>0.729640</td>\n",
       "      <td>...</td>\n",
       "      <td>0.731437</td>\n",
       "      <td>0.002943</td>\n",
       "      <td>9</td>\n",
       "      <td>0.735893</td>\n",
       "      <td>0.737730</td>\n",
       "      <td>0.736728</td>\n",
       "      <td>0.734769</td>\n",
       "      <td>0.739442</td>\n",
       "      <td>0.736912</td>\n",
       "      <td>0.001596</td>\n",
       "    </tr>\n",
       "    <tr>\n",
       "      <td>1</td>\n",
       "      <td>0.701127</td>\n",
       "      <td>0.224530</td>\n",
       "      <td>0.188296</td>\n",
       "      <td>0.058789</td>\n",
       "      <td>10</td>\n",
       "      <td>10</td>\n",
       "      <td>{'max_depth': 10, 'min_samples_leaf': 10}</td>\n",
       "      <td>0.728304</td>\n",
       "      <td>0.729640</td>\n",
       "      <td>0.727637</td>\n",
       "      <td>...</td>\n",
       "      <td>0.728633</td>\n",
       "      <td>0.001428</td>\n",
       "      <td>14</td>\n",
       "      <td>0.731052</td>\n",
       "      <td>0.735392</td>\n",
       "      <td>0.731553</td>\n",
       "      <td>0.729594</td>\n",
       "      <td>0.736271</td>\n",
       "      <td>0.732772</td>\n",
       "      <td>0.002594</td>\n",
       "    </tr>\n",
       "    <tr>\n",
       "      <td>2</td>\n",
       "      <td>0.668216</td>\n",
       "      <td>0.115478</td>\n",
       "      <td>0.187098</td>\n",
       "      <td>0.056787</td>\n",
       "      <td>10</td>\n",
       "      <td>15</td>\n",
       "      <td>{'max_depth': 10, 'min_samples_leaf': 15}</td>\n",
       "      <td>0.727637</td>\n",
       "      <td>0.726969</td>\n",
       "      <td>0.725634</td>\n",
       "      <td>...</td>\n",
       "      <td>0.725293</td>\n",
       "      <td>0.001905</td>\n",
       "      <td>19</td>\n",
       "      <td>0.730217</td>\n",
       "      <td>0.732220</td>\n",
       "      <td>0.730718</td>\n",
       "      <td>0.722417</td>\n",
       "      <td>0.730596</td>\n",
       "      <td>0.729234</td>\n",
       "      <td>0.003476</td>\n",
       "    </tr>\n",
       "    <tr>\n",
       "      <td>3</td>\n",
       "      <td>0.645873</td>\n",
       "      <td>0.129719</td>\n",
       "      <td>0.191488</td>\n",
       "      <td>0.061651</td>\n",
       "      <td>10</td>\n",
       "      <td>20</td>\n",
       "      <td>{'max_depth': 10, 'min_samples_leaf': 20}</td>\n",
       "      <td>0.721629</td>\n",
       "      <td>0.725634</td>\n",
       "      <td>0.721629</td>\n",
       "      <td>...</td>\n",
       "      <td>0.722088</td>\n",
       "      <td>0.001862</td>\n",
       "      <td>20</td>\n",
       "      <td>0.724374</td>\n",
       "      <td>0.729883</td>\n",
       "      <td>0.727880</td>\n",
       "      <td>0.720247</td>\n",
       "      <td>0.727758</td>\n",
       "      <td>0.726028</td>\n",
       "      <td>0.003389</td>\n",
       "    </tr>\n",
       "    <tr>\n",
       "      <td>4</td>\n",
       "      <td>0.823398</td>\n",
       "      <td>0.101214</td>\n",
       "      <td>0.268084</td>\n",
       "      <td>0.045241</td>\n",
       "      <td>20</td>\n",
       "      <td>5</td>\n",
       "      <td>{'max_depth': 20, 'min_samples_leaf': 5}</td>\n",
       "      <td>0.738318</td>\n",
       "      <td>0.729640</td>\n",
       "      <td>0.728972</td>\n",
       "      <td>...</td>\n",
       "      <td>0.735177</td>\n",
       "      <td>0.006137</td>\n",
       "      <td>4</td>\n",
       "      <td>0.744908</td>\n",
       "      <td>0.746745</td>\n",
       "      <td>0.745075</td>\n",
       "      <td>0.744784</td>\n",
       "      <td>0.748790</td>\n",
       "      <td>0.746060</td>\n",
       "      <td>0.001539</td>\n",
       "    </tr>\n",
       "    <tr>\n",
       "      <td>5</td>\n",
       "      <td>0.882241</td>\n",
       "      <td>0.066061</td>\n",
       "      <td>0.296408</td>\n",
       "      <td>0.025879</td>\n",
       "      <td>20</td>\n",
       "      <td>10</td>\n",
       "      <td>{'max_depth': 20, 'min_samples_leaf': 10}</td>\n",
       "      <td>0.734312</td>\n",
       "      <td>0.731642</td>\n",
       "      <td>0.729640</td>\n",
       "      <td>...</td>\n",
       "      <td>0.733441</td>\n",
       "      <td>0.004338</td>\n",
       "      <td>7</td>\n",
       "      <td>0.739399</td>\n",
       "      <td>0.741569</td>\n",
       "      <td>0.739900</td>\n",
       "      <td>0.737606</td>\n",
       "      <td>0.739943</td>\n",
       "      <td>0.739684</td>\n",
       "      <td>0.001270</td>\n",
       "    </tr>\n",
       "    <tr>\n",
       "      <td>6</td>\n",
       "      <td>0.759569</td>\n",
       "      <td>0.096390</td>\n",
       "      <td>0.167752</td>\n",
       "      <td>0.071351</td>\n",
       "      <td>20</td>\n",
       "      <td>15</td>\n",
       "      <td>{'max_depth': 20, 'min_samples_leaf': 15}</td>\n",
       "      <td>0.730975</td>\n",
       "      <td>0.726302</td>\n",
       "      <td>0.730307</td>\n",
       "      <td>...</td>\n",
       "      <td>0.729701</td>\n",
       "      <td>0.002264</td>\n",
       "      <td>13</td>\n",
       "      <td>0.736227</td>\n",
       "      <td>0.737896</td>\n",
       "      <td>0.737229</td>\n",
       "      <td>0.731097</td>\n",
       "      <td>0.736939</td>\n",
       "      <td>0.735878</td>\n",
       "      <td>0.002450</td>\n",
       "    </tr>\n",
       "    <tr>\n",
       "      <td>7</td>\n",
       "      <td>0.791285</td>\n",
       "      <td>0.083336</td>\n",
       "      <td>0.248536</td>\n",
       "      <td>0.077431</td>\n",
       "      <td>20</td>\n",
       "      <td>20</td>\n",
       "      <td>{'max_depth': 20, 'min_samples_leaf': 20}</td>\n",
       "      <td>0.729640</td>\n",
       "      <td>0.727637</td>\n",
       "      <td>0.727637</td>\n",
       "      <td>...</td>\n",
       "      <td>0.727430</td>\n",
       "      <td>0.002479</td>\n",
       "      <td>16</td>\n",
       "      <td>0.732387</td>\n",
       "      <td>0.736394</td>\n",
       "      <td>0.732387</td>\n",
       "      <td>0.726256</td>\n",
       "      <td>0.732599</td>\n",
       "      <td>0.732005</td>\n",
       "      <td>0.003254</td>\n",
       "    </tr>\n",
       "    <tr>\n",
       "      <td>8</td>\n",
       "      <td>0.927319</td>\n",
       "      <td>0.142033</td>\n",
       "      <td>0.293016</td>\n",
       "      <td>0.094225</td>\n",
       "      <td>30</td>\n",
       "      <td>5</td>\n",
       "      <td>{'max_depth': 30, 'min_samples_leaf': 5}</td>\n",
       "      <td>0.739653</td>\n",
       "      <td>0.731642</td>\n",
       "      <td>0.731642</td>\n",
       "      <td>...</td>\n",
       "      <td>0.736379</td>\n",
       "      <td>0.004869</td>\n",
       "      <td>3</td>\n",
       "      <td>0.744741</td>\n",
       "      <td>0.748748</td>\n",
       "      <td>0.747412</td>\n",
       "      <td>0.747955</td>\n",
       "      <td>0.754131</td>\n",
       "      <td>0.748598</td>\n",
       "      <td>0.003077</td>\n",
       "    </tr>\n",
       "    <tr>\n",
       "      <td>9</td>\n",
       "      <td>0.826391</td>\n",
       "      <td>0.027871</td>\n",
       "      <td>0.229985</td>\n",
       "      <td>0.064485</td>\n",
       "      <td>30</td>\n",
       "      <td>10</td>\n",
       "      <td>{'max_depth': 30, 'min_samples_leaf': 10}</td>\n",
       "      <td>0.734980</td>\n",
       "      <td>0.730307</td>\n",
       "      <td>0.728304</td>\n",
       "      <td>...</td>\n",
       "      <td>0.733174</td>\n",
       "      <td>0.005001</td>\n",
       "      <td>8</td>\n",
       "      <td>0.740234</td>\n",
       "      <td>0.741569</td>\n",
       "      <td>0.740401</td>\n",
       "      <td>0.737106</td>\n",
       "      <td>0.739943</td>\n",
       "      <td>0.739851</td>\n",
       "      <td>0.001480</td>\n",
       "    </tr>\n",
       "    <tr>\n",
       "      <td>10</td>\n",
       "      <td>0.925725</td>\n",
       "      <td>0.105954</td>\n",
       "      <td>0.250930</td>\n",
       "      <td>0.050467</td>\n",
       "      <td>30</td>\n",
       "      <td>15</td>\n",
       "      <td>{'max_depth': 30, 'min_samples_leaf': 15}</td>\n",
       "      <td>0.733645</td>\n",
       "      <td>0.728304</td>\n",
       "      <td>0.729640</td>\n",
       "      <td>...</td>\n",
       "      <td>0.730101</td>\n",
       "      <td>0.002798</td>\n",
       "      <td>12</td>\n",
       "      <td>0.737730</td>\n",
       "      <td>0.737730</td>\n",
       "      <td>0.736227</td>\n",
       "      <td>0.731097</td>\n",
       "      <td>0.736271</td>\n",
       "      <td>0.735811</td>\n",
       "      <td>0.002448</td>\n",
       "    </tr>\n",
       "    <tr>\n",
       "      <td>11</td>\n",
       "      <td>0.842947</td>\n",
       "      <td>0.044875</td>\n",
       "      <td>0.315158</td>\n",
       "      <td>0.041897</td>\n",
       "      <td>30</td>\n",
       "      <td>20</td>\n",
       "      <td>{'max_depth': 30, 'min_samples_leaf': 20}</td>\n",
       "      <td>0.730307</td>\n",
       "      <td>0.726969</td>\n",
       "      <td>0.727637</td>\n",
       "      <td>...</td>\n",
       "      <td>0.727430</td>\n",
       "      <td>0.001604</td>\n",
       "      <td>15</td>\n",
       "      <td>0.734224</td>\n",
       "      <td>0.737896</td>\n",
       "      <td>0.732888</td>\n",
       "      <td>0.726089</td>\n",
       "      <td>0.734435</td>\n",
       "      <td>0.733106</td>\n",
       "      <td>0.003879</td>\n",
       "    </tr>\n",
       "    <tr>\n",
       "      <td>12</td>\n",
       "      <td>0.896004</td>\n",
       "      <td>0.071161</td>\n",
       "      <td>0.360437</td>\n",
       "      <td>0.031264</td>\n",
       "      <td>40</td>\n",
       "      <td>5</td>\n",
       "      <td>{'max_depth': 40, 'min_samples_leaf': 5}</td>\n",
       "      <td>0.736983</td>\n",
       "      <td>0.731642</td>\n",
       "      <td>0.737650</td>\n",
       "      <td>...</td>\n",
       "      <td>0.737047</td>\n",
       "      <td>0.003835</td>\n",
       "      <td>2</td>\n",
       "      <td>0.745075</td>\n",
       "      <td>0.750417</td>\n",
       "      <td>0.750250</td>\n",
       "      <td>0.749458</td>\n",
       "      <td>0.753130</td>\n",
       "      <td>0.749666</td>\n",
       "      <td>0.002609</td>\n",
       "    </tr>\n",
       "    <tr>\n",
       "      <td>13</td>\n",
       "      <td>0.983571</td>\n",
       "      <td>0.079537</td>\n",
       "      <td>0.260902</td>\n",
       "      <td>0.055185</td>\n",
       "      <td>40</td>\n",
       "      <td>10</td>\n",
       "      <td>{'max_depth': 40, 'min_samples_leaf': 10}</td>\n",
       "      <td>0.736983</td>\n",
       "      <td>0.731642</td>\n",
       "      <td>0.727637</td>\n",
       "      <td>...</td>\n",
       "      <td>0.733842</td>\n",
       "      <td>0.005433</td>\n",
       "      <td>5</td>\n",
       "      <td>0.741903</td>\n",
       "      <td>0.742905</td>\n",
       "      <td>0.740902</td>\n",
       "      <td>0.736772</td>\n",
       "      <td>0.740778</td>\n",
       "      <td>0.740652</td>\n",
       "      <td>0.002087</td>\n",
       "    </tr>\n",
       "    <tr>\n",
       "      <td>14</td>\n",
       "      <td>0.739222</td>\n",
       "      <td>0.071737</td>\n",
       "      <td>0.215626</td>\n",
       "      <td>0.046320</td>\n",
       "      <td>40</td>\n",
       "      <td>15</td>\n",
       "      <td>{'max_depth': 40, 'min_samples_leaf': 15}</td>\n",
       "      <td>0.732310</td>\n",
       "      <td>0.728304</td>\n",
       "      <td>0.729640</td>\n",
       "      <td>...</td>\n",
       "      <td>0.730235</td>\n",
       "      <td>0.001971</td>\n",
       "      <td>10</td>\n",
       "      <td>0.736060</td>\n",
       "      <td>0.737730</td>\n",
       "      <td>0.736561</td>\n",
       "      <td>0.731264</td>\n",
       "      <td>0.736271</td>\n",
       "      <td>0.735577</td>\n",
       "      <td>0.002233</td>\n",
       "    </tr>\n",
       "    <tr>\n",
       "      <td>15</td>\n",
       "      <td>0.806643</td>\n",
       "      <td>0.055756</td>\n",
       "      <td>0.244946</td>\n",
       "      <td>0.067232</td>\n",
       "      <td>40</td>\n",
       "      <td>20</td>\n",
       "      <td>{'max_depth': 40, 'min_samples_leaf': 20}</td>\n",
       "      <td>0.729640</td>\n",
       "      <td>0.725634</td>\n",
       "      <td>0.727637</td>\n",
       "      <td>...</td>\n",
       "      <td>0.727030</td>\n",
       "      <td>0.001528</td>\n",
       "      <td>17</td>\n",
       "      <td>0.734057</td>\n",
       "      <td>0.737396</td>\n",
       "      <td>0.732888</td>\n",
       "      <td>0.726089</td>\n",
       "      <td>0.734101</td>\n",
       "      <td>0.732906</td>\n",
       "      <td>0.003725</td>\n",
       "    </tr>\n",
       "    <tr>\n",
       "      <td>16</td>\n",
       "      <td>0.976591</td>\n",
       "      <td>0.096929</td>\n",
       "      <td>0.257710</td>\n",
       "      <td>0.054970</td>\n",
       "      <td>50</td>\n",
       "      <td>5</td>\n",
       "      <td>{'max_depth': 50, 'min_samples_leaf': 5}</td>\n",
       "      <td>0.740320</td>\n",
       "      <td>0.732310</td>\n",
       "      <td>0.736315</td>\n",
       "      <td>...</td>\n",
       "      <td>0.737447</td>\n",
       "      <td>0.004608</td>\n",
       "      <td>1</td>\n",
       "      <td>0.746745</td>\n",
       "      <td>0.750417</td>\n",
       "      <td>0.749750</td>\n",
       "      <td>0.751627</td>\n",
       "      <td>0.753964</td>\n",
       "      <td>0.750501</td>\n",
       "      <td>0.002364</td>\n",
       "    </tr>\n",
       "    <tr>\n",
       "      <td>17</td>\n",
       "      <td>0.889024</td>\n",
       "      <td>0.104759</td>\n",
       "      <td>0.300997</td>\n",
       "      <td>0.063318</td>\n",
       "      <td>50</td>\n",
       "      <td>10</td>\n",
       "      <td>{'max_depth': 50, 'min_samples_leaf': 10}</td>\n",
       "      <td>0.736983</td>\n",
       "      <td>0.731642</td>\n",
       "      <td>0.728304</td>\n",
       "      <td>...</td>\n",
       "      <td>0.733841</td>\n",
       "      <td>0.005064</td>\n",
       "      <td>6</td>\n",
       "      <td>0.741903</td>\n",
       "      <td>0.742905</td>\n",
       "      <td>0.740735</td>\n",
       "      <td>0.736605</td>\n",
       "      <td>0.740778</td>\n",
       "      <td>0.740585</td>\n",
       "      <td>0.002146</td>\n",
       "    </tr>\n",
       "    <tr>\n",
       "      <td>18</td>\n",
       "      <td>0.864290</td>\n",
       "      <td>0.102480</td>\n",
       "      <td>0.212234</td>\n",
       "      <td>0.031799</td>\n",
       "      <td>50</td>\n",
       "      <td>15</td>\n",
       "      <td>{'max_depth': 50, 'min_samples_leaf': 15}</td>\n",
       "      <td>0.732310</td>\n",
       "      <td>0.728304</td>\n",
       "      <td>0.729640</td>\n",
       "      <td>...</td>\n",
       "      <td>0.730235</td>\n",
       "      <td>0.001971</td>\n",
       "      <td>10</td>\n",
       "      <td>0.736060</td>\n",
       "      <td>0.737730</td>\n",
       "      <td>0.736561</td>\n",
       "      <td>0.731264</td>\n",
       "      <td>0.736438</td>\n",
       "      <td>0.735610</td>\n",
       "      <td>0.002244</td>\n",
       "    </tr>\n",
       "    <tr>\n",
       "      <td>19</td>\n",
       "      <td>0.765154</td>\n",
       "      <td>0.075311</td>\n",
       "      <td>0.189423</td>\n",
       "      <td>0.073171</td>\n",
       "      <td>50</td>\n",
       "      <td>20</td>\n",
       "      <td>{'max_depth': 50, 'min_samples_leaf': 20}</td>\n",
       "      <td>0.729640</td>\n",
       "      <td>0.725634</td>\n",
       "      <td>0.727637</td>\n",
       "      <td>...</td>\n",
       "      <td>0.727030</td>\n",
       "      <td>0.001528</td>\n",
       "      <td>17</td>\n",
       "      <td>0.734057</td>\n",
       "      <td>0.737396</td>\n",
       "      <td>0.732888</td>\n",
       "      <td>0.726089</td>\n",
       "      <td>0.734101</td>\n",
       "      <td>0.732906</td>\n",
       "      <td>0.003725</td>\n",
       "    </tr>\n",
       "  </tbody>\n",
       "</table>\n",
       "<p>20 rows × 22 columns</p>\n",
       "</div>"
      ],
      "text/plain": [
       "    mean_fit_time  std_fit_time  mean_score_time  std_score_time  \\\n",
       "0        0.689756      0.124663         0.260504        0.108161   \n",
       "1        0.701127      0.224530         0.188296        0.058789   \n",
       "2        0.668216      0.115478         0.187098        0.056787   \n",
       "3        0.645873      0.129719         0.191488        0.061651   \n",
       "4        0.823398      0.101214         0.268084        0.045241   \n",
       "5        0.882241      0.066061         0.296408        0.025879   \n",
       "6        0.759569      0.096390         0.167752        0.071351   \n",
       "7        0.791285      0.083336         0.248536        0.077431   \n",
       "8        0.927319      0.142033         0.293016        0.094225   \n",
       "9        0.826391      0.027871         0.229985        0.064485   \n",
       "10       0.925725      0.105954         0.250930        0.050467   \n",
       "11       0.842947      0.044875         0.315158        0.041897   \n",
       "12       0.896004      0.071161         0.360437        0.031264   \n",
       "13       0.983571      0.079537         0.260902        0.055185   \n",
       "14       0.739222      0.071737         0.215626        0.046320   \n",
       "15       0.806643      0.055756         0.244946        0.067232   \n",
       "16       0.976591      0.096929         0.257710        0.054970   \n",
       "17       0.889024      0.104759         0.300997        0.063318   \n",
       "18       0.864290      0.102480         0.212234        0.031799   \n",
       "19       0.765154      0.075311         0.189423        0.073171   \n",
       "\n",
       "   param_max_depth param_min_samples_leaf  \\\n",
       "0               10                      5   \n",
       "1               10                     10   \n",
       "2               10                     15   \n",
       "3               10                     20   \n",
       "4               20                      5   \n",
       "5               20                     10   \n",
       "6               20                     15   \n",
       "7               20                     20   \n",
       "8               30                      5   \n",
       "9               30                     10   \n",
       "10              30                     15   \n",
       "11              30                     20   \n",
       "12              40                      5   \n",
       "13              40                     10   \n",
       "14              40                     15   \n",
       "15              40                     20   \n",
       "16              50                      5   \n",
       "17              50                     10   \n",
       "18              50                     15   \n",
       "19              50                     20   \n",
       "\n",
       "                                       params  split0_test_score  \\\n",
       "0    {'max_depth': 10, 'min_samples_leaf': 5}           0.731642   \n",
       "1   {'max_depth': 10, 'min_samples_leaf': 10}           0.728304   \n",
       "2   {'max_depth': 10, 'min_samples_leaf': 15}           0.727637   \n",
       "3   {'max_depth': 10, 'min_samples_leaf': 20}           0.721629   \n",
       "4    {'max_depth': 20, 'min_samples_leaf': 5}           0.738318   \n",
       "5   {'max_depth': 20, 'min_samples_leaf': 10}           0.734312   \n",
       "6   {'max_depth': 20, 'min_samples_leaf': 15}           0.730975   \n",
       "7   {'max_depth': 20, 'min_samples_leaf': 20}           0.729640   \n",
       "8    {'max_depth': 30, 'min_samples_leaf': 5}           0.739653   \n",
       "9   {'max_depth': 30, 'min_samples_leaf': 10}           0.734980   \n",
       "10  {'max_depth': 30, 'min_samples_leaf': 15}           0.733645   \n",
       "11  {'max_depth': 30, 'min_samples_leaf': 20}           0.730307   \n",
       "12   {'max_depth': 40, 'min_samples_leaf': 5}           0.736983   \n",
       "13  {'max_depth': 40, 'min_samples_leaf': 10}           0.736983   \n",
       "14  {'max_depth': 40, 'min_samples_leaf': 15}           0.732310   \n",
       "15  {'max_depth': 40, 'min_samples_leaf': 20}           0.729640   \n",
       "16   {'max_depth': 50, 'min_samples_leaf': 5}           0.740320   \n",
       "17  {'max_depth': 50, 'min_samples_leaf': 10}           0.736983   \n",
       "18  {'max_depth': 50, 'min_samples_leaf': 15}           0.732310   \n",
       "19  {'max_depth': 50, 'min_samples_leaf': 20}           0.729640   \n",
       "\n",
       "    split1_test_score  split2_test_score  ...  mean_test_score  \\\n",
       "0            0.730975           0.729640  ...         0.731437   \n",
       "1            0.729640           0.727637  ...         0.728633   \n",
       "2            0.726969           0.725634  ...         0.725293   \n",
       "3            0.725634           0.721629  ...         0.722088   \n",
       "4            0.729640           0.728972  ...         0.735177   \n",
       "5            0.731642           0.729640  ...         0.733441   \n",
       "6            0.726302           0.730307  ...         0.729701   \n",
       "7            0.727637           0.727637  ...         0.727430   \n",
       "8            0.731642           0.731642  ...         0.736379   \n",
       "9            0.730307           0.728304  ...         0.733174   \n",
       "10           0.728304           0.729640  ...         0.730101   \n",
       "11           0.726969           0.727637  ...         0.727430   \n",
       "12           0.731642           0.737650  ...         0.737047   \n",
       "13           0.731642           0.727637  ...         0.733842   \n",
       "14           0.728304           0.729640  ...         0.730235   \n",
       "15           0.725634           0.727637  ...         0.727030   \n",
       "16           0.732310           0.736315  ...         0.737447   \n",
       "17           0.731642           0.728304  ...         0.733841   \n",
       "18           0.728304           0.729640  ...         0.730235   \n",
       "19           0.725634           0.727637  ...         0.727030   \n",
       "\n",
       "    std_test_score  rank_test_score  split0_train_score  split1_train_score  \\\n",
       "0         0.002943                9            0.735893            0.737730   \n",
       "1         0.001428               14            0.731052            0.735392   \n",
       "2         0.001905               19            0.730217            0.732220   \n",
       "3         0.001862               20            0.724374            0.729883   \n",
       "4         0.006137                4            0.744908            0.746745   \n",
       "5         0.004338                7            0.739399            0.741569   \n",
       "6         0.002264               13            0.736227            0.737896   \n",
       "7         0.002479               16            0.732387            0.736394   \n",
       "8         0.004869                3            0.744741            0.748748   \n",
       "9         0.005001                8            0.740234            0.741569   \n",
       "10        0.002798               12            0.737730            0.737730   \n",
       "11        0.001604               15            0.734224            0.737896   \n",
       "12        0.003835                2            0.745075            0.750417   \n",
       "13        0.005433                5            0.741903            0.742905   \n",
       "14        0.001971               10            0.736060            0.737730   \n",
       "15        0.001528               17            0.734057            0.737396   \n",
       "16        0.004608                1            0.746745            0.750417   \n",
       "17        0.005064                6            0.741903            0.742905   \n",
       "18        0.001971               10            0.736060            0.737730   \n",
       "19        0.001528               17            0.734057            0.737396   \n",
       "\n",
       "    split2_train_score  split3_train_score  split4_train_score  \\\n",
       "0             0.736728            0.734769            0.739442   \n",
       "1             0.731553            0.729594            0.736271   \n",
       "2             0.730718            0.722417            0.730596   \n",
       "3             0.727880            0.720247            0.727758   \n",
       "4             0.745075            0.744784            0.748790   \n",
       "5             0.739900            0.737606            0.739943   \n",
       "6             0.737229            0.731097            0.736939   \n",
       "7             0.732387            0.726256            0.732599   \n",
       "8             0.747412            0.747955            0.754131   \n",
       "9             0.740401            0.737106            0.739943   \n",
       "10            0.736227            0.731097            0.736271   \n",
       "11            0.732888            0.726089            0.734435   \n",
       "12            0.750250            0.749458            0.753130   \n",
       "13            0.740902            0.736772            0.740778   \n",
       "14            0.736561            0.731264            0.736271   \n",
       "15            0.732888            0.726089            0.734101   \n",
       "16            0.749750            0.751627            0.753964   \n",
       "17            0.740735            0.736605            0.740778   \n",
       "18            0.736561            0.731264            0.736438   \n",
       "19            0.732888            0.726089            0.734101   \n",
       "\n",
       "    mean_train_score  std_train_score  \n",
       "0           0.736912         0.001596  \n",
       "1           0.732772         0.002594  \n",
       "2           0.729234         0.003476  \n",
       "3           0.726028         0.003389  \n",
       "4           0.746060         0.001539  \n",
       "5           0.739684         0.001270  \n",
       "6           0.735878         0.002450  \n",
       "7           0.732005         0.003254  \n",
       "8           0.748598         0.003077  \n",
       "9           0.739851         0.001480  \n",
       "10          0.735811         0.002448  \n",
       "11          0.733106         0.003879  \n",
       "12          0.749666         0.002609  \n",
       "13          0.740652         0.002087  \n",
       "14          0.735577         0.002233  \n",
       "15          0.732906         0.003725  \n",
       "16          0.750501         0.002364  \n",
       "17          0.740585         0.002146  \n",
       "18          0.735610         0.002244  \n",
       "19          0.732906         0.003725  \n",
       "\n",
       "[20 rows x 22 columns]"
      ]
     },
     "execution_count": 93,
     "metadata": {},
     "output_type": "execute_result"
    }
   ],
   "source": [
    "pd.DataFrame(model_rf_tuned.cv_results_)"
   ]
  },
  {
   "cell_type": "markdown",
   "metadata": {},
   "source": [
    "# 8.18 Hyper parameterization - Part II"
   ]
  },
  {
   "cell_type": "code",
   "execution_count": 94,
   "metadata": {},
   "outputs": [],
   "source": [
    "skf = StratifiedKFold(n_splits=5,random_state=42)"
   ]
  },
  {
   "cell_type": "code",
   "execution_count": 95,
   "metadata": {},
   "outputs": [],
   "source": [
    "param_grid = {'max_depth':range(35,45+1,1),'min_samples_leaf':[3,4,5,6,7]}"
   ]
  },
  {
   "cell_type": "code",
   "execution_count": 96,
   "metadata": {},
   "outputs": [],
   "source": [
    "model_rf_grid = GridSearchCV(model_rf, param_grid, cv=5, scoring='accuracy',return_train_score=True,n_jobs=-1)"
   ]
  },
  {
   "cell_type": "code",
   "execution_count": 97,
   "metadata": {},
   "outputs": [
    {
     "data": {
      "text/plain": [
       "GridSearchCV(cv=5, error_score=nan,\n",
       "             estimator=RandomForestClassifier(bootstrap=True, ccp_alpha=0.0,\n",
       "                                              class_weight=None,\n",
       "                                              criterion='gini', max_depth=None,\n",
       "                                              max_features='auto',\n",
       "                                              max_leaf_nodes=None,\n",
       "                                              max_samples=None,\n",
       "                                              min_impurity_decrease=0.0,\n",
       "                                              min_impurity_split=None,\n",
       "                                              min_samples_leaf=1,\n",
       "                                              min_samples_split=2,\n",
       "                                              min_weight_fraction_leaf=0.0,\n",
       "                                              n_estimators=100, n_jobs=-1,\n",
       "                                              oob_score=False, random_state=42,\n",
       "                                              verbose=0, warm_start=False),\n",
       "             iid='deprecated', n_jobs=-1,\n",
       "             param_grid={'max_depth': range(35, 46),\n",
       "                         'min_samples_leaf': [3, 4, 5, 6, 7]},\n",
       "             pre_dispatch='2*n_jobs', refit=True, return_train_score=True,\n",
       "             scoring='accuracy', verbose=0)"
      ]
     },
     "execution_count": 97,
     "metadata": {},
     "output_type": "execute_result"
    }
   ],
   "source": [
    "model_rf_grid.fit(X_train, y_train)"
   ]
  },
  {
   "cell_type": "code",
   "execution_count": 98,
   "metadata": {},
   "outputs": [
    {
     "data": {
      "text/plain": [
       "{'max_depth': 41, 'min_samples_leaf': 3}"
      ]
     },
     "execution_count": 98,
     "metadata": {},
     "output_type": "execute_result"
    }
   ],
   "source": [
    "model_rf_grid.best_params_"
   ]
  },
  {
   "cell_type": "code",
   "execution_count": 99,
   "metadata": {},
   "outputs": [],
   "source": [
    "model_rf_tuned_2 = model_rf_grid.best_estimator_"
   ]
  },
  {
   "cell_type": "markdown",
   "metadata": {},
   "source": [
    "# 8.19 Accuracy on Validation "
   ]
  },
  {
   "cell_type": "code",
   "execution_count": 100,
   "metadata": {},
   "outputs": [
    {
     "name": "stdout",
     "output_type": "stream",
     "text": [
      "Accuracy on validation set: 0.214\n"
     ]
    }
   ],
   "source": [
    "print('Accuracy on validation set:', round(accuracy_score(y_val, model_rf_tuned_2.predict(X_val)),3))"
   ]
  },
  {
   "cell_type": "markdown",
   "metadata": {},
   "source": [
    "\n",
    "This hyper paramenters seems to deteriorate the performance of the model, and it is unable to compute the pd.DataFrame(model_rf_tuned_2.cv_results_) function. "
   ]
  },
  {
   "cell_type": "markdown",
   "metadata": {},
   "source": [
    "# 8.20 AdaBoost Classifier "
   ]
  },
  {
   "cell_type": "markdown",
   "metadata": {},
   "source": [
    "\n",
    "AdaBoost, short for Adaptive Boosting, is a machine learning meta-algorithm, which can be used in conjunction with many other types of learning algorithms to improve performance. The output of the other learning algorithms ('weak learners') is combined into a weighted sum that represents the final output of the boosted classifier. In some problems it can be less susceptible to the overfitting problem than other learning algorithms. The individual learners can be weak, but as long as the performance of each one is slightly better than random guessing, the final model can be proven to converge to a strong learner.\n",
    "\n",
    "AdaBoost (with decision trees as the weak learners) is often referred to as the best out-of-the-box classifier. When used with decision tree learning, information gathered at each stage of the AdaBoost algorithm about the relative 'hardness' of each training sample is fed into the tree growing algorithm such that later trees tend to focus on harder-to-classify examples."
   ]
  },
  {
   "cell_type": "markdown",
   "metadata": {},
   "source": [
    "# 7.21 Running AdaBoost Model "
   ]
  },
  {
   "cell_type": "code",
   "execution_count": 101,
   "metadata": {},
   "outputs": [
    {
     "data": {
      "text/plain": [
       "AdaBoostClassifier(algorithm='SAMME.R',\n",
       "                   base_estimator=RandomForestClassifier(bootstrap=True,\n",
       "                                                         ccp_alpha=0.0,\n",
       "                                                         class_weight=None,\n",
       "                                                         criterion='gini',\n",
       "                                                         max_depth=None,\n",
       "                                                         max_features='auto',\n",
       "                                                         max_leaf_nodes=None,\n",
       "                                                         max_samples=None,\n",
       "                                                         min_impurity_decrease=0.0,\n",
       "                                                         min_impurity_split=None,\n",
       "                                                         min_samples_leaf=1,\n",
       "                                                         min_samples_split=2,\n",
       "                                                         min_weight_fraction_leaf=0.0,\n",
       "                                                         n_estimators=100,\n",
       "                                                         n_jobs=-1,\n",
       "                                                         oob_score=False,\n",
       "                                                         random_state=42,\n",
       "                                                         verbose=0,\n",
       "                                                         warm_start=False),\n",
       "                   learning_rate=1.0, n_estimators=50, random_state=42)"
      ]
     },
     "execution_count": 101,
     "metadata": {},
     "output_type": "execute_result"
    }
   ],
   "source": [
    "model_ada = AdaBoostClassifier(model_rf,random_state=42)\n",
    "model_ada.fit(X_train_v,y_train_v)"
   ]
  },
  {
   "cell_type": "code",
   "execution_count": 102,
   "metadata": {},
   "outputs": [],
   "source": [
    "y_val_pred = model_ada.predict(X_val)"
   ]
  },
  {
   "cell_type": "code",
   "execution_count": 103,
   "metadata": {},
   "outputs": [
    {
     "data": {
      "text/plain": [
       "0.7202937249666221"
      ]
     },
     "execution_count": 103,
     "metadata": {},
     "output_type": "execute_result"
    }
   ],
   "source": [
    "accuracy_score(y_val, y_val_pred)"
   ]
  },
  {
   "cell_type": "markdown",
   "metadata": {},
   "source": [
    "\n",
    "The AdaBoost model performs well, but does not add anything to the best previous scores to the best random forest performing model. There was an attempt to tune the above AdaBoost model, with a range of learning rates. Yet, it was too computationally expensive."
   ]
  },
  {
   "cell_type": "markdown",
   "metadata": {},
   "source": [
    "# 9. Evaluation"
   ]
  },
  {
   "cell_type": "markdown",
   "metadata": {},
   "source": [
    "\n",
    "Final Model - Test Set"
   ]
  },
  {
   "cell_type": "markdown",
   "metadata": {},
   "source": [
    "\n",
    "The tuned random forest (Hyper Parametization - Part I), was selected as best fitting model. Below, are the scores for the test set. "
   ]
  },
  {
   "cell_type": "code",
   "execution_count": 104,
   "metadata": {},
   "outputs": [
    {
     "name": "stdout",
     "output_type": "stream",
     "text": [
      "Accuracy of model on test set = 0.235\n"
     ]
    }
   ],
   "source": [
    "y_test_pred = model_rf_tuned.predict(X_test)\n",
    "accuracy_score(y_test,y_test_pred)\n",
    "\n",
    "print(\"Accuracy of model on test set =\", round(accuracy_score(y_test,y_test_pred),3))"
   ]
  },
  {
   "cell_type": "code",
   "execution_count": 105,
   "metadata": {},
   "outputs": [
    {
     "ename": "AttributeError",
     "evalue": "'GridSearchCV' object has no attribute 'feature_importances_'",
     "output_type": "error",
     "traceback": [
      "\u001b[1;31m---------------------------------------------------------------------------\u001b[0m",
      "\u001b[1;31mAttributeError\u001b[0m                            Traceback (most recent call last)",
      "\u001b[1;32m<ipython-input-105-455af651445c>\u001b[0m in \u001b[0;36m<module>\u001b[1;34m\u001b[0m\n\u001b[1;32m----> 1\u001b[1;33m \u001b[0mfeature_importances\u001b[0m \u001b[1;33m=\u001b[0m \u001b[0mpd\u001b[0m\u001b[1;33m.\u001b[0m\u001b[0mDataFrame\u001b[0m\u001b[1;33m(\u001b[0m\u001b[0mmodel_rf_tuned\u001b[0m\u001b[1;33m.\u001b[0m\u001b[0mfeature_importances_\u001b[0m\u001b[1;33m)\u001b[0m\u001b[1;33m\u001b[0m\u001b[1;33m\u001b[0m\u001b[0m\n\u001b[0m\u001b[0;32m      2\u001b[0m \u001b[0mfeature_importances\u001b[0m\u001b[1;33m[\u001b[0m\u001b[1;36m1\u001b[0m\u001b[1;33m]\u001b[0m \u001b[1;33m=\u001b[0m \u001b[0mX\u001b[0m\u001b[1;33m.\u001b[0m\u001b[0mcolumns\u001b[0m\u001b[1;33m\u001b[0m\u001b[1;33m\u001b[0m\u001b[0m\n\u001b[0;32m      3\u001b[0m \u001b[1;33m\u001b[0m\u001b[0m\n\u001b[0;32m      4\u001b[0m \u001b[0mfeature_importances\u001b[0m\u001b[1;33m=\u001b[0m \u001b[0mfeature_importances\u001b[0m\u001b[1;33m.\u001b[0m\u001b[0msort_values\u001b[0m\u001b[1;33m(\u001b[0m\u001b[0mby\u001b[0m\u001b[1;33m=\u001b[0m\u001b[1;36m0\u001b[0m\u001b[1;33m,\u001b[0m \u001b[0mascending\u001b[0m\u001b[1;33m=\u001b[0m\u001b[1;32mFalse\u001b[0m\u001b[1;33m)\u001b[0m\u001b[1;33m.\u001b[0m\u001b[0mhead\u001b[0m\u001b[1;33m(\u001b[0m\u001b[1;36m20\u001b[0m\u001b[1;33m)\u001b[0m\u001b[1;33m\u001b[0m\u001b[1;33m\u001b[0m\u001b[0m\n\u001b[0;32m      5\u001b[0m \u001b[0mfeature_importances\u001b[0m\u001b[1;33m\u001b[0m\u001b[1;33m\u001b[0m\u001b[0m\n",
      "\u001b[1;31mAttributeError\u001b[0m: 'GridSearchCV' object has no attribute 'feature_importances_'"
     ]
    }
   ],
   "source": [
    "feature_importances = pd.DataFrame(model_rf_tuned.feature_importances_)\n",
    "feature_importances[1] = X.columns\n",
    "\n",
    "feature_importances= feature_importances.sort_values(by=0, ascending=False).head(20)\n",
    "feature_importances"
   ]
  },
  {
   "cell_type": "markdown",
   "metadata": {},
   "source": [
    "# 9.1 Feature Importance Bar chart "
   ]
  },
  {
   "cell_type": "code",
   "execution_count": null,
   "metadata": {},
   "outputs": [],
   "source": [
    "fig = plt.figure(figsize=(18,12))\n",
    "sns.barplot(feature_importances[1][:10], feature_importances[0][:10])\n",
    "plt.title('Feature Importances Bar Chart', fontsize=16, fontweight='bold')\n",
    "plt.ylabel('Feature Importances', fontsize=12)\n",
    "plt.ylim(0)\n",
    "plt.xlabel('Features', fontsize=12)\n",
    "plt.show()"
   ]
  },
  {
   "cell_type": "markdown",
   "metadata": {},
   "source": [
    "# 9.2 Binary Model - OneVsRestClassifier"
   ]
  },
  {
   "cell_type": "code",
   "execution_count": null,
   "metadata": {},
   "outputs": [],
   "source": [
    "multi_model_rf = OneVsRestClassifier(model_rf)\n",
    "multi_model_rf.fit(X_train_v,y_train_v)\n",
    "y_score = multi_model_rf.predict_proba(X_test)\n",
    "# structures\n",
    "fpr = dict()\n",
    "tpr = dict()\n",
    "roc_auc = dict()\n",
    "threshold = dict()\n",
    "# calculate dummies once\n",
    "y_test_dummies = pd.get_dummies(y_test, drop_first=False).values\n",
    "for i, label in zip(range(3),['Category', 'Size', 'Installs']):\n",
    "    fpr[label], tpr[label], threshold[label] = roc_curve(y_test_dummies[:, i], y_score[:, i])\n",
    "    roc_auc[label] = auc(fpr[label], tpr[label])\n",
    "# roc for each class\n",
    "fig, ax = plt.subplots(figsize=(20, 8))\n",
    "ax.plot([0, 1], [0, 1], 'k--')\n",
    "ax.set_xlim([0.0, 1.0])\n",
    "ax.set_ylim([0.0, 1.05])\n",
    "ax.set_xlabel('False Positive Rate')\n",
    "ax.set_ylabel('True Positive Rate')\n",
    "ax.set_title('ROC Curve')\n",
    "for i,label in zip(range(3),['Category', 'Size', 'Installs']):\n",
    "    ax.plot(fpr[label], tpr[label], label='ROC curve (area = {}) for {}'.format(round(roc_auc[label],3), label))\n",
    "ax.legend(loc=\"best\")\n",
    "ax.grid(alpha=.4)\n",
    "sns.despine()\n",
    "plt.show()"
   ]
  },
  {
   "cell_type": "code",
   "execution_count": null,
   "metadata": {},
   "outputs": [],
   "source": [
    "y_score_df = pd.DataFrame(y_score)\n",
    "y_score_df.rename(columns={0: \"functional\", 1: \"functional needs repair\", 2:\"non functional\"}, inplace=True)"
   ]
  },
  {
   "cell_type": "code",
   "execution_count": null,
   "metadata": {},
   "outputs": [],
   "source": [
    "a = list(y_score_df.idxmax(axis=1))"
   ]
  },
  {
   "cell_type": "code",
   "execution_count": null,
   "metadata": {},
   "outputs": [],
   "source": [
    "b = list(y_test_pred)"
   ]
  },
  {
   "cell_type": "code",
   "execution_count": null,
   "metadata": {},
   "outputs": [],
   "source": [
    "accuracy_score(y_test,b)"
   ]
  },
  {
   "cell_type": "markdown",
   "metadata": {},
   "source": [
    "# 9.3 Confusion Matrix "
   ]
  },
  {
   "cell_type": "code",
   "execution_count": null,
   "metadata": {},
   "outputs": [],
   "source": [
    "rdf_pred=model_ada.predict(X_test)\n",
    "rdf_cm=confusion_matrix(y_test,rdf_pred)\n",
    "rdf_ac=accuracy_score(rdf_pred,y_test)"
   ]
  },
  {
   "cell_type": "code",
   "execution_count": null,
   "metadata": {},
   "outputs": [],
   "source": [
    "plt.figure(figsize=(10,5))\n",
    "plt.title(\"Fine-tuned Random Forest Model - Confusion matrix (test_data) \\n x-axis : predicted; y-axis : true\")\n",
    "sns.heatmap(rdf_cm,annot=True,fmt=\"d\",cbar=False, linewidths=0.3)\n",
    "plt.savefig('final_conf_matrix.jpg')\n",
    "print('RandomForest_accuracy:',rdf_ac)"
   ]
  },
  {
   "cell_type": "markdown",
   "metadata": {},
   "source": [
    "# 9.4 Error bars - Feature importances"
   ]
  },
  {
   "cell_type": "code",
   "execution_count": null,
   "metadata": {},
   "outputs": [],
   "source": [
    "fig = plt.figure(figsize=(18,12))\n",
    "sns.barplot(feature_importances[1][:10], feature_importances[0][:10], yerr=np.std(feature_importances[0][:10]))\n",
    "plt.title('Feature Importances Bar Chart', fontsize=16, fontweight='bold')\n",
    "plt.ylabel('Feature Importances', fontsize=12)\n",
    "plt.ylim(0)\n",
    "plt.xlabel('Features', fontsize=12)\n",
    "plt.show()"
   ]
  },
  {
   "cell_type": "code",
   "execution_count": null,
   "metadata": {},
   "outputs": [],
   "source": [
    "df2.head()"
   ]
  },
  {
   "cell_type": "code",
   "execution_count": null,
   "metadata": {},
   "outputs": [],
   "source": [
    "plt.figure(figsize=(16,8))\n",
    "ax = sns.countplot(data=df2[:1000], x='Category', hue='Content Rating')\n",
    "plt.show()"
   ]
  },
  {
   "cell_type": "code",
   "execution_count": null,
   "metadata": {},
   "outputs": [],
   "source": []
  }
 ],
 "metadata": {
  "kernelspec": {
   "display_name": "Python 3",
   "language": "python",
   "name": "python3"
  },
  "language_info": {
   "codemirror_mode": {
    "name": "ipython",
    "version": 3
   },
   "file_extension": ".py",
   "mimetype": "text/x-python",
   "name": "python",
   "nbconvert_exporter": "python",
   "pygments_lexer": "ipython3",
   "version": "3.7.4"
  }
 },
 "nbformat": 4,
 "nbformat_minor": 2
}
