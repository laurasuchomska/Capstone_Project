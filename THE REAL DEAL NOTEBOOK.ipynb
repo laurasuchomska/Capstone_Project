{
 "cells": [
  {
   "cell_type": "markdown",
   "metadata": {},
   "source": [
    "# Hindsight*\n",
    "\n",
    "Learning from "
   ]
  },
  {
   "cell_type": "markdown",
   "metadata": {},
   "source": [
    "# Table of Contents:\n",
    "1. Importing Lbraries\n",
    "\n",
    "2. Uploading data\n",
    "\n",
    "3. Features\n",
    "\n",
    "4. Data Cleaning \n",
    "\n",
    "    4.1 Dropping rows with missing values\n",
    "    \n",
    "    4.2 Removing unecessary signs and simbols from the dataset\n",
    "    \n",
    "    \n",
    "5. Exploratory Data Analysis \n",
    "\n",
    "    5.1 Checking for Muilticolinearity\n",
    "    \n",
    "    5.2 Dropping strongly correlated variables in order to avoid confounding effects\n",
    "    \n",
    "\n",
    "6. Data Preparation\n",
    "    \n",
    "\n",
    "7. Modelling \n",
    "\n",
    "8. Conclusion\n",
    "\n",
    "# Executive Summary"
   ]
  },
  {
   "cell_type": "code",
   "execution_count": null,
   "metadata": {},
   "outputs": [],
   "source": []
  },
  {
   "cell_type": "code",
   "execution_count": null,
   "metadata": {},
   "outputs": [],
   "source": []
  },
  {
   "cell_type": "code",
   "execution_count": null,
   "metadata": {},
   "outputs": [],
   "source": []
  },
  {
   "cell_type": "code",
   "execution_count": null,
   "metadata": {},
   "outputs": [],
   "source": []
  },
  {
   "cell_type": "code",
   "execution_count": null,
   "metadata": {},
   "outputs": [],
   "source": []
  },
  {
   "cell_type": "code",
   "execution_count": null,
   "metadata": {},
   "outputs": [],
   "source": []
  },
  {
   "cell_type": "code",
   "execution_count": null,
   "metadata": {},
   "outputs": [],
   "source": []
  },
  {
   "cell_type": "code",
   "execution_count": null,
   "metadata": {},
   "outputs": [],
   "source": []
  },
  {
   "cell_type": "code",
   "execution_count": null,
   "metadata": {},
   "outputs": [],
   "source": []
  }
 ],
 "metadata": {
  "kernelspec": {
   "display_name": "Python 3",
   "language": "python",
   "name": "python3"
  },
  "language_info": {
   "codemirror_mode": {
    "name": "ipython",
    "version": 3
   },
   "file_extension": ".py",
   "mimetype": "text/x-python",
   "name": "python",
   "nbconvert_exporter": "python",
   "pygments_lexer": "ipython3",
   "version": "3.7.4"
  }
 },
 "nbformat": 4,
 "nbformat_minor": 2
}
